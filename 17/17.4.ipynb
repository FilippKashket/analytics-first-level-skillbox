{
 "cells": [
  {
   "cell_type": "code",
   "execution_count": 1,
   "metadata": {},
   "outputs": [
    {
     "data": {
      "text/html": "<div>\n<style scoped>\n    .dataframe tbody tr th:only-of-type {\n        vertical-align: middle;\n    }\n\n    .dataframe tbody tr th {\n        vertical-align: top;\n    }\n\n    .dataframe thead th {\n        text-align: right;\n    }\n</style>\n<table border=\"1\" class=\"dataframe\">\n  <thead>\n    <tr style=\"text-align: right;\">\n      <th></th>\n      <th>content</th>\n      <th>description</th>\n    </tr>\n  </thead>\n  <tbody>\n    <tr>\n      <th>0</th>\n      <td>https://www.ivi.ru/watch/157318/description</td>\n      <td>Лучший подарок, который только можно было прид...</td>\n    </tr>\n    <tr>\n      <th>1</th>\n      <td>https://www.ivi.ru/watch/98336/description</td>\n      <td>Через какие трудности приходится проходить Сан...</td>\n    </tr>\n    <tr>\n      <th>2</th>\n      <td>https://www.ivi.ru/watch/183533/description</td>\n      <td>Миловидный Давид - позор для своего отца. Не в...</td>\n    </tr>\n    <tr>\n      <th>3</th>\n      <td>https://www.ivi.ru/watch/157319/description</td>\n      <td>Экранизация сатирического бестселлера Стивена ...</td>\n    </tr>\n    <tr>\n      <th>4</th>\n      <td>https://www.ivi.ru/watch/51342/description</td>\n      <td>«Леди удача» – авантюрная романтическая комеди...</td>\n    </tr>\n  </tbody>\n</table>\n</div>",
      "text/plain": "                                       content  \\\n0  https://www.ivi.ru/watch/157318/description   \n1   https://www.ivi.ru/watch/98336/description   \n2  https://www.ivi.ru/watch/183533/description   \n3  https://www.ivi.ru/watch/157319/description   \n4   https://www.ivi.ru/watch/51342/description   \n\n                                         description  \n0  Лучший подарок, который только можно было прид...  \n1  Через какие трудности приходится проходить Сан...  \n2  Миловидный Давид - позор для своего отца. Не в...  \n3  Экранизация сатирического бестселлера Стивена ...  \n4  «Леди удача» – авантюрная романтическая комеди...  "
     },
     "execution_count": 1,
     "metadata": {},
     "output_type": "execute_result"
    }
   ],
   "source": [
    "import re\n",
    "import pandas as pd\n",
    "\n",
    "text_df = pd.read_csv(\"./data-2/content_description.csv\", sep='\\t')\n",
    "text_df.head()"
   ]
  },
  {
   "cell_type": "code",
   "execution_count": 2,
   "metadata": {},
   "outputs": [
    {
     "name": "stdout",
     "output_type": "stream",
     "text": "['через', 'какие', 'трудности', 'приходится', 'проходить', 'санта', 'клаусу', 'каждый', 'год', 'чтобы', 'под', 'каждой', 'елкой', 'появился', 'тот', 'самый', 'подарок', 'расскажет', 'мульт', 'нико', '2', 'маленький', 'олененок', 'нико', 'мечтает', 'продолжить', 'дело', 'отца', 'ведь', 'его', 'папа', 'самый', 'знаменитый', 'и', 'уважаемый', 'олень', 'на', 'свете', 'о', 'его', 'работе', 'мечтает', 'каждый', 'он', 'трудится', 'в', 'упряжке', 'самого', 'санта', 'клауса', 'но', 'сам', 'нико', 'пока', 'еще', 'слишком', 'маленький', 'для', 'такого', 'тяжелого', 'и', 'ответственного', 'дела', 'так', 'что', 'пока', 'он', 'сам', 'ждет', 'санту', 'с', 'подарками', 'накануне', 'рождества', 'он', 'встречается', 'со', 'своими', 'самыми', 'близкими', 'друзьями', 'белкой', 'джулиусом', 'лаской', 'вилмой', 'и', 'сводным', 'братишкой', 'джонни', 'чтобы', 'вместе', 'встречать', 'рождество', 'и', 'не', 'пропустить', 'заветную', 'оленью', 'упряжку', 'но', 'как', 'всегда', 'в', 'пути', 'санту', 'ждут', 'невероятные', 'приключения', 'на', 'этот', 'раз', 'все', 'настолько', 'серьезно', 'что', 'детишки', 'всего', 'мира', 'могут', 'и', 'вовсе', 'остаться', 'без', 'подарков', 'хорошо', 'что', 'нико', 'и', 'его', 'товарищи', 'всегда', 'готовы', 'прийти', 'на', 'помощь', 'им', 'не', 'страшны', 'любые', 'испытания', 'и', 'приключения', 'ведь', 'среди', 'них', 'достойный', 'сын', 'одного', 'из', 'оленей', 'упряжки', 'самого', 'санта', 'клауса', 'советуем', 'смотреть', 'онлайн', 'нико', '2', 'добрый', 'и', 'милый', 'рождественский', 'мультик', 'который', 'отлично', 'подойдет', 'для', 'семеного', 'просмотра']\n"
    }
   ],
   "source": [
    "corpus = []\n",
    "\n",
    "regular_expr=r'\\w+'\n",
    "regular_expr_compiled = re.compile(regular_expr)\n",
    "\n",
    "for raw_text in text_df.description.values:\n",
    "    raw_text_lower = raw_text.lower()\n",
    "\n",
    "    text_by_words = regular_expr_compiled.findall(raw_text_lower)\n",
    "    corpus.append(text_by_words)\n",
    "print(corpus[1])"
   ]
  },
  {
   "cell_type": "code",
   "execution_count": 4,
   "metadata": {},
   "outputs": [
    {
     "name": "stdout",
     "output_type": "stream",
     "text": "['через', 'какой', 'трудность', 'приходиться', 'проходить', 'сант', 'клаус', 'каждый', 'год', 'чтобы', 'под', 'каждый', 'ёлка', 'появиться', 'тот', 'самый', 'подарок', 'рассказать', 'мульт', 'нико', '2', 'маленький', 'оленёнок', 'нико', 'мечтать', 'продолжить', 'дело', 'отец', 'ведь', 'он', 'папа', 'самый', 'знаменитый', 'и', 'уважаемый', 'олень', 'на', 'свет', 'о', 'он', 'работа', 'мечтать', 'каждый', 'он', 'трудиться', 'в', 'упряжка', 'самый', 'сант', 'клаус', 'но', 'сам', 'нико', 'пока', 'ещё', 'слишком', 'маленький', 'для', 'такой', 'тяжёлый', 'и', 'ответственный', 'дело', 'так', 'что', 'пока', 'он', 'сам', 'ждать', 'сант', 'с', 'подарок', 'накануне', 'рождество', 'он', 'встречаться', 'с', 'свой', 'самый', 'близкие', 'друг', 'белка', 'джулиус', 'ласка', 'вилма', 'и', 'сводный', 'братишка', 'джонни', 'чтобы', 'вместе', 'встречать', 'рождество', 'и', 'не', 'пропустить', 'заветный', 'олений', 'упряжка', 'но', 'как', 'всегда', 'в', 'путь', 'сант', 'ждать', 'невероятный', 'приключение', 'на', 'этот', 'раз', 'весь', 'настолько', 'серьёзно', 'что', 'детишки', 'всего', 'мир', 'мочь', 'и', 'вовсе', 'остаться', 'без', 'подарок', 'хорошо', 'что', 'нико', 'и', 'он', 'товарищ', 'всегда', 'готовый', 'прийти', 'на', 'помощь', 'имя', 'не', 'страшный', 'любой', 'испытание', 'и', 'приключение', 'ведь', 'среди', 'они', 'достойный', 'сын', 'один', 'из', 'олень', 'упряжка', 'самый', 'сант', 'клаус', 'советовать', 'смотреть', 'онлайн', 'нико', '2', 'добрый', 'и', 'милый', 'рождественский', 'мультик', 'который', 'отлично', 'подойти', 'для', 'семеный', 'просмотр']\n"
    }
   ],
   "source": [
    "import pymorphy2\n",
    "\n",
    "normalized_corpus = []\n",
    "\n",
    "morph = pymorphy2.MorphAnalyzer()\n",
    "\n",
    "for token_list in corpus:\n",
    "    normalized_token_list = []\n",
    "    for word in token_list:\n",
    "        parsed_token = morph.parse(word)\n",
    "        normal_form = parsed_token[0].normal_form\n",
    "        normalized_token_list.append(normal_form)\n",
    "    normalized_corpus.append(normalized_token_list)\n",
    "print(normalized_corpus[1])"
   ]
  },
  {
   "cell_type": "code",
   "execution_count": 7,
   "metadata": {},
   "outputs": [
    {
     "data": {
      "text/html": "<div>\n<style scoped>\n    .dataframe tbody tr th:only-of-type {\n        vertical-align: middle;\n    }\n\n    .dataframe tbody tr th {\n        vertical-align: top;\n    }\n\n    .dataframe thead th {\n        text-align: right;\n    }\n</style>\n<table border=\"1\" class=\"dataframe\">\n  <thead>\n    <tr style=\"text-align: right;\">\n      <th></th>\n      <th>doc_id</th>\n      <th>word</th>\n      <th>dummy</th>\n    </tr>\n  </thead>\n  <tbody>\n    <tr>\n      <th>0</th>\n      <td>0</td>\n      <td>хороший</td>\n      <td>1</td>\n    </tr>\n    <tr>\n      <th>1</th>\n      <td>0</td>\n      <td>подарок</td>\n      <td>1</td>\n    </tr>\n    <tr>\n      <th>2</th>\n      <td>0</td>\n      <td>который</td>\n      <td>1</td>\n    </tr>\n    <tr>\n      <th>3</th>\n      <td>0</td>\n      <td>только</td>\n      <td>1</td>\n    </tr>\n    <tr>\n      <th>4</th>\n      <td>0</td>\n      <td>можно</td>\n      <td>1</td>\n    </tr>\n  </tbody>\n</table>\n</div>",
      "text/plain": "   doc_id     word  dummy\n0       0  хороший      1\n1       0  подарок      1\n2       0  который      1\n3       0   только      1\n4       0    можно      1"
     },
     "execution_count": 7,
     "metadata": {},
     "output_type": "execute_result"
    }
   ],
   "source": [
    "doc_count = len(normalized_corpus)\n",
    "doc_ids = []\n",
    "tokens = []\n",
    "\n",
    "for doc_id in range(doc_count):\n",
    "    for token in normalized_corpus[doc_id]:\n",
    "        doc_ids.append(doc_id)\n",
    "        tokens.append(token)\n",
    "\n",
    "tokens_df = pd.DataFrame({\n",
    "    'doc_id': doc_ids,\n",
    "    'word': tokens\n",
    "})\n",
    "\n",
    "tokens_df = tokens_df.assign(dummy = 1)\n",
    "\n",
    "tokens_df.head()"
   ]
  },
  {
   "cell_type": "code",
   "execution_count": 11,
   "metadata": {},
   "outputs": [
    {
     "data": {
      "text/html": "<div>\n<style scoped>\n    .dataframe tbody tr th:only-of-type {\n        vertical-align: middle;\n    }\n\n    .dataframe tbody tr th {\n        vertical-align: top;\n    }\n\n    .dataframe thead th {\n        text-align: right;\n    }\n</style>\n<table border=\"1\" class=\"dataframe\">\n  <thead>\n    <tr style=\"text-align: right;\">\n      <th></th>\n      <th>doc_id</th>\n      <th>word</th>\n      <th>dummy</th>\n    </tr>\n  </thead>\n  <tbody>\n    <tr>\n      <th>6</th>\n      <td>0</td>\n      <td>в</td>\n      <td>10</td>\n    </tr>\n    <tr>\n      <th>28</th>\n      <td>0</td>\n      <td>и</td>\n      <td>7</td>\n    </tr>\n    <tr>\n      <th>36</th>\n      <td>0</td>\n      <td>который</td>\n      <td>5</td>\n    </tr>\n    <tr>\n      <th>110</th>\n      <td>0</td>\n      <td>шерлок</td>\n      <td>4</td>\n    </tr>\n    <tr>\n      <th>83</th>\n      <td>0</td>\n      <td>сериал</td>\n      <td>4</td>\n    </tr>\n    <tr>\n      <th>76</th>\n      <td>0</td>\n      <td>с</td>\n      <td>4</td>\n    </tr>\n    <tr>\n      <th>8</th>\n      <td>0</td>\n      <td>весь</td>\n      <td>3</td>\n    </tr>\n    <tr>\n      <th>74</th>\n      <td>0</td>\n      <td>риколетти</td>\n      <td>3</td>\n    </tr>\n    <tr>\n      <th>104</th>\n      <td>0</td>\n      <td>холмс</td>\n      <td>2</td>\n    </tr>\n    <tr>\n      <th>22</th>\n      <td>0</td>\n      <td>же</td>\n      <td>2</td>\n    </tr>\n  </tbody>\n</table>\n</div>",
      "text/plain": "     doc_id       word  dummy\n6         0          в     10\n28        0          и      7\n36        0    который      5\n110       0     шерлок      4\n83        0     сериал      4\n76        0          с      4\n8         0       весь      3\n74        0  риколетти      3\n104       0      холмс      2\n22        0         же      2"
     },
     "execution_count": 11,
     "metadata": {},
     "output_type": "execute_result"
    }
   ],
   "source": [
    "word_count_df = tokens_df.groupby(['doc_id', 'word'])['dummy'].count().reset_index()\n",
    "word_count_df[word_count_df.doc_id==0].sort_values(by='dummy', ascending=False).head(10)"
   ]
  }
 ],
 "metadata": {
  "file_extension": ".py",
  "kernelspec": {
   "display_name": "Python 3",
   "language": "python",
   "name": "python3"
  },
  "language_info": {
   "codemirror_mode": {
    "name": "ipython",
    "version": 3
   },
   "file_extension": ".py",
   "mimetype": "text/x-python",
   "name": "python",
   "nbconvert_exporter": "python",
   "pygments_lexer": "ipython3",
   "version": "3.7.3"
  },
  "mimetype": "text/x-python",
  "name": "python",
  "npconvert_exporter": "python",
  "pygments_lexer": "ipython3",
  "version": 3
 },
 "nbformat": 4,
 "nbformat_minor": 2
}