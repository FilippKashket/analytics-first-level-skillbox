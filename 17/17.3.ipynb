{
 "nbformat": 4,
 "nbformat_minor": 2,
 "metadata": {
  "language_info": {
   "name": "python",
   "codemirror_mode": {
    "name": "ipython",
    "version": 3
   }
  },
  "orig_nbformat": 2,
  "file_extension": ".py",
  "mimetype": "text/x-python",
  "name": "python",
  "npconvert_exporter": "python",
  "pygments_lexer": "ipython3",
  "version": 3
 },
 "cells": [
  {
   "cell_type": "code",
   "execution_count": 5,
   "metadata": {},
   "outputs": [
    {
     "data": {
      "text/html": "<div>\n<style scoped>\n    .dataframe tbody tr th:only-of-type {\n        vertical-align: middle;\n    }\n\n    .dataframe tbody tr th {\n        vertical-align: top;\n    }\n\n    .dataframe thead th {\n        text-align: right;\n    }\n</style>\n<table border=\"1\" class=\"dataframe\">\n  <thead>\n    <tr style=\"text-align: right;\">\n      <th></th>\n      <th>content</th>\n      <th>description</th>\n    </tr>\n  </thead>\n  <tbody>\n    <tr>\n      <th>0</th>\n      <td>https://www.ivi.ru/watch/157318/description</td>\n      <td>Лучший подарок, который только можно было прид...</td>\n    </tr>\n    <tr>\n      <th>1</th>\n      <td>https://www.ivi.ru/watch/98336/description</td>\n      <td>Через какие трудности приходится проходить Сан...</td>\n    </tr>\n    <tr>\n      <th>2</th>\n      <td>https://www.ivi.ru/watch/183533/description</td>\n      <td>Миловидный Давид - позор для своего отца. Не в...</td>\n    </tr>\n    <tr>\n      <th>3</th>\n      <td>https://www.ivi.ru/watch/157319/description</td>\n      <td>Экранизация сатирического бестселлера Стивена ...</td>\n    </tr>\n    <tr>\n      <th>4</th>\n      <td>https://www.ivi.ru/watch/51342/description</td>\n      <td>«Леди удача» – авантюрная романтическая комеди...</td>\n    </tr>\n  </tbody>\n</table>\n</div>",
      "text/plain": "                                       content  \\\n0  https://www.ivi.ru/watch/157318/description   \n1   https://www.ivi.ru/watch/98336/description   \n2  https://www.ivi.ru/watch/183533/description   \n3  https://www.ivi.ru/watch/157319/description   \n4   https://www.ivi.ru/watch/51342/description   \n\n                                         description  \n0  Лучший подарок, который только можно было прид...  \n1  Через какие трудности приходится проходить Сан...  \n2  Миловидный Давид - позор для своего отца. Не в...  \n3  Экранизация сатирического бестселлера Стивена ...  \n4  «Леди удача» – авантюрная романтическая комеди...  "
     },
     "execution_count": 5,
     "metadata": {},
     "output_type": "execute_result"
    }
   ],
   "source": [
    "import pandas as pd\n",
    "\n",
    "text_df = pd.read_csv(\"./data-2/content_description.csv\", sep='\\t')\n",
    "text_df.head()"
   ]
  },
  {
   "cell_type": "code",
   "execution_count": 7,
   "metadata": {},
   "outputs": [
    {
     "name": "stdout",
     "output_type": "stream",
     "text": "«Леди удача» – авантюрная романтическая комедия, снятая в двадцатые годы ХХ века, на заре звукового кинематографа. Главную роль исполнила обаятельная Норма Ширер, пятикратный номинант и лауреат премии «Оскар» за фильм «Развод». Сюжет и посыл картины, несмотря на ее почтенный возраст, нисколько не устарели. В мелодраме, которую вы можете посмотреть онлайн, представлена забавная история авантюристки по прозвищу Ангельское Личико. С равным успехом показанные события могли произойти и в наше время – как вы сами можете убедиться, люди за несколько десятилетий мало изменились в глобальных вещах.   Прелестная девушка Долли – опасная авантюристка со стажем. Она зарабатывает на жизнь шантажом по простой и многократно отработанной схеме. Долли знакомится с богатым мужчиной, приглашает его к себе на квартиру, а затем начинает требовать деньги за соблюдение молчания. В результате полицейских происков девушка оказывается под арестом, однако избегает строгого наказания. Выйдя на свободу, она снимает номер в отеле, где знакомится с новой жертвой – молодым человеком по имени Стив. Стив утверждает, что он изобретатель-миллионер, однако несколько искажает факты. На самом деле, герой – просто ученый, создавший вещь, способную принести миллионы.\n<class 're.Pattern'> \n\n\n['Леди', 'удача', 'авантюрная', 'романтическая', 'комедия', 'снятая', 'в', 'двадцатые', 'годы', 'ХХ', 'века', 'на', 'заре', 'звукового', 'кинематографа', 'Главную', 'роль', 'исполнила', 'обаятельная', 'Норма', 'Ширер', 'пятикратный', 'номинант', 'и', 'лауреат', 'премии', 'Оскар', 'за', 'фильм', 'Развод', 'Сюжет', 'и', 'посыл', 'картины', 'несмотря', 'на', 'ее', 'почтенный', 'возраст', 'нисколько', 'не', 'устарели', 'В', 'мелодраме', 'которую', 'вы', 'можете', 'посмотреть', 'онлайн', 'представлена', 'забавная', 'история', 'авантюристки', 'по', 'прозвищу', 'Ангельское', 'Личико', 'С', 'равным', 'успехом', 'показанные', 'события', 'могли', 'произойти', 'и', 'в', 'наше', 'время', 'как', 'вы', 'сами', 'можете', 'убедиться', 'люди', 'за', 'несколько', 'десятилетий', 'мало', 'изменились', 'в', 'глобальных', 'вещах', 'Прелестная', 'девушка', 'Долли', 'опасная', 'авантюристка', 'со', 'стажем', 'Она', 'зарабатывает', 'на', 'жизнь', 'шантажом', 'по', 'простой', 'и', 'многократно', 'отработанной', 'схеме', 'Долли', 'знакомится', 'с', 'богатым', 'мужчиной', 'приглашает', 'его', 'к', 'себе', 'на', 'квартиру', 'а', 'затем', 'начинает', 'требовать', 'деньги', 'за', 'соблюдение', 'молчания', 'В', 'результате', 'полицейских', 'происков', 'девушка', 'оказывается', 'под', 'арестом', 'однако', 'избегает', 'строгого', 'наказания', 'Выйдя', 'на', 'свободу', 'она', 'снимает', 'номер', 'в', 'отеле', 'где', 'знакомится', 'с', 'новой', 'жертвой', 'молодым', 'человеком', 'по', 'имени', 'Стив', 'Стив', 'утверждает', 'что', 'он', 'изобретатель', 'миллионер', 'однако', 'несколько', 'искажает', 'факты', 'На', 'самом', 'деле', 'герой', 'просто', 'ученый', 'создавший', 'вещь', 'способную', 'принести', 'миллионы']\n"
    }
   ],
   "source": [
    "import re\n",
    "\n",
    "test_string = text_df.description.values[4]\n",
    "\n",
    "print(test_string)\n",
    "\n",
    "reg_expr = r'\\w+'\n",
    "\n",
    "reg_expr_compiled = re.compile(reg_expr)\n",
    "\n",
    "print(type(reg_expr_compiled),'\\n\\n')\n",
    "\n",
    "res = reg_expr_compiled.findall(test_string)\n",
    "\n",
    "print(res)"
   ]
  },
  {
   "cell_type": "code",
   "execution_count": 9,
   "metadata": {},
   "outputs": [
    {
     "name": "stdout",
     "output_type": "stream",
     "text": "['М', 'а', 'м', 'а', ' ', 'm', 'a', 'm', 'a', '@', 'y', 'a', '.', 'r', 'u', ' ', 'м', 'ы', 'л', 'а', ' ', 'р', 'а', 'м', 'у', ' ', 'с', ' ', 'м', 'ы', 'л', 'о', 'м']\n"
    }
   ],
   "source": [
    "sample_str='Мама mama@ya.ru мыла раму с мылом'\n",
    "\n",
    "result = re.findall(r'.',sample_str)\n",
    "print(result)"
   ]
  },
  {
   "cell_type": "code",
   "execution_count": 12,
   "metadata": {},
   "outputs": [
    {
     "name": "stdout",
     "output_type": "stream",
     "text": "['Мама', '', 'mama', '', 'ya', '', 'ru', '', 'мыла', '', 'раму', '', 'с', '', 'мылом', '']\n"
    }
   ],
   "source": [
    "result = re.findall(r'\\w*',sample_str)\n",
    "print(result)"
   ]
  },
  {
   "cell_type": "code",
   "execution_count": 13,
   "metadata": {},
   "outputs": [
    {
     "name": "stdout",
     "output_type": "stream",
     "text": "['Мама', 'mama', 'ya', 'ru', 'мыла', 'раму', 'с', 'мылом']\n"
    }
   ],
   "source": [
    "result = re.findall(r'\\w+',sample_str)\n",
    "print(result)"
   ]
  },
  {
   "cell_type": "code",
   "execution_count": 14,
   "metadata": {},
   "outputs": [
    {
     "name": "stdout",
     "output_type": "stream",
     "text": "['Мама']\n"
    }
   ],
   "source": [
    "result = re.findall(r'^\\w*',sample_str)\n",
    "print(result)"
   ]
  },
  {
   "cell_type": "code",
   "execution_count": 15,
   "metadata": {},
   "outputs": [
    {
     "name": "stdout",
     "output_type": "stream",
     "text": "['мылом']\n"
    }
   ],
   "source": [
    "result = re.findall(r'\\w+$',sample_str)\n",
    "print(result)"
   ]
  },
  {
   "cell_type": "code",
   "execution_count": 16,
   "metadata": {},
   "outputs": [
    {
     "name": "stdout",
     "output_type": "stream",
     "text": "['Ма', 'ма', 'ma', 'ma', 'ya', 'ru', 'мы', 'ла', 'ра', 'му', 'мы', 'ло']\n"
    }
   ],
   "source": [
    "result = re.findall(r'\\w\\w',sample_str)\n",
    "print(result)"
   ]
  },
  {
   "cell_type": "code",
   "execution_count": 17,
   "metadata": {},
   "outputs": [
    {
     "name": "stdout",
     "output_type": "stream",
     "text": "['М', 'm', 'y', 'r', 'м', 'р', 'с', 'м']\n"
    }
   ],
   "source": [
    "result = re.findall(r'\\b\\w',sample_str)\n",
    "print(result)"
   ]
  },
  {
   "cell_type": "code",
   "execution_count": 23,
   "metadata": {},
   "outputs": [
    {
     "name": "stdout",
     "output_type": "stream",
     "text": "['@ya.ru']\n"
    }
   ],
   "source": [
    "result = re.findall(r'@\\w+.\\w+',sample_str)\n",
    "print(result)"
   ]
  },
  {
   "cell_type": "code",
   "execution_count": 24,
   "metadata": {},
   "outputs": [
    {
     "name": "stdout",
     "output_type": "stream",
     "text": "['ru']\n"
    }
   ],
   "source": [
    "result = re.findall(r'@\\w+.(\\w+)',sample_str)\n",
    "print(result)"
   ]
  },
  {
   "cell_type": "code",
   "execution_count": 25,
   "metadata": {},
   "outputs": [
    {
     "name": "stdout",
     "output_type": "stream",
     "text": "['mama@ya.ru']\n"
    }
   ],
   "source": [
    "result = re.findall(r'\\w+@\\w+.\\w+',sample_str)\n",
    "print(result)"
   ]
  },
  {
   "cell_type": "code",
   "execution_count": 27,
   "metadata": {},
   "outputs": [
    {
     "name": "stdout",
     "output_type": "stream",
     "text": "phone number\nno\nno\nphone number\n"
    }
   ],
   "source": [
    "tokens = ['7999999999', '999999-999', '99999x9999', '7996663132']\n",
    "\n",
    "for val in tokens:\n",
    "    if re.match(r'[7-8]{1}[0-9]{9}', val) and len(val) == 10:\n",
    "        print('phone number')\n",
    "    else:\n",
    "        print('no')"
   ]
  },
  {
   "cell_type": "code",
   "execution_count": 39,
   "metadata": {},
   "outputs": [
    {
     "name": "stdout",
     "output_type": "stream",
     "text": "«Леди удача» – авантюрная романтическая комедия, снятая в двадцатые годы ХХ века, на заре звукового кинематографа. Главную роль исполнила обаятельная Норма Ширер, пятикратный номинант и лауреат премии «Оскар» за фильм «Развод». Сюжет и посыл картины, несмотря на ее почтенный возраст, нисколько не устарели. В мелодраме, которую вы можете посмотреть онлайн, представлена забавная история авантюристки по прозвищу Ангельское Личико. С равным успехом показанные события могли произойти и в наше время – как вы сами можете убедиться, люди за несколько десятилетий мало изменились в глобальных вещах.   Прелестная девушка Долли – опасная авантюристка со стажем. Она зарабатывает на жизнь шантажом по простой и многократно отработанной схеме. Долли знакомится с богатым мужчиной, приглашает его к себе на квартиру, а затем начинает требовать деньги за соблюдение молчания. В результате полицейских происков девушка оказывается под арестом, однако избегает строгого наказания. Выйдя на свободу, она снимает номер в отеле, где знакомится с новой жертвой – молодым человеком по имени Стив. Стив утверждает, что он изобретатель-миллионер, однако несколько искажает факты. На самом деле, герой – просто ученый, создавший вещь, способную принести миллионы.\nЛеди удача\nОскар\nРазвод\n"
    }
   ],
   "source": [
    "print(text_df.description.values[4])\n",
    "\n",
    "raw_text = text_df.description.values[4]\n",
    "\n",
    "regular_expr = r'«(.*?)»'\n",
    "reg_expr_compiled = re.compile(regular_expr)\n",
    "\n",
    "for g in reg_expr_compiled.findall(raw_text):\n",
    "    print(g)"
   ]
  }
 ]
}