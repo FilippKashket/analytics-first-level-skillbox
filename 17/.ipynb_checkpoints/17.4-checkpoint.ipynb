{
 "cells": [
  {
   "cell_type": "code",
   "execution_count": 1,
   "metadata": {},
   "outputs": [
    {
     "data": {
      "text/html": [
       "<div>\n",
       "<style scoped>\n",
       "    .dataframe tbody tr th:only-of-type {\n",
       "        vertical-align: middle;\n",
       "    }\n",
       "\n",
       "    .dataframe tbody tr th {\n",
       "        vertical-align: top;\n",
       "    }\n",
       "\n",
       "    .dataframe thead th {\n",
       "        text-align: right;\n",
       "    }\n",
       "</style>\n",
       "<table border=\"1\" class=\"dataframe\">\n",
       "  <thead>\n",
       "    <tr style=\"text-align: right;\">\n",
       "      <th></th>\n",
       "      <th>content</th>\n",
       "      <th>description</th>\n",
       "    </tr>\n",
       "  </thead>\n",
       "  <tbody>\n",
       "    <tr>\n",
       "      <th>0</th>\n",
       "      <td>https://www.ivi.ru/watch/157318/description</td>\n",
       "      <td>Лучший подарок, который только можно было прид...</td>\n",
       "    </tr>\n",
       "    <tr>\n",
       "      <th>1</th>\n",
       "      <td>https://www.ivi.ru/watch/98336/description</td>\n",
       "      <td>Через какие трудности приходится проходить Сан...</td>\n",
       "    </tr>\n",
       "    <tr>\n",
       "      <th>2</th>\n",
       "      <td>https://www.ivi.ru/watch/183533/description</td>\n",
       "      <td>Миловидный Давид - позор для своего отца. Не в...</td>\n",
       "    </tr>\n",
       "    <tr>\n",
       "      <th>3</th>\n",
       "      <td>https://www.ivi.ru/watch/157319/description</td>\n",
       "      <td>Экранизация сатирического бестселлера Стивена ...</td>\n",
       "    </tr>\n",
       "    <tr>\n",
       "      <th>4</th>\n",
       "      <td>https://www.ivi.ru/watch/51342/description</td>\n",
       "      <td>«Леди удача» – авантюрная романтическая комеди...</td>\n",
       "    </tr>\n",
       "  </tbody>\n",
       "</table>\n",
       "</div>"
      ],
      "text/plain": [
       "                                       content  \\\n",
       "0  https://www.ivi.ru/watch/157318/description   \n",
       "1   https://www.ivi.ru/watch/98336/description   \n",
       "2  https://www.ivi.ru/watch/183533/description   \n",
       "3  https://www.ivi.ru/watch/157319/description   \n",
       "4   https://www.ivi.ru/watch/51342/description   \n",
       "\n",
       "                                         description  \n",
       "0  Лучший подарок, который только можно было прид...  \n",
       "1  Через какие трудности приходится проходить Сан...  \n",
       "2  Миловидный Давид - позор для своего отца. Не в...  \n",
       "3  Экранизация сатирического бестселлера Стивена ...  \n",
       "4  «Леди удача» – авантюрная романтическая комеди...  "
      ]
     },
     "execution_count": 1,
     "metadata": {},
     "output_type": "execute_result"
    }
   ],
   "source": [
    "import re\n",
    "import pandas as pd\n",
    "\n",
    "text_df = pd.read_csv(\"./data-2/content_description.csv\", sep='\\t')\n",
    "text_df.head()"
   ]
  },
  {
   "cell_type": "code",
   "execution_count": 2,
   "metadata": {},
   "outputs": [
    {
     "name": "stdout",
     "output_type": "stream",
     "text": [
      "['через', 'какие', 'трудности', 'приходится', 'проходить', 'санта', 'клаусу', 'каждый', 'год', 'чтобы', 'под', 'каждой', 'елкой', 'появился', 'тот', 'самый', 'подарок', 'расскажет', 'мульт', 'нико', '2', 'маленький', 'олененок', 'нико', 'мечтает', 'продолжить', 'дело', 'отца', 'ведь', 'его', 'папа', 'самый', 'знаменитый', 'и', 'уважаемый', 'олень', 'на', 'свете', 'о', 'его', 'работе', 'мечтает', 'каждый', 'он', 'трудится', 'в', 'упряжке', 'самого', 'санта', 'клауса', 'но', 'сам', 'нико', 'пока', 'еще', 'слишком', 'маленький', 'для', 'такого', 'тяжелого', 'и', 'ответственного', 'дела', 'так', 'что', 'пока', 'он', 'сам', 'ждет', 'санту', 'с', 'подарками', 'накануне', 'рождества', 'он', 'встречается', 'со', 'своими', 'самыми', 'близкими', 'друзьями', 'белкой', 'джулиусом', 'лаской', 'вилмой', 'и', 'сводным', 'братишкой', 'джонни', 'чтобы', 'вместе', 'встречать', 'рождество', 'и', 'не', 'пропустить', 'заветную', 'оленью', 'упряжку', 'но', 'как', 'всегда', 'в', 'пути', 'санту', 'ждут', 'невероятные', 'приключения', 'на', 'этот', 'раз', 'все', 'настолько', 'серьезно', 'что', 'детишки', 'всего', 'мира', 'могут', 'и', 'вовсе', 'остаться', 'без', 'подарков', 'хорошо', 'что', 'нико', 'и', 'его', 'товарищи', 'всегда', 'готовы', 'прийти', 'на', 'помощь', 'им', 'не', 'страшны', 'любые', 'испытания', 'и', 'приключения', 'ведь', 'среди', 'них', 'достойный', 'сын', 'одного', 'из', 'оленей', 'упряжки', 'самого', 'санта', 'клауса', 'советуем', 'смотреть', 'онлайн', 'нико', '2', 'добрый', 'и', 'милый', 'рождественский', 'мультик', 'который', 'отлично', 'подойдет', 'для', 'семеного', 'просмотра']\n"
     ]
    }
   ],
   "source": [
    "corpus = []\n",
    "\n",
    "regular_expr=r'\\w+'\n",
    "regular_expr_compiled = re.compile(regular_expr)\n",
    "\n",
    "for raw_text in text_df.description.values:\n",
    "    raw_text_lower = raw_text.lower()\n",
    "\n",
    "    text_by_words = regular_expr_compiled.findall(raw_text_lower)\n",
    "    corpus.append(text_by_words)\n",
    "print(corpus[1])"
   ]
  },
  {
   "cell_type": "code",
   "execution_count": 8,
   "metadata": {},
   "outputs": [
    {
     "name": "stdout",
     "output_type": "stream",
     "text": [
      "[]\n"
     ]
    }
   ],
   "source": [
    "import pymorphy2\n",
    "\n",
    "normalized_corpus = []\n",
    "\n",
    "morph = pymorphy2.MorphAnalyzer()\n",
    "\n",
    "for token_list in corpus:\n",
    "    normalized_token_list = []\n",
    "    for word in token_list:\n",
    "        parsed_token = morph.parse(word)\n",
    "        normal_torm = parsed_token[0].normal_form\n",
    "        normalized_token_list.append(normal_torm)\n",
    "    normalized_corpus.append(normamlized_token_list)\n",
    "print(normalized_corpus[1])"
   ]
  }
 ],
 "metadata": {
  "file_extension": ".py",
  "kernelspec": {
   "display_name": "Python 3",
   "language": "python",
   "name": "python3"
  },
  "language_info": {
   "codemirror_mode": {
    "name": "ipython",
    "version": 3
   },
   "file_extension": ".py",
   "mimetype": "text/x-python",
   "name": "python",
   "nbconvert_exporter": "python",
   "pygments_lexer": "ipython3",
   "version": "3.7.3"
  },
  "mimetype": "text/x-python",
  "name": "python",
  "npconvert_exporter": "python",
  "pygments_lexer": "ipython3",
  "version": 3
 },
 "nbformat": 4,
 "nbformat_minor": 2
}
