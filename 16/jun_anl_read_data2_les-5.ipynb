{
 "cells": [
  {
   "cell_type": "markdown",
   "metadata": {},
   "source": [
    "## Работа с БД: PostgreSQL\n",
    "\n",
    "psycopg2 - библиотека для подключения к Postgres. Postgres - реляционная СУБД. Она содержит следующие сущности\n",
    "* database - база данных\n",
    "* table - таблица\n",
    "\n",
    "Таблицы могут соединяться друг с другом с помощью операции **join** - то есть зависят друг от друга, боэтому такой тип хранилищ данных называется *реляционным*\n",
    "\n",
    "Каждая таблица состоит из *кортежей* (или, по простому, строк). Данные из БД можно читать построчно.\n",
    "\n",
    "Чтобы читать таблицу из БД, нужно авторизоваться с импользованием логина и пароля."
   ]
  },
  {
   "cell_type": "code",
   "execution_count": 1,
   "metadata": {},
   "outputs": [],
   "source": [
    "import psycopg2\n",
    "\n",
    "pg_connection = {\n",
    "    \"host\": \"dsstudents.skillbox.ru\",\n",
    "    \"port\": 5432,\n",
    "    \"dbname\": \"db_ds_students\",\n",
    "    \"user\": \"readonly\",\n",
    "    \"password\": \"6hajV34RTQfmxhS\"\n",
    "}\n",
    "conn = psycopg2.connect(**pg_connection)\n",
    "cursor = conn.cursor()"
   ]
  },
  {
   "cell_type": "markdown",
   "metadata": {},
   "source": [
    "Выполним простейший запрос, который выведет все таблицы в базе *public*:"
   ]
  },
  {
   "cell_type": "code",
   "execution_count": 2,
   "metadata": {},
   "outputs": [
    {
     "name": "stdout",
     "output_type": "stream",
     "text": [
      "Какие таблицы содержаться в Postgres: [('keywords',), ('links',), ('ratings',)]\n"
     ]
    }
   ],
   "source": [
    "sql_str = \"SELECT table_name FROM information_schema.tables WHERE table_schema='public';\"\n",
    "\n",
    "cursor.execute(sql_str)\n",
    "tables_data = [a for a in cursor.fetchall()]\n",
    "conn.commit()\n",
    "\n",
    "print(\"Какие таблицы содержаться в Postgres: %s\" % tables_data)"
   ]
  },
  {
   "cell_type": "markdown",
   "metadata": {},
   "source": [
    "Postrgres - мощный аналитический инструмент, которорый позволяет перенести сложные расчёты из python на уровень ниже - в СУБД, которая хранит данные.ый аналитический запрос: посчитаем среднюю оценку по фильмам, у которых более 10 оценок и выведем top-5 таких фильмов с самой максимальной оценкой"
   ]
  },
  {
   "cell_type": "code",
   "execution_count": 3,
   "metadata": {},
   "outputs": [
    {
     "name": "stdout",
     "output_type": "stream",
     "text": [
      "movieId: 632 \t avg_rating: 4.63636363636364\n",
      "movieId: 142115 \t avg_rating: 4.625\n",
      "movieId: 99764 \t avg_rating: 4.58333333333333\n",
      "movieId: 7096 \t avg_rating: 4.57142857142857\n",
      "movieId: 4046 \t avg_rating: 4.55555555555556\n",
      "movieId: 8724 \t avg_rating: 4.5\n",
      "movieId: 111778 \t avg_rating: 4.5\n",
      "movieId: 5169 \t avg_rating: 4.5\n",
      "movieId: 4405 \t avg_rating: 4.5\n",
      "movieId: 159817 \t avg_rating: 4.47826086956522\n",
      "\n",
      "Типизация строки <class 'tuple'>\n"
     ]
    }
   ],
   "source": [
    "import psycopg2\n",
    "\n",
    "pg_connection = {\n",
    "    \"host\": \"dsstudents.skillbox.ru\",\n",
    "    \"port\": 5432,\n",
    "    \"dbname\": \"db_ds_students\",\n",
    "    \"user\": \"readonly\",\n",
    "    \"password\": \"6hajV34RTQfmxhS\"\n",
    "}\n",
    "conn = psycopg2.connect(**pg_connection)\n",
    "cursor = conn.cursor()\n",
    "\n",
    "# запрос\n",
    "sql_str = \"\"\"\n",
    "    SELECT \n",
    "        movieId, AVG(rating) as avg_rating\n",
    "    FROM public.ratings \n",
    "    GROUP BY movieId\n",
    "    HAVING COUNT(RATING)>10\n",
    "    ORDER BY avg_rating DESC\n",
    "    LIMIT 10;\n",
    "\"\"\"\n",
    "cursor.execute(sql_str)\n",
    "\n",
    "\n",
    "for row in cursor:\n",
    "        print('movieId: %s \\t avg_rating: %s' % row)\n",
    "conn.close()\n",
    "print(\"\\nТипизация строки %s\" % type(row))"
   ]
  }
 ],
 "metadata": {
  "kernelspec": {
   "display_name": "Python 3",
   "language": "python",
   "name": "python3"
  },
  "language_info": {
   "codemirror_mode": {
    "name": "ipython",
    "version": 3
   },
   "file_extension": ".py",
   "mimetype": "text/x-python",
   "name": "python",
   "nbconvert_exporter": "python",
   "pygments_lexer": "ipython3",
   "version": "3.6.7"
  }
 },
 "nbformat": 4,
 "nbformat_minor": 2
}
