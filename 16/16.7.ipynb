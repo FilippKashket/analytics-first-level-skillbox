{
 "nbformat": 4,
 "nbformat_minor": 2,
 "metadata": {
  "language_info": {
   "name": "python",
   "codemirror_mode": {
    "name": "ipython",
    "version": 3
   }
  },
  "orig_nbformat": 2,
  "file_extension": ".py",
  "mimetype": "text/x-python",
  "name": "python",
  "npconvert_exporter": "python",
  "pygments_lexer": "ipython3",
  "version": 3
 },
 "cells": [
  {
   "cell_type": "code",
   "execution_count": 4,
   "metadata": {},
   "outputs": [
    {
     "name": "stdout",
     "output_type": "stream",
     "text": "['tags', 'users']\n"
    }
   ],
   "source": [
    "from pymongo import MongoClient\n",
    "\n",
    "mongo_connection = {\n",
    "    \"host\": \"dsstudents.skillbox.ru\",\n",
    "    \"port\": 27017,\n",
    "    \"user\": \"students\",\n",
    "    \"password\": \"X63673t47Gl03Sq\",\n",
    "    \"authSource\": \"movies\"\n",
    "}\n",
    "\n",
    "mongo = MongoClient('mongodb://%s:%s@%s:%s/?authSource=%s' % (\n",
    "    mongo_connection['user'], mongo_connection['password'],\n",
    "    mongo_connection['host'], mongo_connection['port'], mongo_connection['authSource']))\n",
    "\n",
    "db = mongo[\"movies\"]\n",
    "\n",
    "print(db.list_collection_names())"
   ]
  },
  {
   "cell_type": "code",
   "execution_count": 5,
   "metadata": {},
   "outputs": [
    {
     "name": "stdout",
     "output_type": "stream",
     "text": "158680\n"
    }
   ],
   "source": [
    "collection = db['tags']\n",
    "print(collection.estimated_document_count())"
   ]
  },
  {
   "cell_type": "code",
   "execution_count": 7,
   "metadata": {},
   "outputs": [
    {
     "name": "stdout",
     "output_type": "stream",
     "text": "<pymongo.cursor.Cursor object at 0x0000020635459C18>\n[{'_id': ObjectId('5c822402c0669da98bd5081e'), 'id': 931, 'name': 'jealousy'}, {'_id': ObjectId('5c822402c0669da98bd5081f'), 'id': 4290, 'name': 'toy'}, {'_id': ObjectId('5c822402c0669da98bd50820'), 'id': 5202, 'name': 'boy'}, {'_id': ObjectId('5c822402c0669da98bd50821'), 'id': 6054, 'name': 'friendship'}, {'_id': ObjectId('5c822402c0669da98bd50822'), 'id': 9713, 'name': 'friends'}]\n['_id', 'id', 'name']\n"
    }
   ],
   "source": [
    "mongo_coursor = collection.find().limit(5)\n",
    "print(mongo_coursor)\n",
    "\n",
    "coursor_items = [\n",
    "    item for item in mongo_coursor\n",
    "]\n",
    "\n",
    "print(coursor_items)\n",
    "print(list(coursor_items[0].keys()))"
   ]
  },
  {
   "cell_type": "code",
   "execution_count": 10,
   "metadata": {},
   "outputs": [
    {
     "name": "stdout",
     "output_type": "stream",
     "text": "[{'_id': ObjectId('5c822402c0669da98bd5081e'), 'name': 'jealousy'}, {'_id': ObjectId('5c822402c0669da98bd5081f'), 'name': 'toy'}, {'_id': ObjectId('5c822402c0669da98bd50820'), 'name': 'boy'}, {'_id': ObjectId('5c822402c0669da98bd50821'), 'name': 'friendship'}, {'_id': ObjectId('5c822402c0669da98bd50822'), 'name': 'friends'}]\n[{'id': 931, 'name': 'jealousy'}, {'id': 4290, 'name': 'toy'}, {'id': 5202, 'name': 'boy'}, {'id': 6054, 'name': 'friendship'}, {'id': 9713, 'name': 'friends'}]\n[{'name': 'jealousy'}, {'name': 'toy'}, {'name': 'boy'}, {'name': 'friendship'}, {'name': 'friends'}]\n"
    }
   ],
   "source": [
    "selector = {'name': True}\n",
    "mongo_coursor = collection.find(projection=selector).limit(5)\n",
    "coursor_items = [ item for item in mongo_coursor ]\n",
    "print(coursor_items)\n",
    "\n",
    "selector = {'_id': False}\n",
    "mongo_coursor = collection.find(projection=selector).limit(5)\n",
    "coursor_items = [ item for item in mongo_coursor ]\n",
    "print(coursor_items)\n",
    "\n",
    "selector = {'_id': False, 'name': True}\n",
    "mongo_coursor = collection.find(projection=selector).limit(5)\n",
    "coursor_items = [ item for item in mongo_coursor ]\n",
    "print(coursor_items)"
   ]
  },
  {
   "cell_type": "code",
   "execution_count": 12,
   "metadata": {},
   "outputs": [
    {
     "name": "stdout",
     "output_type": "stream",
     "text": "[{'id': 4290, 'name': 'toy'}, {'id': 4290, 'name': 'toy'}, {'id': 4290, 'name': 'toy'}, {'id': 4290, 'name': 'toy'}, {'id': 4290, 'name': 'toy'}]\n"
    }
   ],
   "source": [
    "selector = {'name': 'toy'}\n",
    "exclude_id = {'_id':False}\n",
    "\n",
    "mongo_coursor = collection.find(projection=exclude_id, filter=selector).limit(5)\n",
    "coursor_items = [ item for item in mongo_coursor ]\n",
    "print(coursor_items)"
   ]
  },
  {
   "cell_type": "code",
   "execution_count": 14,
   "metadata": {},
   "outputs": [
    {
     "name": "stdout",
     "output_type": "stream",
     "text": "[{'_id': 'woman director', 'tag_count': 3115}, {'_id': 'independent film', 'tag_count': 1930}, {'_id': 'murder', 'tag_count': 1308}, {'_id': 'based on novel', 'tag_count': 835}, {'_id': 'musical', 'tag_count': 734}]\n"
    }
   ],
   "source": [
    "pipline = [\n",
    "    {\"$group\":\n",
    "        {\"_id\":\"$name\",\n",
    "        \"tag_count\":\n",
    "            {\"$sum\":1}\n",
    "        }\n",
    "    },\n",
    "    {\"$sort\":\n",
    "        {\"tag_count\":-1}\n",
    "    },\n",
    "    {\"$limit\":5}\n",
    "]\n",
    "\n",
    "print([i for i in collection.aggregate(pipline)])"
   ]
  }
 ]
}