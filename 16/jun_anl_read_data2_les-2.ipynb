{
 "cells": [
  {
   "cell_type": "markdown",
   "metadata": {},
   "source": [
    "# Pickle - сериализация объектов\n",
    "\n",
    "pickle (от англ. \"маринованные огурчики\") - это бинарный формат данных для хранение объектов Python. Вы можете запаковать объекты на одной машине и распаковать на другой - главное, чтобы версия питона при чтении была не ниже версии питона при записи. Pickle может сохранять простые объекты python - например, объекты numpy или словари. При дампе объектов из нестандартных библиотек (вроде sklearn) нужно гарантировать, что при распаковке объектов будут доступны те же самые библиотеки, иначе pickle можен не справится."
   ]
  },
  {
   "cell_type": "code",
   "execution_count": 2,
   "metadata": {},
   "outputs": [
    {
     "name": "stdout",
     "output_type": "stream",
     "text": [
      "temp_dict  -> {'foo': 'bar'}\n",
      "Неудача, словарь не наден\n",
      "temp_dict  -> {'foo': 'bar'}\n"
     ]
    }
   ],
   "source": [
    "import pickle \n",
    "\n",
    "# создаём объект python\n",
    "temp_dict = {'foo': 'bar'}\n",
    "\n",
    "print(\"temp_dict  -> {}\".format(temp_dict))\n",
    "\n",
    "# сохраняет объект к pickle\n",
    "with open('./data/dict.pkl', 'wb') as f:\n",
    "    pickle.dump(temp_dict, f)\n",
    "# удаляем словарь\n",
    "del temp_dict\n",
    "\n",
    "# проверяем, что удаление прошло успешно\n",
    "try:\n",
    "    print(\"temp_dict  -> {}\".format(temp_dict))\n",
    "except NameError:\n",
    "    print(\"Неудача, словарь не наден\")\n",
    "\n",
    "# загружаем сохраненный объект из pkl\n",
    "with open('./data/dict.pkl', 'rb') as f:\n",
    "    temp_dict = pickle.load(f)\n",
    "    \n",
    "print(\"temp_dict  -> {}\".format(temp_dict))"
   ]
  }
 ],
 "metadata": {
  "kernelspec": {
   "display_name": "Python 3",
   "language": "python",
   "name": "python3"
  },
  "language_info": {
   "codemirror_mode": {
    "name": "ipython",
    "version": 3
   },
   "file_extension": ".py",
   "mimetype": "text/x-python",
   "name": "python",
   "nbconvert_exporter": "python",
   "pygments_lexer": "ipython3",
   "version": "3.6.7"
  }
 },
 "nbformat": 4,
 "nbformat_minor": 2
}
