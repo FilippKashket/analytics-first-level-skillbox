{
 "nbformat": 4,
 "nbformat_minor": 2,
 "metadata": {
  "language_info": {
   "name": "python",
   "codemirror_mode": {
    "name": "ipython",
    "version": 3
   }
  },
  "orig_nbformat": 2,
  "file_extension": ".py",
  "mimetype": "text/x-python",
  "name": "python",
  "npconvert_exporter": "python",
  "pygments_lexer": "ipython3",
  "version": 3
 },
 "cells": [
  {
   "cell_type": "code",
   "execution_count": 2,
   "metadata": {},
   "outputs": [
    {
     "name": "stdout",
     "output_type": "stream",
     "text": "Объект <class 'dict'> : \n{'firstName': 'Ivan', 'lastName': 'Ivanov', 'age': 30}\n"
    }
   ],
   "source": [
    "user = {\n",
    "    \"firstName\": \"Ivan\",\n",
    "    \"lastName\": \"Ivanov\",\n",
    "    \"age\": 30\n",
    "}\n",
    "\n",
    "print(f'Объект {type(user)} : \\n{user}')"
   ]
  },
  {
   "cell_type": "code",
   "execution_count": 4,
   "metadata": {},
   "outputs": [
    {
     "name": "stdout",
     "output_type": "stream",
     "text": "Объект <class 'str'> : \n{\"firstName\": \"Ivan\", \"lastName\": \"Ivanov\", \"age\": 30}\n"
    }
   ],
   "source": [
    "import json\n",
    "\n",
    "user_json = json.dumps(user)\n",
    "print(f'Объект {type(user_json)} : \\n{user_json}')"
   ]
  },
  {
   "cell_type": "code",
   "execution_count": 5,
   "metadata": {},
   "outputs": [
    {
     "name": "stdout",
     "output_type": "stream",
     "text": "Объект <class 'dict'> : \n{'firstName': 'Ivan', 'lastName': 'Ivanov', 'age': 30}\n"
    }
   ],
   "source": [
    "user_dict = json.loads(user_json)\n",
    "\n",
    "print(f'Объект {type(user_dict)} : \\n{user_dict}')"
   ]
  }
 ]
}