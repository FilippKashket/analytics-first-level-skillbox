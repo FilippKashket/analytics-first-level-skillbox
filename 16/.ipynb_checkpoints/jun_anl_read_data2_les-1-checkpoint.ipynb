{
 "cells": [
  {
   "cell_type": "markdown",
   "metadata": {},
   "source": [
    "# JSON\n",
    "\n",
    "JSON (англ. JavaScript Object Notation) — текстовый формат обмена данными, основанный на JavaScript. \n",
    "\n",
    "JSON представляет собой последовательность пар ключ-значение, ограниченных фигруными скобками, например: \n",
    "<pre>\n",
    "{\"firstName\": \"Ivan\", \"lastName\": \"Ivanov\", \"age\": 30}\n",
    "</pre>\n",
    "\n",
    "достоинства JSON\n",
    "* легко читается людьми\n",
    "* занимает меньше места в текстовом виде, чем аналогичный объект в формате XML\n",
    "* является \"родным\" форматом для Javascript, Python, MongoDB и других систем\n",
    "\n",
    "В силу этих особенностей, этот формат стал стандартом для передачи текстовой информации в сети интернет.\n",
    "\n",
    "В стандартный набор библиотек Python входит модуль `json`, кооторый используется для преобразования объектов (например, словарей) в текстовый JSON формат."
   ]
  },
  {
   "cell_type": "code",
   "execution_count": 1,
   "metadata": {},
   "outputs": [
    {
     "name": "stdout",
     "output_type": "stream",
     "text": [
      "Объект <class 'dict'> : \n",
      "{'firstName': 'Ivan', 'lastName': 'Ivanov', 'age': 30}\n"
     ]
    }
   ],
   "source": [
    "user = {\n",
    "    \"firstName\": \"Ivan\",\n",
    "    \"lastName\": \"Ivanov\", \n",
    "    \"age\": 30\n",
    "}\n",
    "\n",
    "print(\"Объект {} : \\n{}\".format(type(user), user))"
   ]
  },
  {
   "cell_type": "markdown",
   "metadata": {},
   "source": [
    "Преобразуем объект словаря в текстовый JSON формат"
   ]
  },
  {
   "cell_type": "code",
   "execution_count": 2,
   "metadata": {},
   "outputs": [
    {
     "name": "stdout",
     "output_type": "stream",
     "text": [
      "Объект <class 'str'> : {\"firstName\": \"Ivan\", \"lastName\": \"Ivanov\", \"age\": 30}\n"
     ]
    }
   ],
   "source": [
    "import json\n",
    "\n",
    "user_json = json.dumps(user)\n",
    "print(\"Объект {} : {}\".format(type(user_json), user_json))"
   ]
  },
  {
   "cell_type": "markdown",
   "metadata": {},
   "source": [
    "Готово! Мы молучили объект типа `str` который можно, например, передать по сети в другое приложение.\n",
    "\n",
    "Обратное преобразование `str->dict` выполняется с помощью той же библиотеки JSON"
   ]
  },
  {
   "cell_type": "code",
   "execution_count": 3,
   "metadata": {},
   "outputs": [
    {
     "name": "stdout",
     "output_type": "stream",
     "text": [
      "Объект <class 'dict'> : {'firstName': 'Ivan', 'lastName': 'Ivanov', 'age': 30}\n"
     ]
    }
   ],
   "source": [
    "user_dict = json.loads(user_json)\n",
    "print(\"Объект {} : {}\".format(type(user_dict), user_dict))"
   ]
  },
  {
   "cell_type": "code",
   "execution_count": null,
   "metadata": {},
   "outputs": [],
   "source": []
  }
 ],
 "metadata": {
  "kernelspec": {
   "display_name": "Python 3",
   "language": "python",
   "name": "python3"
  },
  "language_info": {
   "codemirror_mode": {
    "name": "ipython",
    "version": 3
   },
   "file_extension": ".py",
   "mimetype": "text/x-python",
   "name": "python",
   "nbconvert_exporter": "python",
   "pygments_lexer": "ipython3",
   "version": "3.7.3"
  }
 },
 "nbformat": 4,
 "nbformat_minor": 2
}
