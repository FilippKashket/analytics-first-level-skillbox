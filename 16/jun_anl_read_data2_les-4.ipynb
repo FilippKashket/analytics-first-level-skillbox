{
 "cells": [
  {
   "cell_type": "markdown",
   "metadata": {},
   "source": [
    "## Работа с БД: SQLite3\n",
    "\n",
    "sqlite3 - либа для работы с реляционными СУБД. Реляционные СУБД представляют собой таблицы, которые соединяются друг с другом с помощью ключей. Ключ - это поле, значение которого в одной таблице совпадает со значением в другой таблице."
   ]
  },
  {
   "cell_type": "code",
   "execution_count": 1,
   "metadata": {},
   "outputs": [
    {
     "name": "stdout",
     "output_type": "stream",
     "text": [
      "Типизация connection <class 'sqlite3.Connection'>, типизация cursor <class 'sqlite3.Cursor'>\n",
      "\n",
      "Выполняем INSERT в базу...\n",
      "Выполнили INSERT, закрываем соединение\n"
     ]
    }
   ],
   "source": [
    "import sqlite3\n",
    "import csv\n",
    "\n",
    "conn = sqlite3.connect('./data/example.db')\n",
    "c = conn.cursor()\n",
    "print(\"Типизация connection {}, типизация cursor {}\\n\".format(type(conn), type(c)))\n",
    "\n",
    "# Create table\n",
    "c.execute('''DROP TABLE IF EXISTS jira_task''')\n",
    "c.execute('''CREATE TABLE jira_task (code text, theme text, time_plan real, time_fact real)''')\n",
    "\n",
    "with open('./data/task.csv','r') as fin: # т.н. менеджер контекста, аналогично уроку про чтение из файлов в python \n",
    "    # csv.DictReader использует первую строку текстового файла как заголовки столбцов по умолчанию\n",
    "    dr = csv.reader(fin) # запятая - разделитель полей по умолчанию\n",
    "    next(dr, None)  # пропускаем заголовок\n",
    "    dataset = [(i[0], i[1], i[2], i[3]) for i in dr]\n",
    "\n",
    "print(\"Выполняем INSERT в базу...\")\n",
    "c.executemany(\"INSERT INTO jira_task VALUES (?, ?, ? ,?);\", dataset)\n",
    "print(\"Выполнили INSERT, закрываем соединение\")\n",
    "conn.commit()\n",
    "conn.close()"
   ]
  },
  {
   "cell_type": "markdown",
   "metadata": {},
   "source": [
    "После того, как таблицы созданы, можно читать из них данные"
   ]
  },
  {
   "cell_type": "code",
   "execution_count": 2,
   "metadata": {},
   "outputs": [
    {
     "name": "stdout",
     "output_type": "stream",
     "text": [
      "Открываем соединение с БД и читаем данные...\n",
      "\n",
      "('HYDRA-535', 'Пробрасывать пользовательское распределение paid_types в ехидну', 'echidna', 1.0)\n",
      "('HYDRA-534', 'Гибридный рекомендатель с multi-channel feedback', 'hydra', 3.0)\n",
      "('HYDRA-532', 'Джоба в дженкинсе для расчёта динамики РВП', 'hydramatrices', 2.0)\n",
      "('HYDRA-531', 'Интеграция Hydra с Gamora', 'hydramagrices', 4.0)\n",
      "('HYDRA-530', 'Тестируем интеграцию с Jira', 'hydra', 2.0)\n",
      "('HYDRA-527', 'Поправить функцию _get_ui_rec_matrix', 'hydra', 10.0)\n",
      "('HYDRA-524', 'Оптимизировать матрицу ItemFactors', 'hydra', 2.0)\n",
      "('HYDRA-523', 'Сортировка ЦПБ', 'hydra', 5.0)\n",
      "('HYDRA-520', 'Закостылить параметр top', 'hydra', 2.0)\n",
      "('HYDRA-519', \"Сделать 'stable' конфигом по умолчанию в Гидре\", 'hydra', 2.0)\n",
      "\n",
      "Типизация строки <class 'tuple'>\n"
     ]
    }
   ],
   "source": [
    "print(\"Открываем соединение с БД и читаем данные...\\n\")\n",
    "conn = sqlite3.connect('./data/example.db')\n",
    "c = conn.cursor()\n",
    "some_row = None\n",
    "for row in c.execute('SELECT * FROM jira_task LIMIT 10;'):\n",
    "        print(row)\n",
    "        some_row = row\n",
    "conn.close()\n",
    "print(\"\\nТипизация строки %s\" % type(row))"
   ]
  }
 ],
 "metadata": {
  "kernelspec": {
   "display_name": "Python 3",
   "language": "python",
   "name": "python3"
  },
  "language_info": {
   "codemirror_mode": {
    "name": "ipython",
    "version": 3
   },
   "file_extension": ".py",
   "mimetype": "text/x-python",
   "name": "python",
   "nbconvert_exporter": "python",
   "pygments_lexer": "ipython3",
   "version": "3.6.7"
  }
 },
 "nbformat": 4,
 "nbformat_minor": 2
}
