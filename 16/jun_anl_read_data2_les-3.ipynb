{
 "cells": [
  {
   "cell_type": "markdown",
   "metadata": {},
   "source": [
    "# Работа с данными формата HDF5\n",
    "\n",
    "HDF5 (Hierarchical Data Format, HDF (Иерархический формат данных)) - бинарный формат, который позволяет эффективно хранить большие объемы данных, реализация в Python имеет хорошую интеграцию с библиотекой векторных вычислений numpy. \n",
    "\n",
    "Основые преимущества формата:\n",
    "\n",
    "* хранение сложных иерархических структур\n",
    "* быстрый доступ к изолированным частям данных без загрузки в память (чтение с диска)\n",
    "\n",
    "Реализация в python называется [h5py](https://www.h5py.org/). Это довольно низкоуровневая библиотека, поэтому рекомендую дополнительно изучить удобную в использовании [PyTables](https://www.pytables.org/), которая является оберткой над h5py. Кроме того, данные в hdf позволяет сохранять библиотека для работы с табличными данными [pandas](https://pandas.pydata.org/pandas-docs/stable/reference/api/pandas.DataFrame.to_hdf.html)\n",
    "\n",
    "HDF спроектирован для эффективного хранения многомерных массивов. \n",
    "\n",
    "Для примера работы получим три массива numpy и сохраним их в формат HDF."
   ]
  },
  {
   "cell_type": "code",
   "execution_count": 1,
   "metadata": {},
   "outputs": [
    {
     "name": "stdout",
     "output_type": "stream",
     "text": "Размерности матриц U=(10000, 40), s=(40,), V=(40, 1000)\nТипы матриц U=<class 'numpy.ndarray'>, s=<class 'numpy.ndarray'>, V=<class 'numpy.ndarray'>\n"
    }
   ],
   "source": [
    "from scipy.sparse import random\n",
    "import numpy as np\n",
    "from scipy.sparse.linalg import svds\n",
    "\n",
    "# формируем массив случайных чисел\n",
    "user_item_matrix = random(10000, 1000, density=0.01, format='coo', dtype=np.int32, random_state=42)\n",
    "user_item_matrix = user_item_matrix.asfptype()\n",
    "# разделяем массив на три части, каждую из которых будем хранить отдельно\n",
    "U, s, V = svds(user_item_matrix, k=40)\n",
    "\n",
    "print(\"Размерности матриц U={}, s={}, V={}\".format(U.shape, s.shape, V.shape))\n",
    "print(\"Типы матриц U={}, s={}, V={}\".format(type(U), type(s), type(V)))"
   ]
  },
  {
   "cell_type": "markdown",
   "metadata": {},
   "source": [
    "Логической единицей хранения в hdf является dataset. Работа с датасетом не отличается от работы с текстовыми файлами, которые мы изучили ранее в курсе: мы создаём менеджер контекста **h5py.File** и загружаем датасет внутри контеста. За пределами менеджера контекста датасет доступен не будет"
   ]
  },
  {
   "cell_type": "code",
   "execution_count": 2,
   "metadata": {},
   "outputs": [
    {
     "ename": "OSError",
     "evalue": "Unable to create file (unable to open file: name = './data/s_matrix.hdf5', errno = 2, error message = 'No such file or directory', flags = 13, o_flags = 302)",
     "output_type": "error",
     "traceback": [
      "\u001b[1;31m---------------------------------------------------------------------------\u001b[0m",
      "\u001b[1;31mOSError\u001b[0m                                   Traceback (most recent call last)",
      "\u001b[1;32m<ipython-input-2-594e8bebcb41>\u001b[0m in \u001b[0;36m<module>\u001b[1;34m\u001b[0m\n\u001b[0;32m      1\u001b[0m \u001b[1;32mimport\u001b[0m \u001b[0mh5py\u001b[0m\u001b[1;33m\u001b[0m\u001b[1;33m\u001b[0m\u001b[0m\n\u001b[0;32m      2\u001b[0m \u001b[1;33m\u001b[0m\u001b[0m\n\u001b[1;32m----> 3\u001b[1;33m \u001b[1;32mwith\u001b[0m \u001b[0mh5py\u001b[0m\u001b[1;33m.\u001b[0m\u001b[0mFile\u001b[0m\u001b[1;33m(\u001b[0m\u001b[1;34m'./data/s_matrix.hdf5'\u001b[0m\u001b[1;33m,\u001b[0m \u001b[1;34m'w'\u001b[0m\u001b[1;33m)\u001b[0m \u001b[1;32mas\u001b[0m \u001b[0mf\u001b[0m\u001b[1;33m:\u001b[0m\u001b[1;33m\u001b[0m\u001b[1;33m\u001b[0m\u001b[0m\n\u001b[0m\u001b[0;32m      4\u001b[0m     \u001b[0mh5py_dset\u001b[0m \u001b[1;33m=\u001b[0m \u001b[0mf\u001b[0m\u001b[1;33m.\u001b[0m\u001b[0mcreate_dataset\u001b[0m\u001b[1;33m(\u001b[0m\u001b[1;34m\"default\"\u001b[0m\u001b[1;33m,\u001b[0m \u001b[0mdata\u001b[0m\u001b[1;33m=\u001b[0m\u001b[0ms\u001b[0m\u001b[1;33m)\u001b[0m\u001b[1;33m\u001b[0m\u001b[1;33m\u001b[0m\u001b[0m\n\u001b[0;32m      5\u001b[0m     \u001b[0mprint\u001b[0m\u001b[1;33m(\u001b[0m\u001b[1;34m'Создали датасет в менеджере контекста: {}'\u001b[0m\u001b[1;33m.\u001b[0m\u001b[0mformat\u001b[0m\u001b[1;33m(\u001b[0m\u001b[0mh5py_dset\u001b[0m\u001b[1;33m)\u001b[0m\u001b[1;33m)\u001b[0m\u001b[1;33m\u001b[0m\u001b[1;33m\u001b[0m\u001b[0m\n",
      "\u001b[1;32m~\\Anaconda3\\lib\\site-packages\\h5py\\_hl\\files.py\u001b[0m in \u001b[0;36m__init__\u001b[1;34m(self, name, mode, driver, libver, userblock_size, swmr, rdcc_nslots, rdcc_nbytes, rdcc_w0, track_order, **kwds)\u001b[0m\n\u001b[0;32m    392\u001b[0m                 fid = make_fid(name, mode, userblock_size,\n\u001b[0;32m    393\u001b[0m                                \u001b[0mfapl\u001b[0m\u001b[1;33m,\u001b[0m \u001b[0mfcpl\u001b[0m\u001b[1;33m=\u001b[0m\u001b[0mmake_fcpl\u001b[0m\u001b[1;33m(\u001b[0m\u001b[0mtrack_order\u001b[0m\u001b[1;33m=\u001b[0m\u001b[0mtrack_order\u001b[0m\u001b[1;33m)\u001b[0m\u001b[1;33m,\u001b[0m\u001b[1;33m\u001b[0m\u001b[1;33m\u001b[0m\u001b[0m\n\u001b[1;32m--> 394\u001b[1;33m                                swmr=swmr)\n\u001b[0m\u001b[0;32m    395\u001b[0m \u001b[1;33m\u001b[0m\u001b[0m\n\u001b[0;32m    396\u001b[0m             \u001b[1;32mif\u001b[0m \u001b[0mswmr_support\u001b[0m\u001b[1;33m:\u001b[0m\u001b[1;33m\u001b[0m\u001b[1;33m\u001b[0m\u001b[0m\n",
      "\u001b[1;32m~\\Anaconda3\\lib\\site-packages\\h5py\\_hl\\files.py\u001b[0m in \u001b[0;36mmake_fid\u001b[1;34m(name, mode, userblock_size, fapl, fcpl, swmr)\u001b[0m\n\u001b[0;32m    174\u001b[0m         \u001b[0mfid\u001b[0m \u001b[1;33m=\u001b[0m \u001b[0mh5f\u001b[0m\u001b[1;33m.\u001b[0m\u001b[0mcreate\u001b[0m\u001b[1;33m(\u001b[0m\u001b[0mname\u001b[0m\u001b[1;33m,\u001b[0m \u001b[0mh5f\u001b[0m\u001b[1;33m.\u001b[0m\u001b[0mACC_EXCL\u001b[0m\u001b[1;33m,\u001b[0m \u001b[0mfapl\u001b[0m\u001b[1;33m=\u001b[0m\u001b[0mfapl\u001b[0m\u001b[1;33m,\u001b[0m \u001b[0mfcpl\u001b[0m\u001b[1;33m=\u001b[0m\u001b[0mfcpl\u001b[0m\u001b[1;33m)\u001b[0m\u001b[1;33m\u001b[0m\u001b[1;33m\u001b[0m\u001b[0m\n\u001b[0;32m    175\u001b[0m     \u001b[1;32melif\u001b[0m \u001b[0mmode\u001b[0m \u001b[1;33m==\u001b[0m \u001b[1;34m'w'\u001b[0m\u001b[1;33m:\u001b[0m\u001b[1;33m\u001b[0m\u001b[1;33m\u001b[0m\u001b[0m\n\u001b[1;32m--> 176\u001b[1;33m         \u001b[0mfid\u001b[0m \u001b[1;33m=\u001b[0m \u001b[0mh5f\u001b[0m\u001b[1;33m.\u001b[0m\u001b[0mcreate\u001b[0m\u001b[1;33m(\u001b[0m\u001b[0mname\u001b[0m\u001b[1;33m,\u001b[0m \u001b[0mh5f\u001b[0m\u001b[1;33m.\u001b[0m\u001b[0mACC_TRUNC\u001b[0m\u001b[1;33m,\u001b[0m \u001b[0mfapl\u001b[0m\u001b[1;33m=\u001b[0m\u001b[0mfapl\u001b[0m\u001b[1;33m,\u001b[0m \u001b[0mfcpl\u001b[0m\u001b[1;33m=\u001b[0m\u001b[0mfcpl\u001b[0m\u001b[1;33m)\u001b[0m\u001b[1;33m\u001b[0m\u001b[1;33m\u001b[0m\u001b[0m\n\u001b[0m\u001b[0;32m    177\u001b[0m     \u001b[1;32melif\u001b[0m \u001b[0mmode\u001b[0m \u001b[1;33m==\u001b[0m \u001b[1;34m'a'\u001b[0m\u001b[1;33m:\u001b[0m\u001b[1;33m\u001b[0m\u001b[1;33m\u001b[0m\u001b[0m\n\u001b[0;32m    178\u001b[0m         \u001b[1;31m# Open in append mode (read/write).\u001b[0m\u001b[1;33m\u001b[0m\u001b[1;33m\u001b[0m\u001b[1;33m\u001b[0m\u001b[0m\n",
      "\u001b[1;32mh5py\\_objects.pyx\u001b[0m in \u001b[0;36mh5py._objects.with_phil.wrapper\u001b[1;34m()\u001b[0m\n",
      "\u001b[1;32mh5py\\_objects.pyx\u001b[0m in \u001b[0;36mh5py._objects.with_phil.wrapper\u001b[1;34m()\u001b[0m\n",
      "\u001b[1;32mh5py\\h5f.pyx\u001b[0m in \u001b[0;36mh5py.h5f.create\u001b[1;34m()\u001b[0m\n",
      "\u001b[1;31mOSError\u001b[0m: Unable to create file (unable to open file: name = './data/s_matrix.hdf5', errno = 2, error message = 'No such file or directory', flags = 13, o_flags = 302)"
     ]
    }
   ],
   "source": [
    "import h5py\n",
    "\n",
    "with h5py.File('s_matrix.hdf5', 'w') as f:\n",
    "    h5py_dset = f.create_dataset(\"default\", data=s)\n",
    "    print('Создали датасет в менеджере контекста: {}'.format(h5py_dset))\n",
    "\n",
    "print('Датасет вне менеджера контекста недоступен: {}'.format(h5py_dset))"
   ]
  },
  {
   "cell_type": "markdown",
   "metadata": {},
   "source": [
    "Киллерфича hdf5 - сохранение датасет сложной структуры. Ближаший аналог - модуль pickle умеет сохранять только питоновские объекты, в то время как h5py способен хранить \"разветвлённые\" иерархические данные.\n",
    "\n",
    "Сохраним три отдельных numpy.array в едином датасете:"
   ]
  },
  {
   "cell_type": "code",
   "execution_count": 6,
   "metadata": {},
   "outputs": [
    {
     "name": "stdout",
     "output_type": "stream",
     "text": "Уровень группы:\t\tItemsViewHDF5(<HDF5 group \"/source_data\" (2 members)>)\nУровень подгруппы\tItemsViewHDF5(<HDF5 group \"/source_data/model_data\" (3 members)>)\n\nИмена элементов в подгруппе:\n\n/source_data/model_data/eigen_values\n/source_data/model_data/item_factors\n/source_data/model_data/user_factors\n"
    }
   ],
   "source": [
    "with h5py.File('complex_dataset.hdf5', 'w') as f:\n",
    "    # создаём группу raw\n",
    "    raw = f.create_group('source_data')\n",
    "    raw.create_dataset('complex_dataset.hdf5', data=np.random.random(1000))\n",
    "    # создаём подгруппу processed\n",
    "    processed = raw.create_group('model_data')\n",
    "    # в подгруппе proceessed группы raw создаём датасет\n",
    "    processed.create_dataset('user_factors', data=U, dtype=np.float32, compression=\"gzip\")\n",
    "    processed.create_dataset('eigen_values', data=s, dtype=np.float32, compression=\"gzip\")\n",
    "    processed.create_dataset('item_factors', data=V, dtype=np.float32, compression=\"gzip\")\n",
    "    \n",
    "    print(\"Уровень группы:\\t\\t{}\".format(raw.items()))\n",
    "    print(\"Уровень подгруппы\\t{}\".format(processed.items()))\n",
    "    # формируем список элементов, которые есть в подгруппе\n",
    "    print(\"\\nИмена элементов в подгруппе:\\n\")\n",
    "    group_names = [i.name for i in f['source_data/model_data'].values()]\n",
    "    for name in group_names:\n",
    "        print(name)"
   ]
  },
  {
   "cell_type": "code",
   "execution_count": 0,
   "metadata": {},
   "outputs": [],
   "source": [
    "!ls -hla ./data | grep hdf5"
   ]
  },
  {
   "cell_type": "markdown",
   "metadata": {},
   "source": [
    "Ниже мы сохраням все результаты разложения в директорию `/data/`. Когда мы открываем датасет на чтение, он доступен для применения различных функций (вроде min, max), но при этом он теряет свойства numpy.ndarray. Чтобы перейти обратно к массиву можно сделать slice - мы итеративно пройдёмся по данным на диске и \"соберём\" их обратно в numpy.ndarray."
   ]
  },
  {
   "cell_type": "code",
   "execution_count": 7,
   "metadata": {},
   "outputs": [
    {
     "name": "stdout",
     "output_type": "stream",
     "text": "Доступные ключи ['default']\n\nmin=15967970843.644163, \nmax=16869307715.289265, \nslice=[1.61010982e+10 1.61161420e+10 1.61308403e+10 1.61512488e+10\n 1.61722312e+10]\n\nПопытка воспользоваться функциями numpy...\nНе вышло =(\nТипизация датасетов: data=<Closed HDF5 dataset>, data_copy=<class 'numpy.ndarray'>\n\nРазмерности матриц U=(10000, 40), s=(40,), V=(40, 1000)\nТипизация матриц U=<class 'numpy.ndarray'>, s=<class 'numpy.ndarray'>, V=<class 'numpy.ndarray'>\n"
    }
   ],
   "source": [
    "with h5py.File('s_matrix.hdf5', 'r') as f:\n",
    "    print(\"Доступные ключи %s\\n\" % list(f.keys()))\n",
    "    data = f['default']\n",
    "    print(\"min={}, \\nmax={}, \\nslice={}\\n\".format(min(data), max(data), data[10:15]))\n",
    "    print(\"Попытка воспользоваться функциями numpy...\")\n",
    "    try:\n",
    "        print(data.min())\n",
    "    except AttributeError:\n",
    "        print(\"Не вышло =(\")\n",
    "    data_copy = data[:]\n",
    "print(\"Типизация датасетов: data={}, data_copy={}\\n\".format(data, type(data_copy)))\n",
    "\n",
    "# Чтение иерархических датасетов\n",
    "with h5py.File('complex_dataset.hdf5', 'r') as f:\n",
    "    U_hdf = f['source_data/model_data/user_factors'][:]\n",
    "    s_hdf = f['source_data/model_data/eigen_values'][:]\n",
    "    V_hdf = f['source_data/model_data/item_factors'][:]\n",
    "    \n",
    "print(\"Размерности матриц U={}, s={}, V={}\".format(U_hdf.shape, s_hdf.shape, V_hdf.shape))\n",
    "print(\"Типизация матриц U={}, s={}, V={}\".format(type(U_hdf), type(s_hdf), type(V_hdf)))"
   ]
  }
 ],
 "metadata": {
  "kernelspec": {
   "display_name": "Python 3",
   "language": "python",
   "name": "python3"
  },
  "language_info": {
   "codemirror_mode": {
    "name": "ipython",
    "version": 3
   },
   "file_extension": ".py",
   "mimetype": "text/x-python",
   "name": "python",
   "nbconvert_exporter": "python",
   "pygments_lexer": "ipython3",
   "version": "3.6.7"
  }
 },
 "nbformat": 4,
 "nbformat_minor": 2
}