{
 "nbformat": 4,
 "nbformat_minor": 2,
 "metadata": {
  "language_info": {
   "name": "python",
   "codemirror_mode": {
    "name": "ipython",
    "version": 3
   }
  },
  "orig_nbformat": 2,
  "file_extension": ".py",
  "mimetype": "text/x-python",
  "name": "python",
  "npconvert_exporter": "python",
  "pygments_lexer": "ipython3",
  "version": 3
 },
 "cells": [
  {
   "cell_type": "code",
   "execution_count": 9,
   "metadata": {},
   "outputs": [],
   "source": [
    "import psycopg2\n",
    "\n",
    "pg_connection = {\n",
    "    \"host\": \"dsstudents.skillbox.ru\",\n",
    "    \"port\": 5432,\n",
    "    \"dbname\": \"db_ds_students\",\n",
    "    \"user\": \"readonly\",\n",
    "    \"password\": \"6hajV34RTQfmxhS\"\n",
    "}\n",
    "conn = psycopg2.connect(**pg_connection)\n",
    "cursor = conn.cursor()"
   ]
  },
  {
   "cell_type": "code",
   "execution_count": 10,
   "metadata": {},
   "outputs": [
    {
     "name": "stdout",
     "output_type": "stream",
     "text": "[('keywords',), ('links',), ('ratings',), ('exploratory',), ('course_purchases',)]\n"
    }
   ],
   "source": [
    "sql_str = \"SELECT table_name FROM information_schema.tables WHERE table_schema='public';\"\n",
    "\n",
    "cursor.execute(sql_str)\n",
    "tables_data = [a for a in cursor.fetchall()]\n",
    "\n",
    "conn.commit()\n",
    "\n",
    "print(tables_data);"
   ]
  },
  {
   "cell_type": "code",
   "execution_count": 12,
   "metadata": {},
   "outputs": [
    {
     "name": "stdout",
     "output_type": "stream",
     "text": "(632, 4.63636363636364)\n(142115, 4.625)\n(99764, 4.58333333333333)\n(7096, 4.57142857142857)\n(4046, 4.55555555555556)\n(8724, 4.5)\n(111778, 4.5)\n(5169, 4.5)\n(4405, 4.5)\n(159817, 4.47826086956522)\n<class 'tuple'>\n"
    }
   ],
   "source": [
    "import psycopg2\n",
    "\n",
    "pg_connection = {\n",
    "    \"host\": \"dsstudents.skillbox.ru\",\n",
    "    \"port\": 5432,\n",
    "    \"dbname\": \"db_ds_students\",\n",
    "    \"user\": \"readonly\",\n",
    "    \"password\": \"6hajV34RTQfmxhS\"\n",
    "}\n",
    "conn = psycopg2.connect(**pg_connection)\n",
    "cursor = conn.cursor()\n",
    "\n",
    "sql_str= \"\"\"\n",
    "    SELECT \n",
    "        movieId, AVG(rating) as avg_rating\n",
    "    FROM public.ratings\n",
    "    GROUP BY movieId\n",
    "    HAVING COUNT(RATING)>10\n",
    "    ORDER BY avg_rating DESC\n",
    "    LIMIT 10;\n",
    "\"\"\"\n",
    "\n",
    "cursor.execute(sql_str)\n",
    "\n",
    "for row in cursor:\n",
    "    print(row)\n",
    "\n",
    "conn.close()\n",
    "print(type(row))"
   ]
  }
 ]
}