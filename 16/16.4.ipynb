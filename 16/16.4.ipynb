{
 "nbformat": 4,
 "nbformat_minor": 2,
 "metadata": {
  "language_info": {
   "name": "python",
   "codemirror_mode": {
    "name": "ipython",
    "version": 3
   }
  },
  "orig_nbformat": 2,
  "file_extension": ".py",
  "mimetype": "text/x-python",
  "name": "python",
  "npconvert_exporter": "python",
  "pygments_lexer": "ipython3",
  "version": 3
 },
 "cells": [
  {
   "cell_type": "code",
   "execution_count": 7,
   "metadata": {},
   "outputs": [
    {
     "name": "stdout",
     "output_type": "stream",
     "text": "connection = <sqlite3.Connection object at 0x000001C6BDF5BAB0> cursor = <sqlite3.Cursor object at 0x000001C6BE938260>\ninsert\n"
    }
   ],
   "source": [
    "import sqlite3\n",
    "import csv\n",
    "import pandas as pd\n",
    "\n",
    "conn = sqlite3.connect('data/example.db')\n",
    "c=conn.cursor()\n",
    "print(f'connection = {conn} cursor = {c}')\n",
    "\n",
    "c.execute('''DROP TABLE IF EXISTS jira_task''')\n",
    "c.execute('''CREATE TABLE jira_task (code text, theme text, time_plan real, time_fact real)''')\n",
    "\n",
    "with open('16.1_data/data/task.csv',encoding='utf8') as fin:\n",
    "    dr = csv.reader(fin,)\n",
    "    next(dr, None)\n",
    "    dataset = [(i[0], i[1], i[2], i[3]) for i in dr]\n",
    "\n",
    "print('insert');\n",
    "c.executemany(\"INSERT INTO jira_task VALUES (?, ?, ?, ?);\", dataset)\n",
    "conn.commit()\n",
    "conn.close()"
   ]
  },
  {
   "cell_type": "code",
   "execution_count": 11,
   "metadata": {},
   "outputs": [
    {
     "name": "stdout",
     "output_type": "stream",
     "text": "opening DB\n('HYDRA-535', 'Пробрасывать пользовательское распределение paid_types в ехидну', 'echidna', 1.0)\n('HYDRA-534', 'Гибридный рекомендатель с multi-channel feedback', 'hydra', 3.0)\n('HYDRA-532', 'Джоба в дженкинсе для расчёта динамики РВП', 'hydramatrices', 2.0)\n('HYDRA-531', 'Интеграция Hydra с Gamora', 'hydramagrices', 4.0)\n('HYDRA-530', 'Тестируем интеграцию с Jira', 'hydra', 2.0)\n('HYDRA-527', 'Поправить функцию _get_ui_rec_matrix', 'hydra', 10.0)\n('HYDRA-524', 'Оптимизировать матрицу ItemFactors', 'hydra', 2.0)\n('HYDRA-523', 'Сортировка ЦПБ', 'hydra', 5.0)\n('HYDRA-520', 'Закостылить параметр top', 'hydra', 2.0)\n('HYDRA-519', \"Сделать 'stable' конфигом по умолчанию в Гидре\", 'hydra', 2.0)\ntype string <class 'tuple'>\n"
    }
   ],
   "source": [
    "print('opening DB')\n",
    "conn = sqlite3.connect('data/example.db')\n",
    "c = conn.cursor()\n",
    "some_row = None\n",
    "for row in c.execute('Select * FROM jira_task LIMIT 10;'):\n",
    "    print(row)\n",
    "    som_row = row\n",
    "conn.close()\n",
    "print(f'type string {type(row)}')"
   ]
  }
 ]
}