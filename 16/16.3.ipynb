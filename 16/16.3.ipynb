{
 "nbformat": 4,
 "nbformat_minor": 2,
 "metadata": {
  "language_info": {
   "name": "python",
   "codemirror_mode": {
    "name": "ipython",
    "version": 3
   }
  },
  "orig_nbformat": 2,
  "file_extension": ".py",
  "mimetype": "text/x-python",
  "name": "python",
  "npconvert_exporter": "python",
  "pygments_lexer": "ipython3",
  "version": 3
 },
 "cells": [
  {
   "cell_type": "code",
   "execution_count": 20,
   "metadata": {},
   "outputs": [
    {
     "name": "stdout",
     "output_type": "stream",
     "text": "Размерности матриц U=(10000, 40), s=(40,), V=(40, 1000)\nТипы матриц U=<class 'numpy.ndarray'>, s=<class 'numpy.ndarray'>, V=<class 'numpy.ndarray'>\n"
    }
   ],
   "source": [
    "from scipy.sparse import random\n",
    "import numpy as np\n",
    "from scipy.sparse.linalg import svds\n",
    "\n",
    "user_item_matrix = random(10000, 1000, density=0.01, format='coo', dtype=np.int32, random_state=42)\n",
    "user_item_matrix = user_item_matrix.asfptype()\n",
    "\n",
    "U, s, V = svds(user_item_matrix, k=40)\n",
    "\n",
    "print(f'Размерности матриц U={U.shape}, s={s.shape}, V={V.shape}')\n",
    "print(f'Типы матриц U={type(U)}, s={type(s)}, V={type(V)}')"
   ]
  },
  {
   "cell_type": "code",
   "execution_count": 24,
   "metadata": {},
   "outputs": [
    {
     "name": "stdout",
     "output_type": "stream",
     "text": "Создали датасет в менеджере контакста <HDF5 dataset \"default\": shape (40,), type \"<f8\">\nТут датаст не доступен <Closed HDF5 dataset>\n"
    }
   ],
   "source": [
    "import h5py\n",
    "\n",
    "with h5py.File('s_matrix.hdf5') as f:\n",
    "    h5py_dset = f.create_dataset(\"default\", data=s)\n",
    "    print(f'Создали датасет в менеджере контакста {h5py_dset}')\n",
    "print(f'Тут датаст не доступен {h5py_dset}')"
   ]
  },
  {
   "cell_type": "code",
   "execution_count": 31,
   "metadata": {},
   "outputs": [
    {
     "name": "stdout",
     "output_type": "stream",
     "text": "Уровень группы:\t\t<bound method MappingHDF5.items of <HDF5 group \"/source_data\" (2 members)>>\nУровень подгруппы\t<bound method MappingHDF5.items of <HDF5 group \"/source_data/model_data\" (3 members)>>\nИмена элементов в подгруппе:\n\n/source_data/model_data/eigen_values\n/source_data/model_data/item_factors\n/source_data/model_data/user_factors\n"
    }
   ],
   "source": [
    "with h5py.File('complex_dataset.hdf5','w') as f:\n",
    "    raw = f.create_group('source_data')\n",
    "    raw.create_dataset('complex_dataset.hdf5', data=np.random.random(1000))\n",
    "\n",
    "    processed = raw.create_group('model_data')\n",
    "\n",
    "    processed.create_dataset('user_factors', data=U, dtype=np.float32, compression='gzip')\n",
    "    processed.create_dataset('eigen_values', data=s, dtype=np.float32, compression='gzip')\n",
    "    processed.create_dataset('item_factors', data=V, dtype=np.float32, compression='gzip')\n",
    "\n",
    "    print(f'Уровень группы:\\t\\t{raw.items}')\n",
    "    print(f'Уровень подгруппы\\t{processed.items}')\n",
    "    print(f'Имена элементов в подгруппе:\\n')\n",
    "    group_names = [i.name for i in f['source_data/model_data'].values()]\n",
    "    for name in group_names:\n",
    "        print(name)"
   ]
  },
  {
   "cell_type": "code",
   "execution_count": 32,
   "metadata": {},
   "outputs": [
    {
     "name": "stdout",
     "output_type": "stream",
     "text": "Доступные ключи ['default']\n\nmin=15967970843.644152, \nmax=16869307715.289255, \nslice=[1.61010982e+10 1.61161420e+10 1.61308403e+10 1.61512488e+10\n 1.61722312e+10]\n\nПопытка воспользоваться функциями numpy...\nНе вышло =(\nТипизация датасетов: data=<Closed HDF5 dataset>, data_copy=<class 'numpy.ndarray'>\n\nРазмерности матриц U=(10000, 40), s=(40,), V=(40, 1000)\nТипизация матриц U=<class 'numpy.ndarray'>, s=<class 'numpy.ndarray'>, V=<class 'numpy.ndarray'>\n"
    }
   ],
   "source": [
    "with h5py.File('s_matrix.hdf5', 'r') as f:\n",
    "    print(\"Доступные ключи %s\\n\" % list(f.keys()))\n",
    "    data = f['default']\n",
    "    print(\"min={}, \\nmax={}, \\nslice={}\\n\".format(min(data), max(data), data[10:15]))\n",
    "    print(\"Попытка воспользоваться функциями numpy...\")\n",
    "    try:\n",
    "        print(data.min())\n",
    "    except AttributeError:\n",
    "        print(\"Не вышло =(\")\n",
    "    data_copy = data[:]\n",
    "print(\"Типизация датасетов: data={}, data_copy={}\\n\".format(data, type(data_copy)))\n",
    "\n",
    "# Чтение иерархических датасетов\n",
    "with h5py.File('complex_dataset.hdf5', 'r') as f:\n",
    "    U_hdf = f['source_data/model_data/user_factors'][:]\n",
    "    s_hdf = f['source_data/model_data/eigen_values'][:]\n",
    "    V_hdf = f['source_data/model_data/item_factors'][:]\n",
    "    \n",
    "print(\"Размерности матриц U={}, s={}, V={}\".format(U_hdf.shape, s_hdf.shape, V_hdf.shape))\n",
    "print(\"Типизация матриц U={}, s={}, V={}\".format(type(U_hdf), type(s_hdf), type(V_hdf)))"
   ]
  }
 ]
}