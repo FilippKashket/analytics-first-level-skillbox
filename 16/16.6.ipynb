{
 "nbformat": 4,
 "nbformat_minor": 2,
 "metadata": {
  "language_info": {
   "name": "python",
   "codemirror_mode": {
    "name": "ipython",
    "version": 3
   }
  },
  "orig_nbformat": 2,
  "file_extension": ".py",
  "mimetype": "text/x-python",
  "name": "python",
  "npconvert_exporter": "python",
  "pygments_lexer": "ipython3",
  "version": 3
 },
 "cells": [
  {
   "cell_type": "code",
   "execution_count": 3,
   "metadata": {},
   "outputs": [
    {
     "data": {
      "text/html": "<div>\n<style scoped>\n    .dataframe tbody tr th:only-of-type {\n        vertical-align: middle;\n    }\n\n    .dataframe tbody tr th {\n        vertical-align: top;\n    }\n\n    .dataframe thead th {\n        text-align: right;\n    }\n</style>\n<table border=\"1\" class=\"dataframe\">\n  <thead>\n    <tr style=\"text-align: right;\">\n      <th></th>\n      <th>code</th>\n      <th>theme</th>\n      <th>time_plan</th>\n      <th>time_fact</th>\n    </tr>\n  </thead>\n  <tbody>\n    <tr>\n      <th>0</th>\n      <td>HYDRA-535</td>\n      <td>Пробрасывать пользовательское распределение pa...</td>\n      <td>echidna</td>\n      <td>1.0</td>\n    </tr>\n    <tr>\n      <th>1</th>\n      <td>HYDRA-534</td>\n      <td>Гибридный рекомендатель с multi-channel feedback</td>\n      <td>hydra</td>\n      <td>3.0</td>\n    </tr>\n    <tr>\n      <th>2</th>\n      <td>HYDRA-532</td>\n      <td>Джоба в дженкинсе для расчёта динамики РВП</td>\n      <td>hydramatrices</td>\n      <td>2.0</td>\n    </tr>\n    <tr>\n      <th>3</th>\n      <td>HYDRA-531</td>\n      <td>Интеграция Hydra с Gamora</td>\n      <td>hydramagrices</td>\n      <td>4.0</td>\n    </tr>\n    <tr>\n      <th>4</th>\n      <td>HYDRA-530</td>\n      <td>Тестируем интеграцию с Jira</td>\n      <td>hydra</td>\n      <td>2.0</td>\n    </tr>\n  </tbody>\n</table>\n</div>",
      "text/plain": "        code                                              theme  \\\n0  HYDRA-535  Пробрасывать пользовательское распределение pa...   \n1  HYDRA-534   Гибридный рекомендатель с multi-channel feedback   \n2  HYDRA-532         Джоба в дженкинсе для расчёта динамики РВП   \n3  HYDRA-531                          Интеграция Hydra с Gamora   \n4  HYDRA-530                        Тестируем интеграцию с Jira   \n\n       time_plan  time_fact  \n0        echidna        1.0  \n1          hydra        3.0  \n2  hydramatrices        2.0  \n3  hydramagrices        4.0  \n4          hydra        2.0  "
     },
     "execution_count": 3,
     "metadata": {},
     "output_type": "execute_result"
    }
   ],
   "source": [
    "import pandas as pd\n",
    "import sqlite3\n",
    "\n",
    "conn = sqlite3.connect(\"./data/example.db\")\n",
    "df = pd.read_sql_query(\"SELECT * FROM jira_task limit 5;\", conn)\n",
    "\n",
    "df.head()"
   ]
  },
  {
   "cell_type": "code",
   "execution_count": 4,
   "metadata": {},
   "outputs": [
    {
     "data": {
      "text/html": "<div>\n<style scoped>\n    .dataframe tbody tr th:only-of-type {\n        vertical-align: middle;\n    }\n\n    .dataframe tbody tr th {\n        vertical-align: top;\n    }\n\n    .dataframe thead th {\n        text-align: right;\n    }\n</style>\n<table border=\"1\" class=\"dataframe\">\n  <thead>\n    <tr style=\"text-align: right;\">\n      <th></th>\n      <th>userid</th>\n      <th>movieid</th>\n      <th>rating</th>\n      <th>timestamp</th>\n    </tr>\n  </thead>\n  <tbody>\n    <tr>\n      <th>0</th>\n      <td>3186</td>\n      <td>1221</td>\n      <td>4.5</td>\n      <td>1218661069</td>\n    </tr>\n    <tr>\n      <th>1</th>\n      <td>3186</td>\n      <td>1258</td>\n      <td>4.5</td>\n      <td>1218661492</td>\n    </tr>\n    <tr>\n      <th>2</th>\n      <td>3186</td>\n      <td>1431</td>\n      <td>3.5</td>\n      <td>1218660604</td>\n    </tr>\n    <tr>\n      <th>3</th>\n      <td>3186</td>\n      <td>1682</td>\n      <td>4.0</td>\n      <td>1218679688</td>\n    </tr>\n    <tr>\n      <th>4</th>\n      <td>3186</td>\n      <td>1760</td>\n      <td>0.5</td>\n      <td>1218660660</td>\n    </tr>\n  </tbody>\n</table>\n</div>",
      "text/plain": "   userid  movieid  rating   timestamp\n0    3186     1221     4.5  1218661069\n1    3186     1258     4.5  1218661492\n2    3186     1431     3.5  1218660604\n3    3186     1682     4.0  1218679688\n4    3186     1760     0.5  1218660660"
     },
     "execution_count": 4,
     "metadata": {},
     "output_type": "execute_result"
    }
   ],
   "source": [
    "import psycopg2\n",
    "import pandas as pd\n",
    "\n",
    "pg_connection = {\n",
    "    \"host\": \"dsstudents.skillbox.ru\",\n",
    "    \"port\": 5432,\n",
    "    \"dbname\": \"db_ds_students\",\n",
    "    \"user\": \"readonly\",\n",
    "    \"password\": \"6hajV34RTQfmxhS\"\n",
    "}\n",
    "conn = psycopg2.connect(**pg_connection)\n",
    "\n",
    "df = pd.read_sql_query(\"SELECT * FROM public.ratings LIMIT 5;\",conn)\n",
    "df.head()"
   ]
  }
 ]
}