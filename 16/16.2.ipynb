{
 "nbformat": 4,
 "nbformat_minor": 2,
 "metadata": {
  "language_info": {
   "name": "python",
   "codemirror_mode": {
    "name": "ipython",
    "version": 3
   }
  },
  "orig_nbformat": 2,
  "file_extension": ".py",
  "mimetype": "text/x-python",
  "name": "python",
  "npconvert_exporter": "python",
  "pygments_lexer": "ipython3",
  "version": 3
 },
 "cells": [
  {
   "cell_type": "code",
   "execution_count": 2,
   "metadata": {},
   "outputs": [
    {
     "name": "stdout",
     "output_type": "stream",
     "text": "temp_dict -> {'foo': 'bar'}\nСловарь не найден\ntemp_dict -> {'foo': 'bar'}\n"
    }
   ],
   "source": [
    "import pickle\n",
    "\n",
    "temp_dict ={'foo': 'bar'}\n",
    "\n",
    "print(f'temp_dict -> {temp_dict}')\n",
    "\n",
    "with open('./dict.pkl', 'wb') as f:\n",
    "    pickle.dump(temp_dict, f)\n",
    "\n",
    "del temp_dict\n",
    "\n",
    "try:\n",
    "    print(f'temp_dict -> {temp_dict}')\n",
    "except NameError:\n",
    "    print('Словарь не найден')\n",
    "\n",
    "with open('./dict.pkl', 'rb') as f:\n",
    "    temp_dict = pickle.load(f)\n",
    "\n",
    "print(f'temp_dict -> {temp_dict}')"
   ]
  }
 ]
}