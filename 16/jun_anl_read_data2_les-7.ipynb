{
 "cells": [
  {
   "cell_type": "markdown",
   "metadata": {},
   "source": [
    "# Работа с БД: MongoDB\n",
    "\n",
    "MongoDB - это т.н. **документоориентированная БД**, иногда их ещё называют бессхемными (schema-less).\n",
    "\n",
    "В противоположность реляционным БД, где есть таблицы со строками, MongoDB оперирует другими понятиями:\n",
    "* database - база данных, как в Postgres\n",
    "* collection - коллекция, аналог таблицы\n",
    "* document - документ, аналог строки в таблице\n",
    "\n",
    "В отличие от реляционных БД, где все строки в таблице имеют одинаковые поля, каждый документ в коллекции MongoDB потенциально может иметь свой уникальный набор полей.\n",
    "\n",
    "Подключёние происходит с помощью библиотеку **pymongo**, для подключения к БД нужно авторизоваться. Попробуем подключиться к БД и вытащить список доступных коллекций."
   ]
  },
  {
   "cell_type": "code",
   "execution_count": 3,
   "metadata": {},
   "outputs": [
    {
     "name": "stdout",
     "output_type": "stream",
     "text": [
      "Коллекции, доступные в MongoDB: ['tags']\n"
     ]
    }
   ],
   "source": [
    "from pymongo import MongoClient\n",
    "\n",
    "mongo_connection = {\n",
    "    \"host\": \"dsstudents.skillbox.ru\",\n",
    "    \"port\": 27017,\n",
    "    \"user\": \"students\",\n",
    "    \"password\": \"X63673t47Gl03Sq\",\n",
    "    \"authSource\": \"movies\"\n",
    "}\n",
    "\n",
    "mongo = MongoClient('mongodb://%s:%s@%s:%s/?authSource=%s' % (\n",
    "    mongo_connection['user'], mongo_connection['password'],\n",
    "    mongo_connection['host'], mongo_connection['port'], mongo_connection['authSource'])\n",
    ")\n",
    "db = mongo[\"movies\"]\n",
    "\n",
    "print(\"Коллекции, доступные в MongoDB: %s\" % db.list_collection_names())"
   ]
  },
  {
   "cell_type": "markdown",
   "metadata": {},
   "source": [
    "Можно посчитать самую простую статистику - количество документов в коллекции с помощью функции *.count()*"
   ]
  },
  {
   "cell_type": "code",
   "execution_count": 4,
   "metadata": {},
   "outputs": [
    {
     "name": "stdout",
     "output_type": "stream",
     "text": [
      "Число документов в коллекции 158680\n"
     ]
    }
   ],
   "source": [
    "collection = db['tags']\n",
    "print(\"Число документов в коллекции %s\" % collection.estimated_document_count())"
   ]
  },
  {
   "cell_type": "code",
   "execution_count": 5,
   "metadata": {},
   "outputs": [
    {
     "name": "stdout",
     "output_type": "stream",
     "text": [
      "Результат выборки: объект типа cursor <pymongo.cursor.Cursor object at 0x7fef3c25beb8>\n",
      "\n",
      "Сожержимое курсора:\n",
      "[{'_id': ObjectId('5c822402c0669da98bd5081e'), 'id': 931, 'name': 'jealousy'}, {'_id': ObjectId('5c822402c0669da98bd5081f'), 'id': 4290, 'name': 'toy'}, {'_id': ObjectId('5c822402c0669da98bd50820'), 'id': 5202, 'name': 'boy'}, {'_id': ObjectId('5c822402c0669da98bd50821'), 'id': 6054, 'name': 'friendship'}, {'_id': ObjectId('5c822402c0669da98bd50822'), 'id': 9713, 'name': 'friends'}]\n",
      "\n",
      "Поля элемента курсора ['_id', 'id', 'name']\n"
     ]
    }
   ],
   "source": [
    "mongo_cursor = collection.find().limit(5)\n",
    "print(\"Результат выборки: объект типа cursor %s\\n\" % mongo_cursor)\n",
    "\n",
    "# пройдёмся по курсору и посмотрим, что внутри\n",
    "cursor_items = [item for item in mongo_cursor]\n",
    "print(\"Сожержимое курсора:\\n%s\\n\" % cursor_items)\n",
    "print(\"Поля элемента курсора %s\" % list(cursor_items[0].keys()))"
   ]
  },
  {
   "cell_type": "markdown",
   "metadata": {},
   "source": [
    "В метод *.find()* можно подставить т.н. селектор - это словарь, который помогает оставить в выдачё только нужные поля. Селектор задаётся атрибутом *projection*"
   ]
  },
  {
   "cell_type": "code",
   "execution_count": 6,
   "metadata": {},
   "outputs": [
    {
     "name": "stdout",
     "output_type": "stream",
     "text": [
      "Содержимое курсора (оставляем только поле 'name'):\n",
      "[{'_id': ObjectId('5c822402c0669da98bd5081e'), 'name': 'jealousy'}, {'_id': ObjectId('5c822402c0669da98bd5081f'), 'name': 'toy'}, {'_id': ObjectId('5c822402c0669da98bd50820'), 'name': 'boy'}, {'_id': ObjectId('5c822402c0669da98bd50821'), 'name': 'friendship'}, {'_id': ObjectId('5c822402c0669da98bd50822'), 'name': 'friends'}]\n",
      "\n",
      "Сожержимое курсора (выключаем _id):\n",
      "[{'id': 931, 'name': 'jealousy'}, {'id': 4290, 'name': 'toy'}, {'id': 5202, 'name': 'boy'}, {'id': 6054, 'name': 'friendship'}, {'id': 9713, 'name': 'friends'}]\n",
      "\n",
      "Сожержимое курсора без лишних полей:\n",
      "[{'name': 'jealousy'}, {'name': 'toy'}, {'name': 'boy'}, {'name': 'friendship'}, {'name': 'friends'}]\n",
      "\n"
     ]
    }
   ],
   "source": [
    "selector = {'name': True}\n",
    "mongo_cursor = collection.find(projection=selector).limit(5)\n",
    "cursor_items = [item for item in mongo_cursor]\n",
    "print(\"Содержимое курсора (оставляем только поле 'name'):\\n%s\\n\" % cursor_items)\n",
    "\n",
    "# Нам мешается поле \"_id\" - можем выключить его\n",
    "selector = {'_id': False}\n",
    "mongo_cursor = collection.find(projection=selector).limit(5)\n",
    "cursor_items = [item for item in mongo_cursor]\n",
    "print(\"Сожержимое курсора (выключаем _id):\\n%s\\n\" % cursor_items)\n",
    "\n",
    "#  можем выключить  поле \"_id\" и включить \"name\"\n",
    "selector = {'_id': False, 'name': True}\n",
    "mongo_cursor = collection.find(projection=selector).limit(5)\n",
    "cursor_items = [item for item in mongo_cursor]\n",
    "print(\"Сожержимое курсора без лишних полей:\\n%s\\n\" % cursor_items)"
   ]
  },
  {
   "cell_type": "markdown",
   "metadata": {},
   "source": [
    "Фильтровать можно с помощью параметра *.filter()*"
   ]
  },
  {
   "cell_type": "code",
   "execution_count": 7,
   "metadata": {},
   "outputs": [
    {
     "name": "stdout",
     "output_type": "stream",
     "text": [
      "Сожержимое курсора (оставляем только 'name'=='toy'):\n",
      "[{'id': 4290, 'name': 'toy'}, {'id': 4290, 'name': 'toy'}, {'id': 4290, 'name': 'toy'}, {'id': 4290, 'name': 'toy'}, {'id': 4290, 'name': 'toy'}]\n",
      "\n"
     ]
    }
   ],
   "source": [
    "selector = {'name': 'toy'}\n",
    "exclude_id = {'_id': False}\n",
    "mongo_cursor = collection.find(projection=exclude_id, filter={'name': 'toy'}).limit(5)\n",
    "cursor_items = [item for item in mongo_cursor]\n",
    "print(\"Сожержимое курсора (оставляем только 'name'=='toy'):\\n%s\\n\" % cursor_items)"
   ]
  },
  {
   "cell_type": "markdown",
   "metadata": {},
   "source": [
    "MongoDB позволяет также выполнять сложные агрегирующие запросы средствами СУБД"
   ]
  },
  {
   "cell_type": "code",
   "execution_count": 8,
   "metadata": {},
   "outputs": [
    {
     "name": "stdout",
     "output_type": "stream",
     "text": [
      "[{'_id': 'woman director', 'tag_count': 3115}, {'_id': 'independent film', 'tag_count': 1930}, {'_id': 'murder', 'tag_count': 1308}, {'_id': 'based on novel', 'tag_count': 835}, {'_id': 'musical', 'tag_count': 734}]\n"
     ]
    }
   ],
   "source": [
    "pipline = [\n",
    "    {\"$group\":\n",
    "        {\"_id\": \"$name\",\n",
    "         \"tag_count\":\n",
    "            {\"$sum\": 1}\n",
    "         }\n",
    "     },\n",
    "    {\"$sort\":\n",
    "        {\"tag_count\": -1}\n",
    "     },\n",
    "    {\"$limit\": 5}\n",
    "]\n",
    "\n",
    "print([i for i in collection.aggregate(pipline)])"
   ]
  }
 ],
 "metadata": {
  "kernelspec": {
   "display_name": "Python 3",
   "language": "python",
   "name": "python3"
  },
  "language_info": {
   "codemirror_mode": {
    "name": "ipython",
    "version": 3
   },
   "file_extension": ".py",
   "mimetype": "text/x-python",
   "name": "python",
   "nbconvert_exporter": "python",
   "pygments_lexer": "ipython3",
   "version": "3.6.7"
  }
 },
 "nbformat": 4,
 "nbformat_minor": 2
}
