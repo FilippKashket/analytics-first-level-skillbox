{
 "cells": [
  {
   "cell_type": "code",
   "execution_count": 3,
   "metadata": {},
   "outputs": [
    {
     "name": "stdout",
     "output_type": "stream",
     "text": [
      "192.168.101.4 - - [05/Feb/2019:21:36:07 +0300] \"GET /movie/is_personalizable/?history_type=watch&uid=5734473158358418&master_uid=5734473158358418 HTTP/1.1\" 200 75 \"-\" \"python-requests/2.0.0 CPython/2.7.3 Linux/4.4.0-47-generic\"\n",
      "\n",
      "192.168.102.3 - - [05/Feb/2019:21:36:07 +0300] \"POST /logger/content/time/ HTTP/1.1\" 404 305 \"-\" \"Mozilla/5.0 (Windows; U; en-US; rv:1.8.1.11; Gecko/20071129; Firefox/2.5.0) Maple 6.0.00067 Navi\"\n",
      "\n",
      "192.168.102.3 - - [05/Feb/2019:21:36:07 +0300] \"GET /movie/collection/items/recommendations/?uid=1623029046&master_uid=1623029046&collection_id=1525&subsite=141&app_version=10924&user_ab_bucket=10679 HTTP/1.1\" 200 535 \"-\" \"python-requests/2.0.0 CPython/2.7.3 Linux/3.13.0-24-generic\"\n",
      "\n",
      "192.168.7.46 - - [05/Feb/2019:21:36:07 +0300] \"GET /movie/recommendations/?uid=803285924&master_uid=803285924&iid=102751&user_ab_bucket=12493&top=30&scenario_id=ITEM_PAGE&app_version=15100&subsite=3021 HTTP/1.1\" 200 1392 \"-\" \"python-requests/2.0.0 CPython/2.7.3 Linux/3.13.0-24-generic\"\n",
      "\n",
      "\n",
      "\n"
     ]
    }
   ],
   "source": [
    "file_path = './data/uwsgi.log'\n",
    "\n",
    "with open(file_path, 'r') as f:\n",
    "    for row in f:\n",
    "        print(row)"
   ]
  },
  {
   "cell_type": "code",
   "execution_count": 6,
   "metadata": {},
   "outputs": [
    {
     "name": "stdout",
     "output_type": "stream",
     "text": [
      "IP adrress 192.168.101.4\n",
      "IP adrress 192.168.102.3\n",
      "IP adrress 192.168.102.3\n",
      "IP adrress 192.168.7.46\n"
     ]
    }
   ],
   "source": [
    "file_path = './data/uwsgi.log'\n",
    "\n",
    "with open(file_path, 'r') as f:\n",
    "    for row in f:\n",
    "        parted_row = row.split(' ')\n",
    "        if len(parted_row)>1:\n",
    "            print(\"IP adrress \"+ parted_row[0])"
   ]
  }
 ],
 "metadata": {
  "kernelspec": {
   "display_name": "Python 3",
   "language": "python",
   "name": "python3"
  },
  "language_info": {
   "codemirror_mode": {
    "name": "ipython",
    "version": 3
   },
   "file_extension": ".py",
   "mimetype": "text/x-python",
   "name": "python",
   "nbconvert_exporter": "python",
   "pygments_lexer": "ipython3",
   "version": "3.7.3"
  }
 },
 "nbformat": 4,
 "nbformat_minor": 2
}
