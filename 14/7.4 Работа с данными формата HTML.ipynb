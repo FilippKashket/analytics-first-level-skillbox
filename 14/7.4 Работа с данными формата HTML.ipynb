{
 "cells": [
  {
   "cell_type": "markdown",
   "metadata": {},
   "source": [
    "# Работа с данными формата HTML и XML\n",
    "\n",
    "Для работы с XML и HTML можно использовать сторонний модуль [lxml])(https://lxml.de/), который является обёрткой над С-библиотеками  **libxml2** и **libxslt**.\n",
    "\n",
    "Пример кода, который проводит разбор большого XML, можно посмотреть в проекте по парсингу [отчётов системы аналитики Tableau ](https://github.com/Dju999/TableauParser)\n",
    "\n",
    "## Работа с HTML\n",
    "\n",
    "Библиотека [lxml.html](https://lxml.de/lxmlhtml.html) позволяет обращаться к данным html с помощью XPath.\n",
    "\n",
    "Xpath - это декларативный языка для обращения к html данным. Он позволяет выбирать содержимое веб-страницы, выполняя навигацию по тегам, блокам div и т.д.\n",
    "\n",
    "Перед тем, как использовать XPath, придётся посмотреть [на html-код страницы](view-source:https://skillbox.ru/courses/code) н найти интересующие нас тэги.\n",
    "\n",
    "Видно, что нам интересен тэг `menu__name` - названия крупных разделов в каталоге курса"
   ]
  },
  {
   "cell_type": "code",
   "execution_count": 1,
   "metadata": {},
   "outputs": [
    {
     "name": "stdout",
     "output_type": "stream",
     "text": [
      "Результат применения XPath:  []\n",
      "\n",
      "Список разделов:\n",
      "\n"
     ]
    }
   ],
   "source": [
    "import requests\n",
    "from lxml import html\n",
    "\n",
    "page = requests.get('https://skillbox.ru/courses/code').content\n",
    "\n",
    "html_tree = html.fromstring(page)\n",
    "\n",
    "items = html_tree.xpath(\"//span[contains(@class, '{}')]\".format('menu__name'))\n",
    "\n",
    "\n",
    "print(\"Результат применения XPath: \", items)\n",
    "\n",
    "print(\"\\nСписок разделов:\\n\")\n",
    "for item in items:\n",
    "    print(item.text)"
   ]
  },
  {
   "cell_type": "markdown",
   "metadata": {},
   "source": [
    "Видим, что второй блок называется \"Программирование\" - то, что нужно. Достанем список курсов по программированию. Находим группу курсов, которая соответствуем каталогу \"Программирование\""
   ]
  },
  {
   "cell_type": "code",
   "execution_count": 3,
   "metadata": {},
   "outputs": [
    {
     "name": "stdout",
     "output_type": "stream",
     "text": [
      "Frontend-разработчик\n",
      "PHP-разработчик\n",
      "Data Scientist с 0 до PRO\n",
      "Java-разработчик\n",
      "Python с 0 до PRO\n",
      "Python-разработчик\n",
      "PHP-разработчик с 0 до PRO\n",
      "Мобильный разработчик PRO\n",
      "Аналитик данных на Python\n",
      "С#-разработчик\n",
      "Программист 1С-Битрикс\n",
      "iOS-разработчик с 0 до PRO\n",
      "Android-разработчик с 0 до PRO\n",
      "C#-разработчик с 0 до PRO\n",
      "1С-разработчик с 0 до PRO\n"
     ]
    }
   ],
   "source": [
    "\n",
    "items_list = html_tree.xpath(\"//div[@class='{}'] \".format('course-info'))\n",
    "\n",
    "for course in items_list:\n",
    "    course_title = course.xpath(\"div[@class='{}']\".format('course-title'))[0]\n",
    "    course_tag = course.xpath(\"div[@class='{}']/div\".format('course-tags'))[0]\n",
    "    if course_tag.text == 'Программирование':\n",
    "        print(course_title.text)"
   ]
  },
  {
   "cell_type": "markdown",
   "metadata": {},
   "source": [
    "Чтобы получить путь `XPath` до любого элемента, надо:\n",
    "    \n",
    "* Открыть в браузере Google Chrome страничку с курсами `https://skillbox.ru/courses/code/`\n",
    "* Открыть в настройках пункт ***Инструменты разработчика**, должна получиться вот такая картинка"
   ]
  },
  {
   "cell_type": "markdown",
   "metadata": {},
   "source": [
    "![dev_tools](img/dev_tools.png)"
   ]
  },
  {
   "cell_type": "markdown",
   "metadata": {},
   "source": [
    "* найти в открывшемся списке элемент, до которого вы хотите посмотреть путь **XPath** (он будет подсвечивать на html странице)\n",
    "* нажать на значок из трёх точек `...` рядом с этим элементом\n",
    "* из выпавшего списка выбрать пункт **Скопировать XPath**"
   ]
  },
  {
   "cell_type": "markdown",
   "metadata": {},
   "source": [
    "![xpath](img/xpath.png)"
   ]
  },
  {
   "cell_type": "code",
   "execution_count": null,
   "metadata": {},
   "outputs": [],
   "source": []
  }
 ],
 "metadata": {
  "kernelspec": {
   "display_name": "Python 3",
   "language": "python",
   "name": "python3"
  },
  "language_info": {
   "codemirror_mode": {
    "name": "ipython",
    "version": 3
   },
   "file_extension": ".py",
   "mimetype": "text/x-python",
   "name": "python",
   "nbconvert_exporter": "python",
   "pygments_lexer": "ipython3",
   "version": "3.7.3"
  }
 },
 "nbformat": 4,
 "nbformat_minor": 2
}
