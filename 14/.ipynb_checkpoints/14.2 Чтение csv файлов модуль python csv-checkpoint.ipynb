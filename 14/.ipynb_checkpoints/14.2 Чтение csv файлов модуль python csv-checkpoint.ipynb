{
 "cells": [
  {
   "cell_type": "code",
   "execution_count": 11,
   "metadata": {
    "scrolled": true
   },
   "outputs": [
    {
     "name": "stdout",
     "output_type": "stream",
     "text": [
      "['Код', 'Тема', 'Компонент', 'Затрачено в часах']\n",
      "['HYDRA-535', 'Пробрасывать пользовательское распределение paid_types в ехидну', 'echidna', '1']\n",
      "['HYDRA-534', 'Гибридный рекомендатель с multi-channel feedback', 'hydra', '3']\n",
      "['HYDRA-532', 'Джоба в дженкинсе для расчёта динамики РВП', 'hydramatrices', '2']\n",
      "['HYDRA-531', 'Интеграция Hydra с Gamora', 'hydramagrices', '4']\n",
      "['HYDRA-530', 'Тестируем интеграцию с Jira', 'hydra', '2']\n",
      "['HYDRA-527', 'Поправить функцию _get_ui_rec_matrix', 'hydra', '10']\n",
      "['HYDRA-524', 'Оптимизировать матрицу ItemFactors', 'hydra', '2']\n",
      "['HYDRA-523', 'Сортировка ЦПБ', 'hydra', '5']\n",
      "['HYDRA-520', 'Закостылить параметр top', 'hydra', '2']\n",
      "['HYDRA-519', \"Сделать 'stable' конфигом по умолчанию в Гидре\", 'hydra', '2']\n",
      "['HYDRA-518', 'Неудобно тестировать запись в redis', 'hydramatrices', '1']\n",
      "['HYDRA-517', 'Улучшить рекомендации (первая итерация)', 'hydra', '7']\n",
      "['HYDRA-514', 'Добавить логирование в скрипты hydra/bin', 'hydramagrices', '5']\n",
      "['HYDRA-513', 'Поправить storage_backend', 'hydramatrices', '2']\n",
      "['HYDRA-511', 'Перемешивание рекомендаций для старых пользователей', 'hydra', '5']\n",
      "['HYDRA-510', 'Поправить скрипты bpr и и оценщика', 'hydra_utils', '16']\n",
      "['HYDRA-509', 'Динамические персональные рекомендации', 'hydra', '10']\n",
      "['HYDRA-507', 'Навести порядок в prepare_data_for_hydra', 'hydramagrices', '3']\n",
      "['HYDRA-506', 'Техдолг по логике /collection/recommendations/', 'hydra', '24']\n"
     ]
    }
   ],
   "source": [
    "import csv\n",
    "\n",
    "file_path='./data/task.csv'\n",
    "\n",
    "sapmle_row = None\n",
    "with open(file_path,encoding='utf8') as csvfile:\n",
    "    reader = csv.DictReader(csvfile)\n",
    "    print(reader.fieldnames)\n",
    "    for row in reader:\n",
    "          print([row[field_name] for field_name in reader.fieldnames])\n",
    "          sample_row = row"
   ]
  },
  {
   "cell_type": "code",
   "execution_count": 12,
   "metadata": {},
   "outputs": [
    {
     "data": {
      "text/plain": [
       "OrderedDict([('Код', 'HYDRA-506'),\n",
       "             ('Тема', 'Техдолг по логике /collection/recommendations/'),\n",
       "             ('Компонент', 'hydra'),\n",
       "             ('Затрачено в часах', '24')])"
      ]
     },
     "execution_count": 12,
     "metadata": {},
     "output_type": "execute_result"
    }
   ],
   "source": [
    "row"
   ]
  }
 ],
 "metadata": {
  "kernelspec": {
   "display_name": "Python 3",
   "language": "python",
   "name": "python3"
  },
  "language_info": {
   "codemirror_mode": {
    "name": "ipython",
    "version": 3
   },
   "file_extension": ".py",
   "mimetype": "text/x-python",
   "name": "python",
   "nbconvert_exporter": "python",
   "pygments_lexer": "ipython3",
   "version": "3.7.3"
  }
 },
 "nbformat": 4,
 "nbformat_minor": 2
}
