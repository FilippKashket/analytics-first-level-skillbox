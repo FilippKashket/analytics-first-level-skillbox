{
 "cells": [
  {
   "cell_type": "code",
   "execution_count": 7,
   "metadata": {},
   "outputs": [
    {
     "name": "stdout",
     "output_type": "stream",
     "text": [
      "wb = <class 'openpyxl.workbook.workbook.Workbook'>\n",
      "\n",
      "\n",
      "Читаем excel построчно:\n",
      "\n",
      "['Модуль', 'Урок']\n",
      "['Введение в анализ данных', 'Что такое Data Science?']\n",
      "[None, 'Процесс анализа данных']\n",
      "['Введение в Python', 'Почему Python?']\n",
      "[None, 'Установка окружения']\n",
      "[None, 'Домашняя работа']\n",
      "['Библиотека NumPy (ч.1)', 'Основные идеи NumPy']\n",
      "[None, 'Ndarray - базовая концепция и операции']\n",
      "[None, 'Базовые операции']\n",
      "[None, 'Работа с массивами']\n"
     ]
    }
   ],
   "source": [
    "from openpyxl import load_workbook\n",
    "\n",
    "file_path ='./data/Analytics_Junior.xlsx'\n",
    "\n",
    "wb = load_workbook(file_path)\n",
    "\n",
    "print(\"wb = %s\"%type(wb))\n",
    "\n",
    "first_worksheet = wb.worksheets[0]\n",
    "first_row = first_worksheet[1]\n",
    "\n",
    "header = [i.value for i in first_row if i.value]\n",
    "\n",
    "print(\"\\n\\nЧитаем excel построчно:\\n\")\n",
    "for row in first_worksheet.iter_rows(min_row=1, max_row=10):\n",
    "    if row[len(header)-1].value:\n",
    "        print([cell.value for cell in row[:len(header)]])"
   ]
  }
 ],
 "metadata": {
  "kernelspec": {
   "display_name": "Python 3",
   "language": "python",
   "name": "python3"
  },
  "language_info": {
   "codemirror_mode": {
    "name": "ipython",
    "version": 3
   },
   "file_extension": ".py",
   "mimetype": "text/x-python",
   "name": "python",
   "nbconvert_exporter": "python",
   "pygments_lexer": "ipython3",
   "version": "3.7.3"
  }
 },
 "nbformat": 4,
 "nbformat_minor": 2
}
