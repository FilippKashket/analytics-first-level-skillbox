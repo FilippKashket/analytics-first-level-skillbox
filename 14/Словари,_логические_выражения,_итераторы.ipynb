{
 "cells": [
  {
   "cell_type": "markdown",
   "metadata": {},
   "source": [
    "<div style=\"text-align: right\"> <a href=\"https://github.com/vikaborel\">Vika Borel</a> </div>"
   ]
  },
  {
   "cell_type": "markdown",
   "metadata": {},
   "source": [
    "## Словари, логические выражения, итераторы и For Loops\n",
    "\n",
    "- [Словари](#Словари)\n",
    "  - [Как задать словарь?](#Как-задать-словарь?)\n",
    "  - [Методы](#Методы)\n",
    "    - [len()](#Количество-пар-в-словаре)\n",
    "    - [Возврат значения по ключу](#Возврат-значения-по-ключу)\n",
    "    - [Задать значение для ключа](#Задать-значение-для-ключа)\n",
    "    - [del()](#Удаление-ключа)\n",
    "    - [key in](#Проверка-наличия-ключа-в-словаре)   \n",
    "    - [key not in](#Проверка-отсутствия-ключа-в-словаре)\n",
    "    - [iter()](#Создание-итератора)\n",
    "    - [copy()](#Создание-копии)\n",
    "    - [clear()](#Удаление-всех-пар-из-словаря)\n",
    "    - [get()](#Возврат-значения-по-ключу-через-get)\n",
    "    - [items()](#Возврат-пар-в-виде-кортежей)\n",
    "    - [pop()](#Удаление-ключа-и-возврат-значения)\n",
    "    - [popitem()](#Удалить-последнюю-пару-из-словаря)\n",
    "    - [setdefault()](#Вернуть-значение-по-ключу)\n",
    "    - [update()](#Обновить-пары-ключ-значение)\n",
    "    - [keys()](#Вернуть-все-значения-словаря)\n",
    "    - [values()](#Вернуть-все-значения-словаря)\n",
    "  - [Лайфхак: как вернуть ключ по значению](#Лайфхак:-как-вернуть-ключ-по-значению)\n",
    "  - [Один ключ, множество значений](#Один-ключ,-множество-значений)\n",
    "- [Логические выражения](#Логические-выражения)\n",
    "- [Итераторы](#Итераторы)\n",
    "- [For Loops](#For-Loops)\n",
    "\n"
   ]
  },
  {
   "cell_type": "markdown",
   "metadata": {},
   "source": [
    "# Словари\n",
    "\n",
    "Словарь в питоне представляет из себя набор пар ключ-значение (key-value). Оформляется в фигурные скобки. <br>\n",
    "\n",
    "## Как задать словарь?\n",
    "\n",
    "Через функцию `dict()`."
   ]
  },
  {
   "cell_type": "code",
   "execution_count": 1,
   "metadata": {},
   "outputs": [
    {
     "name": "stdout",
     "output_type": "stream",
     "text": [
      "{'one': 1, 'two': 2, 'three': 3}\n"
     ]
    }
   ],
   "source": [
    "a = dict(one=1, two=2, three=3)\n",
    "print(a)"
   ]
  },
  {
   "cell_type": "markdown",
   "metadata": {},
   "source": [
    "Напрямую с помощью синтаксиса."
   ]
  },
  {
   "cell_type": "code",
   "execution_count": 3,
   "metadata": {},
   "outputs": [
    {
     "name": "stdout",
     "output_type": "stream",
     "text": [
      "{'one': 1, 'two': 2, 'three': 3}\n"
     ]
    }
   ],
   "source": [
    "b = {'one': 1, 'two': 2, 'three': 3}\n",
    "print(b)"
   ]
  },
  {
   "cell_type": "markdown",
   "metadata": {},
   "source": [
    "С помощью функции `zip()`, когда создаются пары из элементов двух списков с одинаковыми индексами, и функции `dict()`."
   ]
  },
  {
   "cell_type": "code",
   "execution_count": 2,
   "metadata": {},
   "outputs": [
    {
     "name": "stdout",
     "output_type": "stream",
     "text": [
      "{'one': 1, 'two': 2, 'three': 3}\n"
     ]
    }
   ],
   "source": [
    "c = dict(zip(['one', 'two', 'three'], [1, 2, 3]))\n",
    "print(c)"
   ]
  },
  {
   "cell_type": "markdown",
   "metadata": {},
   "source": [
    "С помощью функции `dict()` и списка с кортежами пар объектов, первый из которых будет ключом, а вторый – значением."
   ]
  },
  {
   "cell_type": "code",
   "execution_count": 4,
   "metadata": {},
   "outputs": [
    {
     "name": "stdout",
     "output_type": "stream",
     "text": [
      "{'two': 2, 'one': 1, 'three': 3}\n"
     ]
    }
   ],
   "source": [
    "d = dict([('two', 2), ('one', 1), ('three', 3)])\n",
    "print(d)"
   ]
  },
  {
   "cell_type": "markdown",
   "metadata": {},
   "source": [
    "Противоречия также не будет если задать словарь \"напрямую\" с помощью синтаксиса, а потом применить с нему функцию `dict()`."
   ]
  },
  {
   "cell_type": "code",
   "execution_count": 11,
   "metadata": {},
   "outputs": [
    {
     "name": "stdout",
     "output_type": "stream",
     "text": [
      "{'three': 3, 'one': 1, 'two': 2}\n"
     ]
    }
   ],
   "source": [
    "e = dict({'three': 3, 'one': 1, 'two': 2})\n",
    "print(e)"
   ]
  },
  {
   "cell_type": "markdown",
   "metadata": {},
   "source": [
    "### Методы\n",
    "\n",
    "#### Количество пар в словаре\n",
    "\n",
    "Функция `len()` используется, чтобы узнать количество пар в словаре."
   ]
  },
  {
   "cell_type": "code",
   "execution_count": 35,
   "metadata": {},
   "outputs": [
    {
     "data": {
      "text/plain": [
       "7"
      ]
     },
     "execution_count": 35,
     "metadata": {},
     "output_type": "execute_result"
    }
   ],
   "source": [
    "dictionary = {'one': 1, 'two': 2, 'three': 3, 'four': 4, 'five': 5, 'six': 6, 'seven': 7}\n",
    "\n",
    "len(dictionary)"
   ]
  },
  {
   "cell_type": "markdown",
   "metadata": {},
   "source": [
    "#### Возврат значения по ключу\n"
   ]
  },
  {
   "cell_type": "code",
   "execution_count": 15,
   "metadata": {},
   "outputs": [
    {
     "name": "stdout",
     "output_type": "stream",
     "text": [
      "1\n",
      "3\n",
      "7\n"
     ]
    }
   ],
   "source": [
    "print(dictionary['one'])\n",
    "print(dictionary['three'])\n",
    "print(dictionary['seven'])"
   ]
  },
  {
   "cell_type": "markdown",
   "metadata": {},
   "source": [
    "#### Задать значение для ключа"
   ]
  },
  {
   "cell_type": "code",
   "execution_count": 16,
   "metadata": {},
   "outputs": [
    {
     "name": "stdout",
     "output_type": "stream",
     "text": [
      "8\n",
      "9\n"
     ]
    }
   ],
   "source": [
    "dictionary['eight'] = 8\n",
    "dictionary['nine'] = 9\n",
    "\n",
    "print(dictionary['eight'])\n",
    "print(dictionary['nine'])"
   ]
  },
  {
   "cell_type": "markdown",
   "metadata": {},
   "source": [
    "#### Удаление ключа"
   ]
  },
  {
   "cell_type": "code",
   "execution_count": 17,
   "metadata": {},
   "outputs": [
    {
     "name": "stdout",
     "output_type": "stream",
     "text": [
      "{'one': 1, 'two': 2, 'three': 3, 'four': 4, 'five': 5, 'six': 6, 'seven': 7}\n"
     ]
    }
   ],
   "source": [
    "del dictionary['eight']\n",
    "del dictionary['nine']\n",
    "\n",
    "print(dictionary)"
   ]
  },
  {
   "cell_type": "markdown",
   "metadata": {},
   "source": [
    "#### Проверка наличия ключа в словаре\n",
    "\n",
    "Чтобы проверить наличие ключа в словаре, нужно написать логическое выражение `key in dictionary`. Если ключ содержится в словаре, питон вернет значение `True`, если нет – `False`."
   ]
  },
  {
   "cell_type": "code",
   "execution_count": 18,
   "metadata": {},
   "outputs": [
    {
     "name": "stdout",
     "output_type": "stream",
     "text": [
      "True\n",
      "False\n"
     ]
    }
   ],
   "source": [
    "print('one' in dictionary)\n",
    "print('nine' in dictionary)"
   ]
  },
  {
   "cell_type": "markdown",
   "metadata": {},
   "source": [
    "#### Проверка отсутствия ключа в словаре\n",
    "\n",
    "Чтобы проверить отсутствие ключа в словаре, нужно написать логическое выражение `key not in dictionary` или `not key in dictionaty`. Если ключ не содержится в словаре, питон вернет значение `True`, если содержится – `False`."
   ]
  },
  {
   "cell_type": "code",
   "execution_count": 20,
   "metadata": {},
   "outputs": [
    {
     "name": "stdout",
     "output_type": "stream",
     "text": [
      "False\n",
      "False\n",
      "True\n",
      "True\n"
     ]
    }
   ],
   "source": [
    "print('one' not in dictionary)\n",
    "print(not 'one' in dictionary)\n",
    "\n",
    "print('nine' not in dictionary)\n",
    "print(not 'nine' in dictionary)"
   ]
  },
  {
   "cell_type": "markdown",
   "metadata": {},
   "source": [
    "#### Создание итератора\n",
    "\n",
    "Про итераторы мы поговорим более подробнее в <> и рассмотрим на примерах."
   ]
  },
  {
   "cell_type": "code",
   "execution_count": 21,
   "metadata": {},
   "outputs": [
    {
     "data": {
      "text/plain": [
       "<dict_keyiterator at 0x10df7d1d8>"
      ]
     },
     "execution_count": 21,
     "metadata": {},
     "output_type": "execute_result"
    }
   ],
   "source": [
    "iter(dictionary)"
   ]
  },
  {
   "cell_type": "markdown",
   "metadata": {},
   "source": [
    "#### Создание копии"
   ]
  },
  {
   "cell_type": "code",
   "execution_count": 26,
   "metadata": {},
   "outputs": [
    {
     "name": "stdout",
     "output_type": "stream",
     "text": [
      "{'one': 1, 'two': 2, 'three': 3, 'four': 4, 'five': 5, 'six': 6, 'seven': 7}\n"
     ]
    }
   ],
   "source": [
    "dictionary_copy = dictionary.copy()\n",
    "print(dictionary_copy)"
   ]
  },
  {
   "cell_type": "markdown",
   "metadata": {},
   "source": [
    "#### Удаление всех пар из словаря"
   ]
  },
  {
   "cell_type": "code",
   "execution_count": 27,
   "metadata": {},
   "outputs": [
    {
     "name": "stdout",
     "output_type": "stream",
     "text": [
      "{}\n"
     ]
    }
   ],
   "source": [
    "dictionary_copy.clear()\n",
    "print(dictionary_copy)"
   ]
  },
  {
   "cell_type": "markdown",
   "metadata": {},
   "source": [
    "#### Возврат значения по ключу через get"
   ]
  },
  {
   "cell_type": "code",
   "execution_count": 29,
   "metadata": {},
   "outputs": [
    {
     "name": "stdout",
     "output_type": "stream",
     "text": [
      "1\n",
      "5\n",
      "7\n"
     ]
    }
   ],
   "source": [
    "print(dictionary.get('one'))\n",
    "print(dictionary.get('five'))\n",
    "print(dictionary.get('seven'))"
   ]
  },
  {
   "cell_type": "markdown",
   "metadata": {},
   "source": [
    "#### Возврат пар в виде кортежей"
   ]
  },
  {
   "cell_type": "code",
   "execution_count": 31,
   "metadata": {},
   "outputs": [
    {
     "name": "stdout",
     "output_type": "stream",
     "text": [
      "dict_items([('one', 1), ('two', 2), ('three', 3), ('four', 4), ('five', 5), ('six', 6), ('seven', 7)])\n"
     ]
    }
   ],
   "source": [
    "dictionary.items()"
   ]
  },
  {
   "cell_type": "markdown",
   "metadata": {},
   "source": [
    "#### Удаление ключа"
   ]
  },
  {
   "cell_type": "code",
   "execution_count": 36,
   "metadata": {
    "scrolled": true
   },
   "outputs": [
    {
     "name": "stdout",
     "output_type": "stream",
     "text": [
      "{'one': 1, 'two': 2, 'three': 3, 'four': 4, 'five': 5, 'six': 6, 'seven': 7}\n",
      "{'one': 1, 'two': 2, 'three': 3, 'four': 4, 'five': 5}\n"
     ]
    }
   ],
   "source": [
    "print(dictionary)\n",
    "dictionary.pop('six')\n",
    "dictionary.pop('seven')\n",
    "\n",
    "print(dictionary)"
   ]
  },
  {
   "cell_type": "markdown",
   "metadata": {},
   "source": [
    "#### Удалить последнюю пару из словаря "
   ]
  },
  {
   "cell_type": "code",
   "execution_count": 33,
   "metadata": {},
   "outputs": [
    {
     "name": "stdout",
     "output_type": "stream",
     "text": [
      "{'one': 1, 'two': 2, 'three': 3, 'four': 4, 'five': 5}\n",
      "{'one': 1, 'two': 2, 'three': 3, 'four': 4}\n"
     ]
    }
   ],
   "source": [
    "print(dictionary)\n",
    "dictionary.popitem()\n",
    "\n",
    "print(dictionary)"
   ]
  },
  {
   "cell_type": "markdown",
   "metadata": {},
   "source": [
    "#### Вернуть значение по ключу"
   ]
  },
  {
   "cell_type": "code",
   "execution_count": 37,
   "metadata": {},
   "outputs": [
    {
     "name": "stdout",
     "output_type": "stream",
     "text": [
      "1\n",
      "2\n",
      "3\n"
     ]
    }
   ],
   "source": [
    "print(dictionary.setdefault('one'))\n",
    "print(dictionary.setdefault('two'))\n",
    "print(dictionary.setdefault('three'))"
   ]
  },
  {
   "cell_type": "markdown",
   "metadata": {},
   "source": [
    "#### Обновить пары ключ-значение"
   ]
  },
  {
   "cell_type": "code",
   "execution_count": 39,
   "metadata": {},
   "outputs": [
    {
     "name": "stdout",
     "output_type": "stream",
     "text": [
      "{'one': 1, 'two': 2, 'three': 3, 'four': 4, 'five': 5, 'six': 7, 'seven': 7}\n",
      "{'one': 1, 'two': 2, 'three': 3, 'four': 4, 'five': 'five', 'six': 7, 'seven': 7}\n"
     ]
    }
   ],
   "source": [
    "print(dictionary)\n",
    "upd_dictionary = {'five': 'five', 'six': 7, 'seven': 7}\n",
    "\n",
    "dictionary.update(upd_dictionary)\n",
    "print(dictionary)"
   ]
  },
  {
   "cell_type": "markdown",
   "metadata": {},
   "source": [
    "#### Вернуть все ключи словаря"
   ]
  },
  {
   "cell_type": "code",
   "execution_count": 41,
   "metadata": {},
   "outputs": [
    {
     "data": {
      "text/plain": [
       "dict_keys(['one', 'two', 'three', 'four', 'five', 'six', 'seven'])"
      ]
     },
     "execution_count": 41,
     "metadata": {},
     "output_type": "execute_result"
    }
   ],
   "source": [
    "dictionary.keys()"
   ]
  },
  {
   "cell_type": "markdown",
   "metadata": {},
   "source": [
    "#### Вернуть все значения словаря"
   ]
  },
  {
   "cell_type": "code",
   "execution_count": 42,
   "metadata": {},
   "outputs": [
    {
     "data": {
      "text/plain": [
       "dict_values([1, 2, 3, 4, 'five', 7, 7])"
      ]
     },
     "execution_count": 42,
     "metadata": {},
     "output_type": "execute_result"
    }
   ],
   "source": [
    "dictionary.values()"
   ]
  },
  {
   "cell_type": "markdown",
   "metadata": {},
   "source": [
    "## Лайфхак: как вернуть ключ по значению\n",
    "\n",
    "Вообще словари таким образом не работают и для этого не предназначены, но если уж вам когда-нибудь понадобится (мне как-то было, потому что легче уже было исхитриться со словарями, чем переделывать то, куда и как записывались данные), то рассказываю, как это сделать. <br>\n",
    "\n",
    "Допустим, вы знаете значение нужного вам ключа. Как вернуть сам ключ? <br>\n",
    "1. Разбиваем ключи словаря и значения словаря на отдельные листы. \n",
    "2. Находим индекс значения нужного ключа в листе значений. \n",
    "3. По этому индексу выводим нужный ключ из листа с ключами.\n",
    "4. ?????\n",
    "5. PROFIT"
   ]
  },
  {
   "cell_type": "code",
   "execution_count": null,
   "metadata": {},
   "outputs": [],
   "source": [
    "n_in_dict = list(forBotGet_users.keys())[list(forBotGet_users.values()).index(reply_user)]"
   ]
  },
  {
   "cell_type": "markdown",
   "metadata": {},
   "source": [
    "## Один ключ, множество значений\n",
    "\n",
    "У ключа может быть только одно значение, однако ничто не мешает нам присвоить значением лист или кортеж. "
   ]
  },
  {
   "cell_type": "code",
   "execution_count": 2,
   "metadata": {},
   "outputs": [],
   "source": [
    "APL = ['Пятницкое шоссе', 'Митино', 'Волоколамская', 'Мякинино', 'Строгино', 'Крылатское', 'Молодежная', 'Кунцевская', 'Славянский бульвар', 'Парк Победы',\n",
    "'Киевская, Смоленская, Арбатская, Площадь Революции', 'Курская', 'Бауманская', 'Электрозаводская', 'Семеновская', 'Партизанская', 'Измайловская', 'Первомайская']\n",
    "BTV = ['Битцевский парк', 'Лесопарковая', 'Улица Старокачаловская', 'Улица Скобелевская', 'Бульвар адмирала Ушакова', 'Улица Горчакова']\n",
    "\n",
    "metro = {'Арбатско-Покровская линия': APL, 'Бутовская линия': BTV}"
   ]
  },
  {
   "cell_type": "code",
   "execution_count": 8,
   "metadata": {},
   "outputs": [
    {
     "name": "stdout",
     "output_type": "stream",
     "text": [
      "dict_keys(['Арбатско-Покровская линия', 'Бутовская линия'])\n"
     ]
    }
   ],
   "source": [
    "print(metro.keys())"
   ]
  },
  {
   "cell_type": "code",
   "execution_count": 9,
   "metadata": {},
   "outputs": [
    {
     "name": "stdout",
     "output_type": "stream",
     "text": [
      "dict_values([['Пятницкое шоссе', 'Митино', 'Волоколамская', 'Мякинино', 'Строгино', 'Крылатское', 'Молодежная', 'Кунцевская', 'Славянский бульвар', 'Парк Победы', 'Киевская, Смоленская, Арбатская, Площадь Революции', 'Курская', 'Бауманская', 'Электрозаводская', 'Семеновская', 'Партизанская', 'Измайловская', 'Первомайская'], ['Битцевский парк', 'Лесопарковая', 'Улица Старокачаловская', 'Улица Скобелевская', 'Бульвар адмирала Ушакова', 'Улица Горчакова']])\n"
     ]
    }
   ],
   "source": [
    "print(metro.values())"
   ]
  },
  {
   "cell_type": "code",
   "execution_count": 10,
   "metadata": {},
   "outputs": [
    {
     "name": "stdout",
     "output_type": "stream",
     "text": [
      "{'Арбатско-Покровская линия': ['Пятницкое шоссе', 'Митино', 'Волоколамская', 'Мякинино', 'Строгино', 'Крылатское', 'Молодежная', 'Кунцевская', 'Славянский бульвар', 'Парк Победы', 'Киевская, Смоленская, Арбатская, Площадь Революции', 'Курская', 'Бауманская', 'Электрозаводская', 'Семеновская', 'Партизанская', 'Измайловская', 'Первомайская'], 'Бутовская линия': ['Битцевский парк', 'Лесопарковая', 'Улица Старокачаловская', 'Улица Скобелевская', 'Бульвар адмирала Ушакова', 'Улица Горчакова']}\n"
     ]
    }
   ],
   "source": [
    "print(metro)"
   ]
  },
  {
   "cell_type": "code",
   "execution_count": 11,
   "metadata": {},
   "outputs": [
    {
     "name": "stdout",
     "output_type": "stream",
     "text": [
      "Пятницкое шоссе\n"
     ]
    }
   ],
   "source": [
    "print(metro['Арбатско-Покровская линия'][0])"
   ]
  },
  {
   "cell_type": "markdown",
   "metadata": {},
   "source": [
    "# Логические выражения\n",
    "\n",
    "Логические выражения нужны нам, допустим, для того, чтобы проверять их на истинность или ложность в условиях, и соответсвенно, давать питону возможность принимать решения о исполнении или не-исполнении какого-то блока с кодом. <br>"
   ]
  },
  {
   "cell_type": "markdown",
   "metadata": {},
   "source": [
    "`<` – строго меньше <br>\n",
    "`<=` – меньше или равно <br>\n",
    "`>` – больше <br>\n",
    "`>=` – больше или равно <br>\n",
    "`==` – равно <br>\n",
    "`!=` – не равно <br>\n",
    "`is` – идентичен <br>\n",
    "`is not` – не идентичен <br><br><br>\n",
    "\n",
    "Также есть операторы `in` и `not in` для проверки включенности."
   ]
  },
  {
   "cell_type": "code",
   "execution_count": 44,
   "metadata": {},
   "outputs": [
    {
     "name": "stdout",
     "output_type": "stream",
     "text": [
      "True\n",
      "True\n",
      "True\n",
      "False\n"
     ]
    }
   ],
   "source": [
    "print('земля' in 'земля в иллюминаторе')\n",
    "print('иллюминатор' in 'земля в иллюминаторе')\n",
    "print('зем' in 'земля в иллюминаторе')\n",
    "print('окно' in 'земля в иллюминаторе')"
   ]
  },
  {
   "cell_type": "code",
   "execution_count": 45,
   "metadata": {},
   "outputs": [
    {
     "name": "stdout",
     "output_type": "stream",
     "text": [
      "False\n",
      "False\n",
      "False\n",
      "True\n"
     ]
    }
   ],
   "source": [
    "print('земля' not in 'земля в иллюминаторе')\n",
    "print('иллюминатор' not in 'земля в иллюминаторе')\n",
    "print('зем' not in 'земля в иллюминаторе')\n",
    "print('окно' not in 'земля в иллюминаторе')"
   ]
  },
  {
   "cell_type": "code",
   "execution_count": 46,
   "metadata": {},
   "outputs": [
    {
     "name": "stdout",
     "output_type": "stream",
     "text": [
      "True\n",
      "False\n",
      "False\n",
      "True\n"
     ]
    }
   ],
   "source": [
    "rainbow = ['red', 'orange', 'yellow', 'green', 'blue', 'indigo', 'violet']\n",
    "\n",
    "print('red' in rainbow)\n",
    "print('indigo' not in rainbow)\n",
    "print('gray' in rainbow)\n",
    "print('gray' not in rainbow)"
   ]
  },
  {
   "cell_type": "markdown",
   "metadata": {},
   "source": [
    "# Итераторы\n",
    "\n",
    "Итератор – если по-русски, то перечислитель. Удобная штука, допустим, для For Loops, когда мы запускаем цикл для каждого объекта в неком контейнере с данными. <br>\n",
    "\n",
    "Итератор создается с помощью функции `iter()`. Затем к объектам в итераторе можно обращаться с помощью функции `next()`."
   ]
  },
  {
   "cell_type": "code",
   "execution_count": 12,
   "metadata": {},
   "outputs": [
    {
     "name": "stdout",
     "output_type": "stream",
     "text": [
      "Пятницкое шоссе\n",
      "Митино\n",
      "Волоколамская\n",
      "Мякинино\n",
      "Строгино\n",
      "Крылатское\n",
      "Молодежная\n"
     ]
    }
   ],
   "source": [
    "APL_iter = iter(APL)\n",
    "\n",
    "print(next(APL_iter))\n",
    "print(next(APL_iter))\n",
    "print(next(APL_iter))\n",
    "print(next(APL_iter))\n",
    "print(next(APL_iter))\n",
    "print(next(APL_iter))\n",
    "print(next(APL_iter))"
   ]
  },
  {
   "cell_type": "markdown",
   "metadata": {},
   "source": [
    "# For Loops\n"
   ]
  },
  {
   "cell_type": "markdown",
   "metadata": {},
   "source": [
    "Зачем нужны? <br>\n",
    "– Чтобы задать выполнение какого-то действия для определенного количества элементов.<br><br>\n",
    "\n",
    "То есть, условно, мы говорим, что:<br>\n",
    "`для каждой \"штуки\" в \"контейнере\" выполнить следующее действие`.<br>\n",
    "\"Штук\", к слову, может быть несколько в одном выражении.<br><br>\n",
    "\n"
   ]
  },
  {
   "cell_type": "code",
   "execution_count": 6,
   "metadata": {},
   "outputs": [
    {
     "name": "stdout",
     "output_type": "stream",
     "text": [
      "Пятницкое шоссе\n",
      "Митино\n",
      "Волоколамская\n",
      "Мякинино\n",
      "Строгино\n",
      "Крылатское\n",
      "Молодежная\n",
      "Кунцевская\n",
      "Славянский бульвар\n",
      "Парк Победы\n",
      "Киевская, Смоленская, Арбатская, Площадь Революции\n",
      "Курская\n",
      "Бауманская\n",
      "Электрозаводская\n",
      "Семеновская\n",
      "Партизанская\n",
      "Измайловская\n",
      "Первомайская\n"
     ]
    }
   ],
   "source": [
    "for x in APL:\n",
    "    print(x)\n",
    "    "
   ]
  },
  {
   "cell_type": "markdown",
   "metadata": {},
   "source": [
    "Также в контексте For Loops полезно знать о `try except` конструкции. Ее смысл в том, чтобы обрабатывать ошибки, возникающие при исполнении программ. Чтобы программа не прерывалась при ошибке, а \"обрабатывала\" ее и продолжала работу дальше. <br><br>\n",
    "Код, который расположен после `try` и перед `except`, говорит, что мы хотим сделать в целом. Код после `except` говорит, что программа должна сделать в случае ошибки. В `except` нужно указать тип ошибки, при которой будет исполняться код, следующий за `except`.\n",
    "<br><br>\n",
    "Полный список возможных ошибок (исключений) доступен по [ссылке](https://docs.python.org/3/library/exceptions.html)."
   ]
  },
  {
   "cell_type": "code",
   "execution_count": null,
   "metadata": {},
   "outputs": [],
   "source": []
  }
 ],
 "metadata": {
  "kernelspec": {
   "display_name": "Python 3",
   "language": "python",
   "name": "python3"
  },
  "language_info": {
   "codemirror_mode": {
    "name": "ipython",
    "version": 3
   },
   "file_extension": ".py",
   "mimetype": "text/x-python",
   "name": "python",
   "nbconvert_exporter": "python",
   "pygments_lexer": "ipython3",
   "version": "3.6.3"
  }
 },
 "nbformat": 4,
 "nbformat_minor": 2
}
