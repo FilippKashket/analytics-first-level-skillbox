{
 "cells": [
  {
   "cell_type": "markdown",
   "metadata": {},
   "source": [
    "# Дополнительное чтение\n",
    "\n",
    "Кроме мощной бибилиотеку lxml средства для обработки структурированных текстовых файлов есть и в самом Python.\n",
    "\n",
    "Этот раздел просто для ознакомления, Домашки по нему не будет\n",
    "\n",
    "## Альтернативы XPath\n",
    "\n",
    "Форматы документов XML и HTML представляют собой древовидные структуры. Кроме XPath для их обработки можно применять подход, свойственных для древовидых структур данных - рекурсивно спуститься вниз от корня к листям и проделать какие-то действия: например, найти нужный тэг и применить внутри него XPath\n",
    "\n",
    "## python lxml.html\n",
    "\n",
    "Тут парсинг производится с помощью метода **fromstring**:"
   ]
  },
  {
   "cell_type": "code",
   "execution_count": 2,
   "metadata": {},
   "outputs": [],
   "source": [
    "import requests\n",
    "from lxml import html\n",
    "\n",
    "page = requests.get('https://skillbox.ru/courses/code').content\n",
    "\n",
    "tree = html.fromstring(page)"
   ]
  },
  {
   "cell_type": "code",
   "execution_count": 3,
   "metadata": {},
   "outputs": [
    {
     "name": "stdout",
     "output_type": "stream",
     "text": [
      "meta\n",
      "\n",
      "meta\n",
      "\n",
      "meta\n",
      "\n",
      "meta\n",
      "\n",
      "meta\n",
      "\n",
      "link\n",
      "\n",
      "link\n",
      "\n",
      "title\n",
      "Наши курсы\n",
      "meta\n",
      "\n",
      "meta\n",
      "\n"
     ]
    }
   ],
   "source": [
    "root = tree.getchildren()\n",
    "\n",
    "cnt = 0\n",
    "for tag in root:\n",
    "    for subtag in tag.getchildren():\n",
    "        if cnt < 10:\n",
    "            print(subtag.tag)\n",
    "            print(subtag.text_content())\n",
    "            cnt += 1\n",
    "        else:\n",
    "            pass"
   ]
  },
  {
   "cell_type": "markdown",
   "metadata": {},
   "source": [
    "## XML в стандартной библиотеке python\n",
    "\n",
    "### xml\n",
    "\n",
    "В стандартную библиотеку python входит [модуль xml](https://docs.python.org/3.7/library/xml.html), который реализует несколько API для чтения XML - среди них наиболее популярными являются [minidom](https://docs.python.org/3.5/library/xml.dom.minidom.html#module-xml.dom.minidom)(которая является урезанной реализацией [стандарта DOM](https://www.w3.org/DOM/) ) и [ElementTree](https://docs.python.org/3.5/library/xml.etree.elementtree.html#module-xml.etree.ElementTree), которая реализует другой алгоритм чтения и создания xml. В ранних версиях python эти API сильно различались по [спискам существующих в них уязвимостей](https://docs.python.org/3.7/library/xml.html#xml-vulnerabilities) но начиная с версии python3.7 сильной разницы между ними нет (кроме, собственно, методов API).\n",
    "\n",
    "Для примера произведём разбор одного и того же файлас помощью этих двух модулей. Решим простую задачу: обойдём xml и составим документ в формате json соответсвия id контента и даты его длительность."
   ]
  },
  {
   "cell_type": "code",
   "execution_count": 4,
   "metadata": {},
   "outputs": [
    {
     "name": "stdout",
     "output_type": "stream",
     "text": [
      "[{'title': 'The Shawshank Redemption', 'duration': '8520'}, {'title': 'The Dark Knight', 'duration': '9120'}]\n"
     ]
    }
   ],
   "source": [
    "import xml.dom.minidom\n",
    "from xml.etree import ElementTree\n",
    "\n",
    "file_path = './data/xml_content_description.xml'\n",
    "\n",
    "content_descriptions_minidom = []\n",
    "\n",
    "with open(file_path) as f:\n",
    "    \n",
    "    doc = xml.dom.minidom.parse(f)\n",
    "    for content_title in doc.getElementsByTagName('content_title'):\n",
    "        try:\n",
    "            content_descriptions_minidom += [\n",
    "                {\"title\": content_title.getElementsByTagName('title')[0].firstChild.data,\n",
    "                \"duration\": content_title.getElementsByTagName('duration')[0].firstChild.data}\n",
    "            ]\n",
    "        except IndexError:\n",
    "            pass\n",
    "\n",
    "print(content_descriptions_minidom)"
   ]
  },
  {
   "cell_type": "code",
   "execution_count": null,
   "metadata": {},
   "outputs": [],
   "source": []
  }
 ],
 "metadata": {
  "kernelspec": {
   "display_name": "Python 3",
   "language": "python",
   "name": "python3"
  },
  "language_info": {
   "codemirror_mode": {
    "name": "ipython",
    "version": 3
   },
   "file_extension": ".py",
   "mimetype": "text/x-python",
   "name": "python",
   "nbconvert_exporter": "python",
   "pygments_lexer": "ipython3",
   "version": "3.6.7"
  }
 },
 "nbformat": 4,
 "nbformat_minor": 2
}
