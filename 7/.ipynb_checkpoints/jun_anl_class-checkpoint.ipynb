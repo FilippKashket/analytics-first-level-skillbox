{
 "cells": [
  {
   "cell_type": "markdown",
   "metadata": {
    "colab_type": "text",
    "id": "3pxBL7NGWrzA"
   },
   "source": [
    "# Классы и объекты\n",
    "## Домашнее задание"
   ]
  },
  {
   "cell_type": "markdown",
   "metadata": {
    "colab_type": "text",
    "id": "1dM6fOgoWrzB"
   },
   "source": [
    "### Вопросы по лекциям\n",
    "\n",
    "#### 1.\n",
    "\n",
    "Напишите название функции, которая является конструктором класса."
   ]
  },
  {
   "cell_type": "markdown",
   "metadata": {
    "colab_type": "text",
    "id": "ayb4UHb1WrzC"
   },
   "source": [
    "**Ответ:** \\__init__()"
   ]
  },
  {
   "cell_type": "markdown",
   "metadata": {
    "colab_type": "text",
    "id": "5UI_OZ5JWrzD"
   },
   "source": [
    "#### 2.\n",
    "\n",
    "На что указывает переменная `self`?"
   ]
  },
  {
   "cell_type": "markdown",
   "metadata": {
    "colab_type": "text",
    "id": "xiVhuhssWrzD"
   },
   "source": [
    "**Ответ:**Self это ссылка на самого себя внутри экземпляра класса"
   ]
  },
  {
   "cell_type": "markdown",
   "metadata": {
    "colab_type": "text",
    "id": "zY1WaoMaWrzE"
   },
   "source": [
    "#### 3.\n",
    "С помощью какой функции можно проверить, что некая строка является именем одного из атрибутов объекта?\n",
    "\n",
    "hasattr(str, class)"
   ]
  },
  {
   "cell_type": "markdown",
   "metadata": {
    "colab_type": "text",
    "id": "evonZIHtWrzF"
   },
   "source": [
    "**Ответ:**"
   ]
  },
  {
   "cell_type": "markdown",
   "metadata": {
    "colab_type": "text",
    "id": "SyC0oXpyWrzF"
   },
   "source": [
    "#### 4.\n",
    "Когда вызывается метод `__del__`? (относительно события удаления объекта)"
   ]
  },
  {
   "cell_type": "markdown",
   "metadata": {
    "colab_type": "text",
    "id": "Pa5_VsQFWrzG"
   },
   "source": [
    "**Ответ:** перед удалением обьекта"
   ]
  },
  {
   "cell_type": "markdown",
   "metadata": {
    "colab_type": "text",
    "id": "f4jXJ-vLWrzH"
   },
   "source": [
    "#### 5.\n",
    "Верно ли, что атрибут класса перекрывает аттрибукт объекта?"
   ]
  },
  {
   "cell_type": "markdown",
   "metadata": {
    "colab_type": "text",
    "id": "zfDA1rGIWrzI"
   },
   "source": [
    "**Ответ:** нет, наоборот, атрибут обьекта перекрывает атрибут класса"
   ]
  },
  {
   "cell_type": "markdown",
   "metadata": {
    "colab_type": "text",
    "id": "_G7R6vFtWrzJ"
   },
   "source": [
    "#### 6.\n",
    "Можно ли атрибуты базового класса вызывать в дочернем классе? Если да, то напишите, нет ли исклчений?"
   ]
  },
  {
   "cell_type": "markdown",
   "metadata": {
    "colab_type": "text",
    "id": "llv-SLTIWrzJ"
   },
   "source": [
    "**Ответ:** Можно вызвать просто указав и их имя после self. Есть исключения, нельзя вызывать атрибуты начинающиеся с __"
   ]
  },
  {
   "cell_type": "markdown",
   "metadata": {
    "colab_type": "text",
    "id": "Y1X_IxaCWrzK"
   },
   "source": [
    "#### 7.\n",
    "Объясните своими словами для чего нужен метод `super`."
   ]
  },
  {
   "cell_type": "markdown",
   "metadata": {
    "colab_type": "text",
    "id": "wub7WrI6WrzL"
   },
   "source": [
    "**Ответ:** метод супер возвращает ссылку на базывай класс"
   ]
  },
  {
   "cell_type": "markdown",
   "metadata": {
    "colab_type": "text",
    "id": "oDulQO5cWrzL"
   },
   "source": [
    "### Практика\n",
    "\n",
    "1. Напишите класс `Fraction` для работы с дробями. Пусть дробь в нашем классе предстает в виде `числитель/знаменатель`. Дробное число должно создаваться по запросу `Fraction(a, b)`, где `a` – это числитель, а `b` – знаменатель дроби. \n",
    "2. Добавьте возможность сложения (сложения через оператор сложения) для дроби. Предполагается, что операция сложения может проводиться как только между дробями, так и между дробью и целым числом. Результат оперции должен быть представлен в виде дроби.\n",
    "3. Добавьте возможность взятия раздости (вычитания через оператор вычитания) для дробей. Предполагается, что операция вычитания может проводиться как только для двух дробей, так и для дроби и целого числа. Результат оперции должен быть представлен в виде дроби.\n",
    "4. Добавьте возможность умножения (умножения через оператор умножения) для дробей. Предполагается, что операция умножения может проводиться как только для двух дробей, так и для дроби и целого числа. Результат оперции должен быть представлен в виде дроби.\n",
    "5. Добавьте возможность приведения дроби к целому числу через стандартную функцию `str()`.\n",
    "6. Добавьте возможность приведения дроби к числу с плавающей точкой через стандартную функцию `float()`.\n",
    "7. Создайте дочерний класс `OperationsOnFraction` и добавьте туда собственные методы `getint` и `getfloat`, которые будут возвращять целую часть дроби и представление дроби в виде числа с плавающей точкой соответственно. \n",
    " "
   ]
  },
  {
   "cell_type": "code",
   "execution_count": 67,
   "metadata": {
    "colab": {},
    "colab_type": "code",
    "id": "6VeeiwG1WrzM"
   },
   "outputs": [
    {
     "name": "stdout",
     "output_type": "stream",
     "text": [
      "5/6\n",
      "1 1/2\n",
      "1/6\n",
      "-1/2\n",
      "1/6\n",
      "1\n",
      "0.5\n",
      "2\n",
      "2.5\n"
     ]
    }
   ],
   "source": [
    "class Fraction:\n",
    "    def __init__(self, a, b):\n",
    "        self.numerator = a\n",
    "        self.denominator = b\n",
    "        \n",
    "    def __find_nod(self, other):\n",
    "        pass\n",
    "    \n",
    "    def __add__(self, other):\n",
    "        if(other is int):\n",
    "            numerator+=other*self.denominator\n",
    "            denominator = self.denominator\n",
    "        elif(self.denominator == other.denominator):\n",
    "            numerator = self.numerator + other.numerator\n",
    "            denominator = self.denominator\n",
    "        else:\n",
    "            numerator = self.numerator*other.denominator + other.numerator*self.denominator \n",
    "            denominator = self.denominator*other.denominator\n",
    "        return Fraction(numerator, denominator)\n",
    "    \n",
    "    def __sub__(self, other):\n",
    "        if(other is int):\n",
    "            numerator-=other*self.denominator\n",
    "            denominator = self.denominator\n",
    "        elif(self.denominator == other.denominator):\n",
    "            numerator = self.numerator - other.numerator\n",
    "            denominator = self.denominator\n",
    "        else:\n",
    "            numerator = self.numerator*other.denominator - other.numerator*self.denominator \n",
    "            denominator = self.denominator*other.denominator\n",
    "        return Fraction(numerator, denominator)\n",
    "    \n",
    "    def __mul__(self, other):\n",
    "        if(other is int):\n",
    "            numerator=other*self.numerator\n",
    "            denominator=other*self.denominator\n",
    "        else:\n",
    "            numerator = self.numerator*other.numerator \n",
    "            denominator = self.denominator*other.denominator\n",
    "        return Fraction(numerator, denominator)    \n",
    "    \n",
    "    def __str__(self):\n",
    "        if(self.numerator<0):\n",
    "            znak=-1\n",
    "            whole = (-self.numerator)//self.denominator\n",
    "        else:\n",
    "            znak=1\n",
    "            whole = self.numerator//self.denominator\n",
    "        balance = self.numerator%self.denominator\n",
    "        if(balance==0):\n",
    "            return str(whole)\n",
    "        elif(whole==0):\n",
    "            return str(balance*znak)+\"/\"+ str(self.denominator)    \n",
    "        else:\n",
    "            return str(whole*znak)+\" \"+str(balance)+\"/\"+ str(self.denominator)\n",
    "    \n",
    "    def __float__(self):\n",
    "        return self.numerator/self.denominator \n",
    "\n",
    "frac = Fraction(1,2)\n",
    "frac2 = Fraction(1,3)\n",
    "print(frac+frac2)\n",
    "print(frac+1)\n",
    "print(frac-frac2)\n",
    "print(frac-1)\n",
    "print(frac*frac2)\n",
    "print(frac*2)\n",
    "print(float(frac))\n",
    "\n",
    "class OperationsOnFraction(Fraction):\n",
    "    def getint(self):\n",
    "        if(self.numerator<0):\n",
    "            znak=-1\n",
    "            whole = (-self.numerator)//self.denominator\n",
    "        else:\n",
    "            znak=1\n",
    "            whole = self.numerator//self.denominator\n",
    "        return str(whole*znak)\n",
    "    def getfloat(self):\n",
    "        return super().__float__()\n",
    "\n",
    "frac_child = OperationsOnFraction(5,2)\n",
    "print(frac_child.getint())\n",
    "print(frac_child.getfloat())"
   ]
  }
 ],
 "metadata": {
  "colab": {
   "name": "jun_anl_class.ipynb",
   "provenance": []
  },
  "kernelspec": {
   "display_name": "Python 3",
   "language": "python",
   "name": "python3"
  },
  "language_info": {
   "codemirror_mode": {
    "name": "ipython",
    "version": 3
   },
   "file_extension": ".py",
   "mimetype": "text/x-python",
   "name": "python",
   "nbconvert_exporter": "python",
   "pygments_lexer": "ipython3",
   "version": "3.7.3"
  }
 },
 "nbformat": 4,
 "nbformat_minor": 1
}
