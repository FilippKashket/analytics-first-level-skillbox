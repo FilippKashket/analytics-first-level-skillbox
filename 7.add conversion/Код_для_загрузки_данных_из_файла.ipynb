{
  "nbformat": 4,
  "nbformat_minor": 0,
  "metadata": {
    "colab": {
      "name": "Код для загрузки данных из файла.ipynb",
      "provenance": [],
      "private_outputs": true,
      "collapsed_sections": []
    },
    "kernelspec": {
      "name": "python3",
      "display_name": "Python 3"
    }
  },
  "cells": [
    {
      "cell_type": "code",
      "metadata": {
        "id": "uBCo6ukdfrIs",
        "colab_type": "code",
        "colab": {}
      },
      "source": [
        "import csv\n",
        "\n",
        "# name.csv ниже нужно заменить на название csv файла, который вы хотите открыть\n",
        "\n",
        "with open('name.csv', mode='r') as csv_file: # открываем файл\n",
        "    csv_reader = csv.DictReader(csv_file) # читаем файл\n",
        "    "
      ],
      "execution_count": 0,
      "outputs": []
    }
  ]
}