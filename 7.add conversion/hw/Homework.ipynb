{
 "cells": [
  {
   "cell_type": "code",
   "execution_count": 2,
   "metadata": {},
   "outputs": [
    {
     "data": {
      "text/html": [
       "<div>\n",
       "<style scoped>\n",
       "    .dataframe tbody tr th:only-of-type {\n",
       "        vertical-align: middle;\n",
       "    }\n",
       "\n",
       "    .dataframe tbody tr th {\n",
       "        vertical-align: top;\n",
       "    }\n",
       "\n",
       "    .dataframe thead th {\n",
       "        text-align: right;\n",
       "    }\n",
       "</style>\n",
       "<table border=\"1\" class=\"dataframe\">\n",
       "  <thead>\n",
       "    <tr style=\"text-align: right;\">\n",
       "      <th></th>\n",
       "      <th>id</th>\n",
       "      <th>page</th>\n",
       "      <th>date</th>\n",
       "      <th>device</th>\n",
       "      <th>gender</th>\n",
       "    </tr>\n",
       "  </thead>\n",
       "  <tbody>\n",
       "    <tr>\n",
       "      <th>0</th>\n",
       "      <td>313593</td>\n",
       "      <td>1_home_page</td>\n",
       "      <td>2015-02-26</td>\n",
       "      <td>Desktop</td>\n",
       "      <td>Female</td>\n",
       "    </tr>\n",
       "    <tr>\n",
       "      <th>1</th>\n",
       "      <td>468315</td>\n",
       "      <td>1_home_page</td>\n",
       "      <td>2015-02-21</td>\n",
       "      <td>Desktop</td>\n",
       "      <td>Male</td>\n",
       "    </tr>\n",
       "    <tr>\n",
       "      <th>2</th>\n",
       "      <td>264005</td>\n",
       "      <td>1_home_page</td>\n",
       "      <td>2015-03-25</td>\n",
       "      <td>Desktop</td>\n",
       "      <td>Female</td>\n",
       "    </tr>\n",
       "    <tr>\n",
       "      <th>3</th>\n",
       "      <td>290784</td>\n",
       "      <td>1_home_page</td>\n",
       "      <td>2015-03-14</td>\n",
       "      <td>Desktop</td>\n",
       "      <td>Male</td>\n",
       "    </tr>\n",
       "    <tr>\n",
       "      <th>4</th>\n",
       "      <td>639104</td>\n",
       "      <td>1_home_page</td>\n",
       "      <td>2015-01-03</td>\n",
       "      <td>Desktop</td>\n",
       "      <td>Female</td>\n",
       "    </tr>\n",
       "  </tbody>\n",
       "</table>\n",
       "</div>"
      ],
      "text/plain": [
       "       id         page        date   device  gender\n",
       "0  313593  1_home_page  2015-02-26  Desktop  Female\n",
       "1  468315  1_home_page  2015-02-21  Desktop    Male\n",
       "2  264005  1_home_page  2015-03-25  Desktop  Female\n",
       "3  290784  1_home_page  2015-03-14  Desktop    Male\n",
       "4  639104  1_home_page  2015-01-03  Desktop  Female"
      ]
     },
     "execution_count": 2,
     "metadata": {},
     "output_type": "execute_result"
    }
   ],
   "source": [
    "import pandas as pd\n",
    "\n",
    "data = pd.read_csv('click_stream3.csv', header=None, names=['id','page','date', 'device', 'gender'])\n",
    "\n",
    "data.head()"
   ]
  },
  {
   "cell_type": "code",
   "execution_count": 3,
   "metadata": {},
   "outputs": [
    {
     "data": {
      "text/html": [
       "<div>\n",
       "<style scoped>\n",
       "    .dataframe tbody tr th:only-of-type {\n",
       "        vertical-align: middle;\n",
       "    }\n",
       "\n",
       "    .dataframe tbody tr th {\n",
       "        vertical-align: top;\n",
       "    }\n",
       "\n",
       "    .dataframe thead th {\n",
       "        text-align: right;\n",
       "    }\n",
       "</style>\n",
       "<table border=\"1\" class=\"dataframe\">\n",
       "  <thead>\n",
       "    <tr style=\"text-align: right;\">\n",
       "      <th></th>\n",
       "      <th>id</th>\n",
       "      <th>page</th>\n",
       "      <th>date</th>\n",
       "      <th>device</th>\n",
       "      <th>gender</th>\n",
       "      <th>month</th>\n",
       "    </tr>\n",
       "  </thead>\n",
       "  <tbody>\n",
       "    <tr>\n",
       "      <th>0</th>\n",
       "      <td>313593</td>\n",
       "      <td>1_home_page</td>\n",
       "      <td>2015-02-26</td>\n",
       "      <td>Desktop</td>\n",
       "      <td>Female</td>\n",
       "      <td>2015-02</td>\n",
       "    </tr>\n",
       "    <tr>\n",
       "      <th>1</th>\n",
       "      <td>468315</td>\n",
       "      <td>1_home_page</td>\n",
       "      <td>2015-02-21</td>\n",
       "      <td>Desktop</td>\n",
       "      <td>Male</td>\n",
       "      <td>2015-02</td>\n",
       "    </tr>\n",
       "    <tr>\n",
       "      <th>2</th>\n",
       "      <td>264005</td>\n",
       "      <td>1_home_page</td>\n",
       "      <td>2015-03-25</td>\n",
       "      <td>Desktop</td>\n",
       "      <td>Female</td>\n",
       "      <td>2015-03</td>\n",
       "    </tr>\n",
       "    <tr>\n",
       "      <th>3</th>\n",
       "      <td>290784</td>\n",
       "      <td>1_home_page</td>\n",
       "      <td>2015-03-14</td>\n",
       "      <td>Desktop</td>\n",
       "      <td>Male</td>\n",
       "      <td>2015-03</td>\n",
       "    </tr>\n",
       "    <tr>\n",
       "      <th>4</th>\n",
       "      <td>639104</td>\n",
       "      <td>1_home_page</td>\n",
       "      <td>2015-01-03</td>\n",
       "      <td>Desktop</td>\n",
       "      <td>Female</td>\n",
       "      <td>2015-01</td>\n",
       "    </tr>\n",
       "  </tbody>\n",
       "</table>\n",
       "</div>"
      ],
      "text/plain": [
       "       id         page        date   device  gender    month\n",
       "0  313593  1_home_page  2015-02-26  Desktop  Female  2015-02\n",
       "1  468315  1_home_page  2015-02-21  Desktop    Male  2015-02\n",
       "2  264005  1_home_page  2015-03-25  Desktop  Female  2015-03\n",
       "3  290784  1_home_page  2015-03-14  Desktop    Male  2015-03\n",
       "4  639104  1_home_page  2015-01-03  Desktop  Female  2015-01"
      ]
     },
     "execution_count": 3,
     "metadata": {},
     "output_type": "execute_result"
    }
   ],
   "source": [
    "data['month'] = data['date'].apply(lambda date: date[0:7])\n",
    "data.head()"
   ]
  },
  {
   "cell_type": "code",
   "execution_count": 4,
   "metadata": {},
   "outputs": [
    {
     "data": {
      "text/html": [
       "<div>\n",
       "<style scoped>\n",
       "    .dataframe tbody tr th:only-of-type {\n",
       "        vertical-align: middle;\n",
       "    }\n",
       "\n",
       "    .dataframe tbody tr th {\n",
       "        vertical-align: top;\n",
       "    }\n",
       "\n",
       "    .dataframe thead th {\n",
       "        text-align: right;\n",
       "    }\n",
       "</style>\n",
       "<table border=\"1\" class=\"dataframe\">\n",
       "  <thead>\n",
       "    <tr style=\"text-align: right;\">\n",
       "      <th></th>\n",
       "      <th>page</th>\n",
       "      <th>month</th>\n",
       "      <th>gender</th>\n",
       "      <th>id</th>\n",
       "    </tr>\n",
       "  </thead>\n",
       "  <tbody>\n",
       "    <tr>\n",
       "      <th>31</th>\n",
       "      <td>4_payment_confirmation_page</td>\n",
       "      <td>2015-04</td>\n",
       "      <td>Male</td>\n",
       "      <td>26</td>\n",
       "    </tr>\n",
       "    <tr>\n",
       "      <th>30</th>\n",
       "      <td>4_payment_confirmation_page</td>\n",
       "      <td>2015-04</td>\n",
       "      <td>Female</td>\n",
       "      <td>20</td>\n",
       "    </tr>\n",
       "    <tr>\n",
       "      <th>29</th>\n",
       "      <td>4_payment_confirmation_page</td>\n",
       "      <td>2015-03</td>\n",
       "      <td>Male</td>\n",
       "      <td>18</td>\n",
       "    </tr>\n",
       "    <tr>\n",
       "      <th>28</th>\n",
       "      <td>4_payment_confirmation_page</td>\n",
       "      <td>2015-03</td>\n",
       "      <td>Female</td>\n",
       "      <td>26</td>\n",
       "    </tr>\n",
       "    <tr>\n",
       "      <th>27</th>\n",
       "      <td>4_payment_confirmation_page</td>\n",
       "      <td>2015-02</td>\n",
       "      <td>Male</td>\n",
       "      <td>87</td>\n",
       "    </tr>\n",
       "    <tr>\n",
       "      <th>26</th>\n",
       "      <td>4_payment_confirmation_page</td>\n",
       "      <td>2015-02</td>\n",
       "      <td>Female</td>\n",
       "      <td>86</td>\n",
       "    </tr>\n",
       "    <tr>\n",
       "      <th>25</th>\n",
       "      <td>4_payment_confirmation_page</td>\n",
       "      <td>2015-01</td>\n",
       "      <td>Male</td>\n",
       "      <td>80</td>\n",
       "    </tr>\n",
       "    <tr>\n",
       "      <th>24</th>\n",
       "      <td>4_payment_confirmation_page</td>\n",
       "      <td>2015-01</td>\n",
       "      <td>Female</td>\n",
       "      <td>109</td>\n",
       "    </tr>\n",
       "    <tr>\n",
       "      <th>17</th>\n",
       "      <td>3_payment_page</td>\n",
       "      <td>2015-01</td>\n",
       "      <td>Male</td>\n",
       "      <td>1147</td>\n",
       "    </tr>\n",
       "    <tr>\n",
       "      <th>23</th>\n",
       "      <td>3_payment_page</td>\n",
       "      <td>2015-04</td>\n",
       "      <td>Male</td>\n",
       "      <td>312</td>\n",
       "    </tr>\n",
       "    <tr>\n",
       "      <th>22</th>\n",
       "      <td>3_payment_page</td>\n",
       "      <td>2015-04</td>\n",
       "      <td>Female</td>\n",
       "      <td>285</td>\n",
       "    </tr>\n",
       "    <tr>\n",
       "      <th>21</th>\n",
       "      <td>3_payment_page</td>\n",
       "      <td>2015-03</td>\n",
       "      <td>Male</td>\n",
       "      <td>294</td>\n",
       "    </tr>\n",
       "    <tr>\n",
       "      <th>20</th>\n",
       "      <td>3_payment_page</td>\n",
       "      <td>2015-03</td>\n",
       "      <td>Female</td>\n",
       "      <td>337</td>\n",
       "    </tr>\n",
       "    <tr>\n",
       "      <th>19</th>\n",
       "      <td>3_payment_page</td>\n",
       "      <td>2015-02</td>\n",
       "      <td>Male</td>\n",
       "      <td>1177</td>\n",
       "    </tr>\n",
       "    <tr>\n",
       "      <th>18</th>\n",
       "      <td>3_payment_page</td>\n",
       "      <td>2015-02</td>\n",
       "      <td>Female</td>\n",
       "      <td>1235</td>\n",
       "    </tr>\n",
       "    <tr>\n",
       "      <th>16</th>\n",
       "      <td>3_payment_page</td>\n",
       "      <td>2015-01</td>\n",
       "      <td>Female</td>\n",
       "      <td>1243</td>\n",
       "    </tr>\n",
       "    <tr>\n",
       "      <th>15</th>\n",
       "      <td>2_search_page</td>\n",
       "      <td>2015-04</td>\n",
       "      <td>Male</td>\n",
       "      <td>4591</td>\n",
       "    </tr>\n",
       "    <tr>\n",
       "      <th>14</th>\n",
       "      <td>2_search_page</td>\n",
       "      <td>2015-04</td>\n",
       "      <td>Female</td>\n",
       "      <td>4489</td>\n",
       "    </tr>\n",
       "    <tr>\n",
       "      <th>13</th>\n",
       "      <td>2_search_page</td>\n",
       "      <td>2015-03</td>\n",
       "      <td>Male</td>\n",
       "      <td>4425</td>\n",
       "    </tr>\n",
       "    <tr>\n",
       "      <th>12</th>\n",
       "      <td>2_search_page</td>\n",
       "      <td>2015-03</td>\n",
       "      <td>Female</td>\n",
       "      <td>4454</td>\n",
       "    </tr>\n",
       "    <tr>\n",
       "      <th>11</th>\n",
       "      <td>2_search_page</td>\n",
       "      <td>2015-02</td>\n",
       "      <td>Male</td>\n",
       "      <td>6867</td>\n",
       "    </tr>\n",
       "    <tr>\n",
       "      <th>10</th>\n",
       "      <td>2_search_page</td>\n",
       "      <td>2015-02</td>\n",
       "      <td>Female</td>\n",
       "      <td>6820</td>\n",
       "    </tr>\n",
       "    <tr>\n",
       "      <th>9</th>\n",
       "      <td>2_search_page</td>\n",
       "      <td>2015-01</td>\n",
       "      <td>Male</td>\n",
       "      <td>6641</td>\n",
       "    </tr>\n",
       "    <tr>\n",
       "      <th>8</th>\n",
       "      <td>2_search_page</td>\n",
       "      <td>2015-01</td>\n",
       "      <td>Female</td>\n",
       "      <td>6913</td>\n",
       "    </tr>\n",
       "    <tr>\n",
       "      <th>1</th>\n",
       "      <td>1_home_page</td>\n",
       "      <td>2015-01</td>\n",
       "      <td>Male</td>\n",
       "      <td>11186</td>\n",
       "    </tr>\n",
       "    <tr>\n",
       "      <th>7</th>\n",
       "      <td>1_home_page</td>\n",
       "      <td>2015-04</td>\n",
       "      <td>Male</td>\n",
       "      <td>11388</td>\n",
       "    </tr>\n",
       "    <tr>\n",
       "      <th>6</th>\n",
       "      <td>1_home_page</td>\n",
       "      <td>2015-04</td>\n",
       "      <td>Female</td>\n",
       "      <td>11212</td>\n",
       "    </tr>\n",
       "    <tr>\n",
       "      <th>5</th>\n",
       "      <td>1_home_page</td>\n",
       "      <td>2015-03</td>\n",
       "      <td>Male</td>\n",
       "      <td>11350</td>\n",
       "    </tr>\n",
       "    <tr>\n",
       "      <th>4</th>\n",
       "      <td>1_home_page</td>\n",
       "      <td>2015-03</td>\n",
       "      <td>Female</td>\n",
       "      <td>11250</td>\n",
       "    </tr>\n",
       "    <tr>\n",
       "      <th>3</th>\n",
       "      <td>1_home_page</td>\n",
       "      <td>2015-02</td>\n",
       "      <td>Male</td>\n",
       "      <td>11401</td>\n",
       "    </tr>\n",
       "    <tr>\n",
       "      <th>2</th>\n",
       "      <td>1_home_page</td>\n",
       "      <td>2015-02</td>\n",
       "      <td>Female</td>\n",
       "      <td>11199</td>\n",
       "    </tr>\n",
       "    <tr>\n",
       "      <th>0</th>\n",
       "      <td>1_home_page</td>\n",
       "      <td>2015-01</td>\n",
       "      <td>Female</td>\n",
       "      <td>11414</td>\n",
       "    </tr>\n",
       "  </tbody>\n",
       "</table>\n",
       "</div>"
      ],
      "text/plain": [
       "                           page    month  gender     id\n",
       "31  4_payment_confirmation_page  2015-04    Male     26\n",
       "30  4_payment_confirmation_page  2015-04  Female     20\n",
       "29  4_payment_confirmation_page  2015-03    Male     18\n",
       "28  4_payment_confirmation_page  2015-03  Female     26\n",
       "27  4_payment_confirmation_page  2015-02    Male     87\n",
       "26  4_payment_confirmation_page  2015-02  Female     86\n",
       "25  4_payment_confirmation_page  2015-01    Male     80\n",
       "24  4_payment_confirmation_page  2015-01  Female    109\n",
       "17               3_payment_page  2015-01    Male   1147\n",
       "23               3_payment_page  2015-04    Male    312\n",
       "22               3_payment_page  2015-04  Female    285\n",
       "21               3_payment_page  2015-03    Male    294\n",
       "20               3_payment_page  2015-03  Female    337\n",
       "19               3_payment_page  2015-02    Male   1177\n",
       "18               3_payment_page  2015-02  Female   1235\n",
       "16               3_payment_page  2015-01  Female   1243\n",
       "15                2_search_page  2015-04    Male   4591\n",
       "14                2_search_page  2015-04  Female   4489\n",
       "13                2_search_page  2015-03    Male   4425\n",
       "12                2_search_page  2015-03  Female   4454\n",
       "11                2_search_page  2015-02    Male   6867\n",
       "10                2_search_page  2015-02  Female   6820\n",
       "9                 2_search_page  2015-01    Male   6641\n",
       "8                 2_search_page  2015-01  Female   6913\n",
       "1                   1_home_page  2015-01    Male  11186\n",
       "7                   1_home_page  2015-04    Male  11388\n",
       "6                   1_home_page  2015-04  Female  11212\n",
       "5                   1_home_page  2015-03    Male  11350\n",
       "4                   1_home_page  2015-03  Female  11250\n",
       "3                   1_home_page  2015-02    Male  11401\n",
       "2                   1_home_page  2015-02  Female  11199\n",
       "0                   1_home_page  2015-01  Female  11414"
      ]
     },
     "execution_count": 4,
     "metadata": {},
     "output_type": "execute_result"
    }
   ],
   "source": [
    "monthly = data.groupby(['page','month','gender'])['id'].agg('count').reset_index().sort_values(by='page', ascending=False)\n",
    "monthly"
   ]
  },
  {
   "cell_type": "code",
   "execution_count": 5,
   "metadata": {},
   "outputs": [
    {
     "data": {
      "text/html": [
       "<div>\n",
       "<style scoped>\n",
       "    .dataframe tbody tr th:only-of-type {\n",
       "        vertical-align: middle;\n",
       "    }\n",
       "\n",
       "    .dataframe tbody tr th {\n",
       "        vertical-align: top;\n",
       "    }\n",
       "\n",
       "    .dataframe thead th {\n",
       "        text-align: right;\n",
       "    }\n",
       "</style>\n",
       "<table border=\"1\" class=\"dataframe\">\n",
       "  <thead>\n",
       "    <tr style=\"text-align: right;\">\n",
       "      <th></th>\n",
       "      <th>month</th>\n",
       "      <th>id</th>\n",
       "    </tr>\n",
       "  </thead>\n",
       "  <tbody>\n",
       "    <tr>\n",
       "      <th>0</th>\n",
       "      <td>2015-01</td>\n",
       "      <td>38733</td>\n",
       "    </tr>\n",
       "    <tr>\n",
       "      <th>1</th>\n",
       "      <td>2015-02</td>\n",
       "      <td>38872</td>\n",
       "    </tr>\n",
       "    <tr>\n",
       "      <th>2</th>\n",
       "      <td>2015-03</td>\n",
       "      <td>32154</td>\n",
       "    </tr>\n",
       "    <tr>\n",
       "      <th>3</th>\n",
       "      <td>2015-04</td>\n",
       "      <td>32323</td>\n",
       "    </tr>\n",
       "  </tbody>\n",
       "</table>\n",
       "</div>"
      ],
      "text/plain": [
       "     month     id\n",
       "0  2015-01  38733\n",
       "1  2015-02  38872\n",
       "2  2015-03  32154\n",
       "3  2015-04  32323"
      ]
     },
     "execution_count": 5,
     "metadata": {},
     "output_type": "execute_result"
    }
   ],
   "source": [
    "months = monthly.groupby('month')['id'].sum().reset_index()\n",
    "months"
   ]
  },
  {
   "cell_type": "code",
   "execution_count": 6,
   "metadata": {},
   "outputs": [],
   "source": [
    "import matplotlib.pyplot as plt"
   ]
  },
  {
   "cell_type": "code",
   "execution_count": 17,
   "metadata": {},
   "outputs": [
    {
     "name": "stderr",
     "output_type": "stream",
     "text": [
      "C:\\Users\\FilippKashket\\Anaconda3\\lib\\site-packages\\ipykernel_launcher.py:6: UserWarning: Boolean Series key will be reindexed to match DataFrame index.\n",
      "  \n"
     ]
    },
    {
     "data": {
      "image/png": "[encoded data removed]",
      "text/plain": [
       "<Figure size 432x288 with 1 Axes>"
      ]
     },
     "metadata": {
      "needs_background": "light"
     },
     "output_type": "display_data"
    },
    {
     "data": {
      "image/png": "[encoded data removed]",
      "text/plain": [
       "<Figure size 432x288 with 1 Axes>"
      ]
     },
     "metadata": {
      "needs_background": "light"
     },
     "output_type": "display_data"
    },
    {
     "data": {
      "image/png": "[encoded data removed]",
      "text/plain": [
       "<Figure size 432x288 with 1 Axes>"
      ]
     },
     "metadata": {
      "needs_background": "light"
     },
     "output_type": "display_data"
    },
    {
     "data": {
      "image/png": "[encoded data removed]",
      "text/plain": [
       "<Figure size 432x288 with 1 Axes>"
      ]
     },
     "metadata": {
      "needs_background": "light"
     },
     "output_type": "display_data"
    }
   ],
   "source": [
    "Male = monthly[monthly['gender']=='Male'] \n",
    "\n",
    "for index, row in months.iterrows():\n",
    "    fig, subplot = plt.subplots()\n",
    "    y = Male[Male['month']==row.month].id\n",
    "    max_value = monthly[(monthly['gender']=='Male')&(Male['month']==row.month)]['id'].max()\n",
    " \n",
    "    subplot.barh(Male[Male['month']==row.month].page, \n",
    "           y)\n",
    "    subplot.set_title(row.month)\n",
    "    for i, v in enumerate(y):\n",
    "        subplot.text(v + 3, i, str(v)+\"(\"+str(round(v/max_value*100,2))+\"%)\", color='blue', fontweight='bold')"
   ]
  },
  {
   "cell_type": "code",
   "execution_count": 16,
   "metadata": {
    "scrolled": true
   },
   "outputs": [
    {
     "name": "stderr",
     "output_type": "stream",
     "text": [
      "C:\\Users\\FilippKashket\\Anaconda3\\lib\\site-packages\\ipykernel_launcher.py:6: UserWarning: Boolean Series key will be reindexed to match DataFrame index.\n",
      "  \n"
     ]
    },
    {
     "data": {
      "image/png": "[encoded data removed]",
      "text/plain": [
       "<Figure size 432x288 with 1 Axes>"
      ]
     },
     "metadata": {
      "needs_background": "light"
     },
     "output_type": "display_data"
    },
    {
     "data": {
      "image/png": "[encoded data removed]",
      "text/plain": [
       "<Figure size 432x288 with 1 Axes>"
      ]
     },
     "metadata": {
      "needs_background": "light"
     },
     "output_type": "display_data"
    },
    {
     "data": {
      "image/png": "[encoded data removed]",
      "text/plain": [
       "<Figure size 432x288 with 1 Axes>"
      ]
     },
     "metadata": {
      "needs_background": "light"
     },
     "output_type": "display_data"
    },
    {
     "data": {
      "image/png": "[encoded data removed]",
      "text/plain": [
       "<Figure size 432x288 with 1 Axes>"
      ]
     },
     "metadata": {
      "needs_background": "light"
     },
     "output_type": "display_data"
    }
   ],
   "source": [
    "Female = monthly[monthly['gender']=='Female'] \n",
    "\n",
    "for index, row in months.iterrows():\n",
    "    fig, subplot = plt.subplots()\n",
    "    y = Female[Female['month']==row.month].id\n",
    "    max_value = monthly[(monthly['gender']=='Female')&(Female['month']==row.month)]['id'].max()\n",
    " \n",
    "    subplot.barh(Female[Female['month']==row.month].page, \n",
    "           y)\n",
    "    subplot.set_title(row.month)\n",
    "    for i, v in enumerate(y):\n",
    "        subplot.text(v + 3, i, str(v)+\"(\"+str(round(v/max_value*100,2))+\"%)\", color='blue', fontweight='bold')"
   ]
  },
  {
   "cell_type": "markdown",
   "metadata": {},
   "source": [
    "Судя по данным конверсия от пола не зависит."
   ]
  }
 ],
 "metadata": {
  "kernelspec": {
   "display_name": "Python 3",
   "language": "python",
   "name": "python3"
  },
  "language_info": {
   "codemirror_mode": {
    "name": "ipython",
    "version": 3
   },
   "file_extension": ".py",
   "mimetype": "text/x-python",
   "name": "python",
   "nbconvert_exporter": "python",
   "pygments_lexer": "ipython3",
   "version": "3.7.3"
  }
 },
 "nbformat": 4,
 "nbformat_minor": 2
}
