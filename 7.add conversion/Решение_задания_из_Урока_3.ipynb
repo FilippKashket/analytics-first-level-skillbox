{
  "nbformat": 4,
  "nbformat_minor": 0,
  "metadata": {
    "colab": {
      "name": "Решение задания из Урока 3.ipynb",
      "provenance": [],
      "private_outputs": true,
      "collapsed_sections": []
    },
    "kernelspec": {
      "name": "python3",
      "display_name": "Python 3"
    }
  },
  "cells": [
    {
      "cell_type": "code",
      "metadata": {
        "id": "lkjC87-pfCYH",
        "colab_type": "code",
        "colab": {}
      },
      "source": [
        "import csv\n",
        "\n",
        "funnel_by_month = {} # создаем словарь, где будут храниться словари за каждый месяц\n",
        "funnel_template = {'1_home_page':0, '2_search_page':0, '3_payment_page':0, '4_payment_confirmation_page':0}\n",
        "\n",
        "with open('click_stream.csv', mode='r') as csv_file: # открываем файл\n",
        "    csv_reader = csv.DictReader(csv_file) # читаем файл\n",
        "    \n",
        "    # проходим циклом по объекту csv_reader\n",
        "    for row in csv_reader: # берем строку из объекта csv_reader\n",
        "\n",
        "        page = list(row.items())[1][1] # вытаскиваем название страницы\n",
        "        event_date = list(row.items())[2][1][:-3] # вытаскиваем дату в формате YYYY-MM\n",
        "        \n",
        "        # проверяем существует ли ключ со значением event_date в словаре\n",
        "        if event_date not in funnel_by_month: # если нет\n",
        "            funnel_by_month[event_date] = funnel_template.copy() # создаем ключ, в значение копируем заготовку\n",
        "\n",
        "        # проверяем условиями и прибавляем единицу к нужному ключу в словаре\n",
        "        if page == '1_home_page':\n",
        "            funnel_by_month[event_date]['1_home_page'] += 1\n",
        "        elif page == '2_search_page':\n",
        "            funnel_by_month[event_date]['2_search_page'] += 1\n",
        "        elif page == '3_payment_page':\n",
        "            funnel_by_month[event_date]['3_payment_page'] += 1\n",
        "        else:\n",
        "            funnel_by_month[event_date]['4_payment_confirmation_page'] += 1\n",
        "            \n",
        "funnel_by_month        "
      ],
      "execution_count": 0,
      "outputs": []
    }
  ]
}