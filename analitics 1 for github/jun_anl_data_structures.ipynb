{
 "cells": [
  {
   "cell_type": "markdown",
   "metadata": {
    "colab_type": "text",
    "id": "7lPyzNzeLIOj"
   },
   "source": [
    "# Базовые структуры данных\n",
    "\n",
    "\n",
    "\n",
    "## Домашнее задание \n",
    "\n",
    "### Описание домашнего задания и формат сдачи\n",
    "\n",
    "В домашнем задании необходимо решить предложенные задачи по программированию – вписать свой код в ячейки после условий задач вместо комментария `### YOUR CODE HERE ###` в файле *jun_anl_data_structures.ipynb* и сохранить изменения, используя опцию *Save and Checkpoint* из вкладки меню *File* или кнопку *Save and Checkpoint* на панели инструментов. Итоговый файл в формате `.ipynb` (файл Jupyter Notebook) необходимо загрузить в личный кабинет обучающей онлайн платформы Skillbox (https://go.skillbox.ru/) и отправить на проверку."
   ]
  },
  {
   "cell_type": "markdown",
   "metadata": {
    "colab_type": "text",
    "id": "awb1K2hlLIOl"
   },
   "source": [
    "**NB!** Во всех заданиях обязательно наличие выдачи."
   ]
  },
  {
   "cell_type": "markdown",
   "metadata": {
    "colab_type": "text",
    "id": "3ndIOSVeLIOm"
   },
   "source": [
    "## Индексация списка"
   ]
  },
  {
   "cell_type": "code",
   "execution_count": 2,
   "metadata": {
    "colab": {},
    "colab_type": "code",
    "id": "XSWqZnZ2LIOo"
   },
   "outputs": [],
   "source": [
    "L = [[[1, 2, 3, 4, 5, 6, 7, 8, 9, 10], [11, 12, 13, 14, 15, 16, 17, 18, 19, 20]], \n",
    "    [[21, 22, 23, 24, 25, 26, 27, 28, 29, 30], [31, 32, 33, 34, 35, 36, 37, 38, 39, 40]], \n",
    "    [[41, 42, 43, 44, 45], [46, [47, 48], 49, 50], [51, 52, 53, 54, 55], [56, 57, 58, 59, 60]], \n",
    "    [61, 62, 63, [64, 65, 66, 67, 68, 69, 70, 71], 72, 73, 74, [75, [76, 77, 78], 79], 80], \n",
    "    [81, 82, 83, 84, 85, 86, 87, 88, 89, 90, 91, 92, 93, 94, 95, 96, 97, 98, 99, 100]]"
   ]
  },
  {
   "cell_type": "markdown",
   "metadata": {
    "colab_type": "text",
    "id": "jwigC9WlLIOt"
   },
   "source": [
    "### 1.\n",
    "Из приведенного выше списка списков выведите с помощью индексов число `7`."
   ]
  },
  {
   "cell_type": "code",
   "execution_count": 7,
   "metadata": {
    "colab": {},
    "colab_type": "code",
    "id": "PDaSjPzRLIOu"
   },
   "outputs": [
    {
     "data": {
      "text/plain": [
       "7"
      ]
     },
     "execution_count": 7,
     "metadata": {},
     "output_type": "execute_result"
    }
   ],
   "source": [
    "L[0][0][6]"
   ]
  },
  {
   "cell_type": "markdown",
   "metadata": {
    "colab_type": "text",
    "id": "TF6eb9fYLIOw"
   },
   "source": [
    "### 2.\n",
    "Из приведенного выше списка списков выведите с помощью индексов число `49`."
   ]
  },
  {
   "cell_type": "code",
   "execution_count": 11,
   "metadata": {
    "colab": {},
    "colab_type": "code",
    "id": "l_oW37-qLIOx"
   },
   "outputs": [
    {
     "data": {
      "text/plain": [
       "49"
      ]
     },
     "execution_count": 11,
     "metadata": {},
     "output_type": "execute_result"
    }
   ],
   "source": [
    "L[2][1][2]"
   ]
  },
  {
   "cell_type": "markdown",
   "metadata": {
    "colab_type": "text",
    "id": "FBDB0JeBLIO1"
   },
   "source": [
    "### 3.\n",
    "Из приведенного выше списка списков выведите с помощью индексов число `78`."
   ]
  },
  {
   "cell_type": "code",
   "execution_count": 15,
   "metadata": {
    "colab": {},
    "colab_type": "code",
    "id": "tpM-jm4bLIO2"
   },
   "outputs": [
    {
     "data": {
      "text/plain": [
       "78"
      ]
     },
     "execution_count": 15,
     "metadata": {},
     "output_type": "execute_result"
    }
   ],
   "source": [
    "L[3][7][1][2]\n"
   ]
  },
  {
   "cell_type": "markdown",
   "metadata": {
    "colab_type": "text",
    "id": "gnaTfR3BLIO5"
   },
   "source": [
    "### 4.\n",
    "Из приведенного выше списка списков выведите с помощью индексов (используя **отрицательные значения**) число `99`."
   ]
  },
  {
   "cell_type": "code",
   "execution_count": 17,
   "metadata": {
    "colab": {},
    "colab_type": "code",
    "id": "sA0ImW8oLIO6"
   },
   "outputs": [
    {
     "data": {
      "text/plain": [
       "99"
      ]
     },
     "execution_count": 17,
     "metadata": {},
     "output_type": "execute_result"
    }
   ],
   "source": [
    "L[-1][-2]\n",
    "\n"
   ]
  },
  {
   "cell_type": "markdown",
   "metadata": {
    "colab_type": "text",
    "id": "07mV6-oeLIO-"
   },
   "source": [
    "### 5.\n",
    "Из приведенного выше списка списков сделайте **срез** с числом `74`. "
   ]
  },
  {
   "cell_type": "code",
   "execution_count": 33,
   "metadata": {
    "colab": {},
    "colab_type": "code",
    "id": "OM-zgJ15LIO-"
   },
   "outputs": [
    {
     "data": {
      "text/plain": [
       "[74]"
      ]
     },
     "execution_count": 33,
     "metadata": {},
     "output_type": "execute_result"
    }
   ],
   "source": [
    "L[3][6:7]\n",
    "\n"
   ]
  },
  {
   "cell_type": "markdown",
   "metadata": {
    "colab_type": "text",
    "id": "TE82rH0CLIPB"
   },
   "source": [
    "### 6.\n",
    "Из приведенного выше списка списков сделайте **срез** с числами `47, 48`. "
   ]
  },
  {
   "cell_type": "code",
   "execution_count": 40,
   "metadata": {
    "colab": {},
    "colab_type": "code",
    "id": "MKpqyOINLIPD"
   },
   "outputs": [
    {
     "data": {
      "text/plain": [
       "[47, 48]"
      ]
     },
     "execution_count": 40,
     "metadata": {},
     "output_type": "execute_result"
    }
   ],
   "source": [
    "L[2][1][1][:]\n",
    "\n"
   ]
  },
  {
   "cell_type": "markdown",
   "metadata": {
    "colab_type": "text",
    "id": "t6Fgb0AkLIPK"
   },
   "source": [
    "### 7.\n",
    "Из приведенного выше списка списков сделайте **срез** с числами `77, 78`. "
   ]
  },
  {
   "cell_type": "code",
   "execution_count": 43,
   "metadata": {
    "colab": {},
    "colab_type": "code",
    "id": "l1pGFe7uLIPM"
   },
   "outputs": [
    {
     "data": {
      "text/plain": [
       "[77, 78]"
      ]
     },
     "execution_count": 43,
     "metadata": {},
     "output_type": "execute_result"
    }
   ],
   "source": [
    "L[3][7][1][1:]\n",
    "\n"
   ]
  },
  {
   "cell_type": "markdown",
   "metadata": {
    "colab_type": "text",
    "id": "RwOlYKGhLIPR"
   },
   "source": [
    "## Функция range()"
   ]
  },
  {
   "cell_type": "markdown",
   "metadata": {
    "colab_type": "text",
    "id": "s2K0_TThLIPR"
   },
   "source": [
    "### 8.\n",
    "С помощью функции `range` сгенерируйте следующую последовательность: <br>\n",
    "`[0, 1, 2, 3, 4]`"
   ]
  },
  {
   "cell_type": "code",
   "execution_count": 54,
   "metadata": {
    "colab": {},
    "colab_type": "code",
    "id": "vpuvqwqdLIPS"
   },
   "outputs": [
    {
     "data": {
      "text/plain": [
       "[0, 1, 2, 3, 4]"
      ]
     },
     "execution_count": 54,
     "metadata": {},
     "output_type": "execute_result"
    }
   ],
   "source": [
    "L_new = list(range(0, 5))\n",
    "\n",
    "L_new"
   ]
  },
  {
   "cell_type": "markdown",
   "metadata": {
    "colab_type": "text",
    "id": "WyhA3ipeLIPU"
   },
   "source": [
    "### 9.\n",
    "С помощью функции `range` сгенерируйте следующую последовательность: <br>\n",
    "`[3, 4]`"
   ]
  },
  {
   "cell_type": "code",
   "execution_count": 55,
   "metadata": {
    "colab": {},
    "colab_type": "code",
    "id": "WHoyVxCeLIPV"
   },
   "outputs": [
    {
     "data": {
      "text/plain": [
       "[3, 4]"
      ]
     },
     "execution_count": 55,
     "metadata": {},
     "output_type": "execute_result"
    }
   ],
   "source": [
    "list(range(3,5))\n",
    "\n"
   ]
  },
  {
   "cell_type": "markdown",
   "metadata": {
    "colab_type": "text",
    "id": "Clfo7jhOLIPY"
   },
   "source": [
    "### 10.\n",
    "С помощью функции `range` сгенерируйте следующую последовательность: <br>\n",
    "`[4, 8, 12, 16]`"
   ]
  },
  {
   "cell_type": "code",
   "execution_count": 56,
   "metadata": {
    "colab": {},
    "colab_type": "code",
    "id": "WepJj6ZfLIPY"
   },
   "outputs": [
    {
     "data": {
      "text/plain": [
       "[4, 8, 12, 16]"
      ]
     },
     "execution_count": 56,
     "metadata": {},
     "output_type": "execute_result"
    }
   ],
   "source": [
    "list(range(4, 17, 4))\n",
    "\n"
   ]
  },
  {
   "cell_type": "markdown",
   "metadata": {
    "colab_type": "text",
    "id": "U9glCsGCLIPb"
   },
   "source": [
    "### 11.\n",
    "С помощью функции `range` сгенерируйте следующую последовательность: <br>\n",
    "`[16, 12, 8, 4]`"
   ]
  },
  {
   "cell_type": "code",
   "execution_count": 60,
   "metadata": {
    "colab": {},
    "colab_type": "code",
    "id": "NDm-DmpTLIPc"
   },
   "outputs": [
    {
     "data": {
      "text/plain": [
       "[16, 12, 8, 4]"
      ]
     },
     "execution_count": 60,
     "metadata": {},
     "output_type": "execute_result"
    }
   ],
   "source": [
    "list(range(16, 3, -4))\n",
    "\n"
   ]
  },
  {
   "cell_type": "markdown",
   "metadata": {
    "colab_type": "text",
    "id": "CHz6UIKyLIPi"
   },
   "source": [
    "### 12.\n",
    "С помощью функции `range` сгенерируйте следующую последовательность: <br>\n",
    "`[0, 5, 10]`"
   ]
  },
  {
   "cell_type": "code",
   "execution_count": 62,
   "metadata": {
    "colab": {},
    "colab_type": "code",
    "id": "9C06f5sTLIPj"
   },
   "outputs": [
    {
     "data": {
      "text/plain": [
       "[0, 5, 10]"
      ]
     },
     "execution_count": 62,
     "metadata": {},
     "output_type": "execute_result"
    }
   ],
   "source": [
    "list(range(0, 11, 5))\n",
    "\n"
   ]
  },
  {
   "cell_type": "markdown",
   "metadata": {
    "colab_type": "text",
    "id": "ZZehpNQuLIPm"
   },
   "source": [
    "### 13.\n",
    "С помощью функции `range` сгенерируйте следующую последовательность: <br>\n",
    "`[10, 5, 0]`"
   ]
  },
  {
   "cell_type": "code",
   "execution_count": 65,
   "metadata": {
    "colab": {},
    "colab_type": "code",
    "id": "H4QmyUfZLIPm"
   },
   "outputs": [
    {
     "data": {
      "text/plain": [
       "[10, 5, 0]"
      ]
     },
     "execution_count": 65,
     "metadata": {},
     "output_type": "execute_result"
    }
   ],
   "source": [
    "list(range(10, -1, -5))\n",
    "\n"
   ]
  },
  {
   "cell_type": "markdown",
   "metadata": {
    "colab_type": "text",
    "id": "kwWQ1al2LIPr"
   },
   "source": [
    "### 14.\n",
    "С помощью функции `range` сгенерируйте следующую последовательность: <br>\n",
    "`[-10, -9, -8, -7, -6, -5, -4, -3, -2, -1]`"
   ]
  },
  {
   "cell_type": "code",
   "execution_count": 66,
   "metadata": {
    "colab": {},
    "colab_type": "code",
    "id": "85HO3S_cLIPu"
   },
   "outputs": [
    {
     "data": {
      "text/plain": [
       "[-10, -9, -8, -7, -6, -5, -4, -3, -2, -1]"
      ]
     },
     "execution_count": 66,
     "metadata": {},
     "output_type": "execute_result"
    }
   ],
   "source": [
    "list(range(-10, 0))\n",
    "\n"
   ]
  },
  {
   "cell_type": "markdown",
   "metadata": {
    "colab_type": "text",
    "id": "sbCO0FbLLIP3"
   },
   "source": [
    "### 15.\n",
    "С помощью функции `range` сгенерируйте следующую последовательность: <br>\n",
    "`[-10, -16, -22, -28, -34]`"
   ]
  },
  {
   "cell_type": "code",
   "execution_count": 68,
   "metadata": {
    "colab": {},
    "colab_type": "code",
    "id": "Frychu-HLIP4"
   },
   "outputs": [
    {
     "data": {
      "text/plain": [
       "[-10, -16, -22, -28, -34]"
      ]
     },
     "execution_count": 68,
     "metadata": {},
     "output_type": "execute_result"
    }
   ],
   "source": [
    "list(range(-10, -35, -6))\n",
    "\n"
   ]
  },
  {
   "cell_type": "markdown",
   "metadata": {
    "colab_type": "text",
    "id": "1Gfu4kFqLIP-"
   },
   "source": [
    "## Операторы и типы данных"
   ]
  },
  {
   "cell_type": "markdown",
   "metadata": {
    "colab_type": "text",
    "id": "qnWdcLseLIP_"
   },
   "source": [
    "### 16.\n",
    "Часы показывают время в формате h:mm:ss (количество часов (от 0 до 23), двузначное количество минут, двузначное количество секунд). Количество минут и секунд при необходимости дополняются до двузначного числа нулями.\n",
    "\n",
    "Программа должна запрашивать количество секунд S, которое прошло с начала суток, и выводить в формате h:mm:ss, какое время будут показывать часы. <br><br>\n",
    "\n",
    "*Формат ввода:* <br>\n",
    "3600<br><br>\n",
    "\n",
    "*Формат вывода:* <br>\n",
    "1:00:00"
   ]
  },
  {
   "cell_type": "code",
   "execution_count": 79,
   "metadata": {
    "colab": {},
    "colab_type": "code",
    "id": "UaM4-TFYLIP_"
   },
   "outputs": [
    {
     "name": "stdout",
     "output_type": "stream",
     "text": [
      "Введите количество секунд S, которое прошло с начала суток3600\n",
      "01:00:00\n"
     ]
    }
   ],
   "source": [
    "seconds = int(input('Введите количество секунд S, которое прошло с начала суток'))\n",
    "h = seconds // (3600)\n",
    "mm = (seconds - h*3600)//60\n",
    "ss = seconds - h*3600- mm*60\n",
    "print(f'{h:02}:{mm:02}:{ss:02}')\n"
   ]
  },
  {
   "cell_type": "markdown",
   "metadata": {
    "colab_type": "text",
    "id": "BnxMhHlDLIQB"
   },
   "source": [
    "### 17.\n",
    "Машина выезжает на нулевой километр МКАД и едет по часовой стрелке с постоянной скоростью V километров в час. На каком километре МКАД машина окажется через T часов? \n",
    "<br> Длина МКАД: 109 км. <br><br> \n",
    "\n",
    "*Формат ввода:* <br>\n",
    "60 <br>\n",
    "1\n",
    "<br><br>\n",
    "*Формат вывода:* <br>\n",
    "60"
   ]
  },
  {
   "cell_type": "code",
   "execution_count": 80,
   "metadata": {
    "colab": {},
    "colab_type": "code",
    "id": "66aeGuRbLIQC"
   },
   "outputs": [
    {
     "name": "stdout",
     "output_type": "stream",
     "text": [
      "Введите скорость машины60\n",
      "Введите время1\n",
      "Машина на 60.0м километре КАД\n"
     ]
    }
   ],
   "source": [
    "V = float(input('Введите скорость машины'))\n",
    "T = float(input('Введите время'))\n",
    "S = V * T\n",
    "print(f'Машина на {S}м километре КАД')\n"
   ]
  },
  {
   "cell_type": "markdown",
   "metadata": {
    "colab_type": "text",
    "id": "ZxMi6_58LIQG"
   },
   "source": [
    "### 18.\n",
    "Напишите программу, которая запрашивает целое пятизначное число и выводит сумму его цифр.\n",
    "\n",
    "*Формат ввода:* <br>\n",
    "11111\n",
    "<br><br>\n",
    "*Формат вывода:* <br>\n",
    "5"
   ]
  },
  {
   "cell_type": "code",
   "execution_count": 98,
   "metadata": {
    "colab": {},
    "colab_type": "code",
    "id": "wasIkbwELIQH"
   },
   "outputs": [
    {
     "name": "stdout",
     "output_type": "stream",
     "text": [
      "Введите целое пятизначное число11111\n"
     ]
    },
    {
     "data": {
      "text/plain": [
       "5"
      ]
     },
     "execution_count": 98,
     "metadata": {},
     "output_type": "execute_result"
    }
   ],
   "source": [
    "num = input('Введите целое пятизначное число')\n",
    "int(num[0]) + int(num[1]) + int(num[2]) + int(num[3]) + int(num[4])\n",
    "#или цикл"
   ]
  },
  {
   "cell_type": "markdown",
   "metadata": {
    "colab_type": "text",
    "id": "6q6JEgziLIQK"
   },
   "source": [
    "### 19.\n",
    "Напишите программу, которая запрашивает целое четырехзначное число и меняет местами его две первые и две последние цифры.\n",
    "\n",
    "*Формат ввода:* <br>\n",
    "5236 \n",
    "<br><br>\n",
    "*Формат вывода:* <br>\n",
    "3652"
   ]
  },
  {
   "cell_type": "code",
   "execution_count": 103,
   "metadata": {
    "colab": {},
    "colab_type": "code",
    "id": "tupFycemLIQK"
   },
   "outputs": [
    {
     "name": "stdout",
     "output_type": "stream",
     "text": [
      "Введите целое четырехзначное число5236\n"
     ]
    },
    {
     "data": {
      "text/plain": [
       "'3652'"
      ]
     },
     "execution_count": 103,
     "metadata": {},
     "output_type": "execute_result"
    }
   ],
   "source": [
    "num = input('Введите целое четырехзначное число')\n",
    "num[2:4]+num[0:2]\n"
   ]
  },
  {
   "cell_type": "markdown",
   "metadata": {
    "colab_type": "text",
    "id": "3NglY6CQLIQN"
   },
   "source": [
    "### 20.\n",
    "Напишите программу, которая на основании параметра D (сколько километров в день преодолевает машина), расчитывает сколько дней она затратит на путь длиной P километров.  <br><br>\n",
    "*Формат ввода:* <br>\n",
    "105 <br>\n",
    "120\n",
    "<br><br>\n",
    "*Формат вывода:* <br>\n",
    "2"
   ]
  },
  {
   "cell_type": "code",
   "execution_count": 104,
   "metadata": {
    "colab": {},
    "colab_type": "code",
    "id": "7sCggR--LIQN"
   },
   "outputs": [
    {
     "name": "stdout",
     "output_type": "stream",
     "text": [
      "Сколько километров в день преодолевает машина 105\n",
      "Сколько километров нужно проехать120\n"
     ]
    },
    {
     "data": {
      "text/plain": [
       "2"
      ]
     },
     "execution_count": 104,
     "metadata": {},
     "output_type": "execute_result"
    }
   ],
   "source": [
    "D = float(input('Сколько километров в день преодолевает машина '))\n",
    "P = float(input('Сколько километров нужно проехать'))\n",
    "\n",
    "round(P//D +0.5)\n",
    "#или подключить math и использовать ceil"
   ]
  },
  {
   "cell_type": "markdown",
   "metadata": {
    "colab_type": "text",
    "id": "oWERt2BRLIQR"
   },
   "source": [
    "### 21.\n",
    "Напишите программу, которая считает, сколько рублей и копеек нужно заплатить за N авокадо, если один авокадо стоит R рублей и K копеек. <br><br>\n",
    "*Формат ввода:* <br>\n",
    "40 20 <br>\n",
    "5\n",
    "<br><br>\n",
    "*Формат вывода:* <br>\n",
    "201 руб. 00 коп."
   ]
  },
  {
   "cell_type": "code",
   "execution_count": 114,
   "metadata": {
    "colab": {},
    "colab_type": "code",
    "id": "Zvx5ybP7LIQU"
   },
   "outputs": [
    {
     "name": "stdout",
     "output_type": "stream",
     "text": [
      "сколько рублей и копеек стоит авокадо?40 20\n",
      "Сколько авкадо мы хотим купить?5\n",
      "4020\n",
      "201 руб. 00 коп.\n"
     ]
    }
   ],
   "source": [
    "R,K = input(\"сколько рублей и копеек стоит авокадо?\").split()\n",
    "N = int(input('Сколько авкадо мы хотим купить?'))\n",
    "R = int(R)\n",
    "K = int(K)\n",
    "price = R*100+K\n",
    "print(price)\n",
    "sum = price*N\n",
    "R_sum = sum //100\n",
    "K_sum = sum - R_sum*100\n",
    "print(f'{R_sum} руб. {K_sum:02} коп.')"
   ]
  },
  {
   "cell_type": "markdown",
   "metadata": {
    "colab_type": "text",
    "id": "Q0u91-MILIQX"
   },
   "source": [
    "### 22.\n",
    "Пусть организаторы мероприятия неправильно составили гугл-форму и просили людей указывать ФИО в неправильном порядке. Сначала спрашивали имя, потом отчество, затем фамилию. Напишите программу, которая будет переставлять ФИО в нужный порядок. <br> <br> \n",
    "\n",
    "*Формат ввода:* <br>\n",
    "Иван Иванович Иванов<br><br>\n",
    "*Формат вывода:* <br>\n",
    "Иванов Иван Иванович"
   ]
  },
  {
   "cell_type": "code",
   "execution_count": 3,
   "metadata": {
    "colab": {},
    "colab_type": "code",
    "id": "hrXguBL7LIQX"
   },
   "outputs": [
    {
     "name": "stdout",
     "output_type": "stream",
     "text": [
      "Введите Имя Отчество и ФамилиюИван Иванович Иванов\n"
     ]
    },
    {
     "data": {
      "text/plain": [
       "'Иванов Иван Иванович'"
      ]
     },
     "execution_count": 3,
     "metadata": {},
     "output_type": "execute_result"
    }
   ],
   "source": [
    "name, patr, surn = input('Введите Имя Отчество и Фамилию').split()\n",
    "f'{surn} {name} {patr}'\n"
   ]
  },
  {
   "cell_type": "markdown",
   "metadata": {
    "colab_type": "text",
    "id": "vwexBPelLIQb"
   },
   "source": [
    "## Cловари и списки"
   ]
  },
  {
   "cell_type": "markdown",
   "metadata": {
    "colab_type": "text",
    "id": "nIgc10tKLIQc"
   },
   "source": [
    "### 23.\n",
    "У вас есть список с заказом в ресторане. Напишите программу, которая меняет указанное по названию блюдо на другое. При этом новое блюдо в списке будет расположено на месте того, что было заменено.\n",
    "\n",
    "*Формат ввода:* <br>\n",
    "белое вино<br>\n",
    "красное вино <br><br>\n",
    "*Формат вывода:* <br>\n",
    "`['красное вино', 'салат Цезарь', 'паста Карбонара', 'чизкейк', 'шоколадный сорбет']`"
   ]
  },
  {
   "cell_type": "code",
   "execution_count": 4,
   "metadata": {
    "colab": {},
    "colab_type": "code",
    "id": "O0k3dslvLIQd"
   },
   "outputs": [],
   "source": [
    "order = ['белое вино', 'салат Цезарь', 'паста Карбонара', 'чизкейк', 'шоколадный сорбет']"
   ]
  },
  {
   "cell_type": "code",
   "execution_count": 7,
   "metadata": {
    "colab": {},
    "colab_type": "code",
    "id": "D9s6foo_LIQh"
   },
   "outputs": [
    {
     "name": "stdout",
     "output_type": "stream",
     "text": [
      "Введите блюдо котореон адо заменитьпаста Карбонара\n",
      "Введите новое блюдоДраники\n"
     ]
    },
    {
     "data": {
      "text/plain": [
       "['белое вино', 'салат Цезарь', 'Драники', 'чизкейк', 'шоколадный сорбет']"
      ]
     },
     "execution_count": 7,
     "metadata": {},
     "output_type": "execute_result"
    }
   ],
   "source": [
    "dish_old = input('Введите блюдо котореон адо заменить')\n",
    "dish_new = input('Введите новое блюдо')\n",
    "index = order.index(dish_old)\n",
    "order[index] = dish_new\n",
    "order"
   ]
  },
  {
   "cell_type": "markdown",
   "metadata": {
    "colab_type": "text",
    "id": "GLx0EKUiLIQj"
   },
   "source": [
    "__________________\n",
    "Вам дан словарь c расписанием на неделю. "
   ]
  },
  {
   "cell_type": "code",
   "execution_count": 19,
   "metadata": {
    "colab": {},
    "colab_type": "code",
    "id": "fbPqWtv_LIQl"
   },
   "outputs": [],
   "source": [
    "diary = {'понедельник': {\n",
    "                          'утро': ['погулять с собакой'],\n",
    "                          'день': [],\n",
    "                          'вечер': ['погулять с собакой']\n",
    "                                      },\n",
    "        'вторник': {\n",
    "                          'утро': ['погулять с собакой'],\n",
    "                          'день': [],\n",
    "                          'вечер': ['погулять с собакой']\n",
    "                                      },\n",
    "        'среда': {\n",
    "                          'утро': ['погулять с собакой'],\n",
    "                          'день': [],\n",
    "                          'вечер': ['погулять с собакой']\n",
    "                                      },\n",
    "        'четверг': {\n",
    "                          'утро': ['погулять с собакой'],\n",
    "                          'день': [],\n",
    "                          'вечер': ['погулять с собакой']\n",
    "                                      },\n",
    "        'пятница': {\n",
    "                          'утро': ['заехать в шиномонтаж', 'помыть машину'],\n",
    "                          'день': [],\n",
    "                          'вечер': ['поход в театр',  'ужин в кафе']\n",
    "                                      },\n",
    "        'суббота': {\n",
    "                          'утро': [],\n",
    "                          'день': [],\n",
    "                          'вечер': []\n",
    "                                      },\n",
    "        'воскресенье': {\n",
    "                          'утро': [],\n",
    "                          'день': [],\n",
    "                          'вечер': []\n",
    "                                      }}"
   ]
  },
  {
   "cell_type": "markdown",
   "metadata": {
    "colab_type": "text",
    "id": "3FocVZkgLIQn"
   },
   "source": [
    "### 24.\n",
    "Удалите ключи `суббота` и `воскресенье`. Вместо них добавьте пару, где ключ это кортеж `суббота, воскресенье`, а значение – список с делом `посадить цветы на даче`. Можно ли сделать ключ `суббота, воскресенье` списком?"
   ]
  },
  {
   "cell_type": "code",
   "execution_count": 20,
   "metadata": {
    "colab": {},
    "colab_type": "code",
    "id": "lcw8GWcnLIQo"
   },
   "outputs": [
    {
     "data": {
      "text/plain": [
       "{'понедельник': {'утро': ['погулять с собакой'],\n",
       "  'день': [],\n",
       "  'вечер': ['погулять с собакой']},\n",
       " 'вторник': {'утро': ['погулять с собакой'],\n",
       "  'день': [],\n",
       "  'вечер': ['погулять с собакой']},\n",
       " 'среда': {'утро': ['погулять с собакой'],\n",
       "  'день': [],\n",
       "  'вечер': ['погулять с собакой']},\n",
       " 'четверг': {'утро': ['погулять с собакой'],\n",
       "  'день': [],\n",
       "  'вечер': ['погулять с собакой']},\n",
       " 'пятница': {'утро': ['заехать в шиномонтаж', 'помыть машину'],\n",
       "  'день': [],\n",
       "  'вечер': ['поход в театр', 'ужин в кафе']},\n",
       " ('суббота', 'воскресенье'): ['посадить цветы на даче']}"
      ]
     },
     "execution_count": 20,
     "metadata": {},
     "output_type": "execute_result"
    }
   ],
   "source": [
    "del diary['суббота']\n",
    "del diary['воскресенье']\n",
    "#diary[['суббота', 'воскресенье']] = ['посадить цветы на даче'] со списков в качестве ключа не работает \n",
    "diary[('суббота', 'воскресенье')] = ['посадить цветы на даче']\n",
    "diary"
   ]
  },
  {
   "cell_type": "markdown",
   "metadata": {
    "colab_type": "text",
    "id": "vVhNCrtLLIQs"
   },
   "source": [
    "### 25.\n",
    "Добавьте в список дел во вторник утром `поход к зубному`."
   ]
  },
  {
   "cell_type": "code",
   "execution_count": 21,
   "metadata": {
    "colab": {},
    "colab_type": "code",
    "id": "R4BiwaWlLIQu"
   },
   "outputs": [
    {
     "data": {
      "text/plain": [
       "{'понедельник': {'утро': ['погулять с собакой', 'поход к зубному'],\n",
       "  'день': [],\n",
       "  'вечер': ['погулять с собакой']},\n",
       " 'вторник': {'утро': ['погулять с собакой'],\n",
       "  'день': [],\n",
       "  'вечер': ['погулять с собакой']},\n",
       " 'среда': {'утро': ['погулять с собакой'],\n",
       "  'день': [],\n",
       "  'вечер': ['погулять с собакой']},\n",
       " 'четверг': {'утро': ['погулять с собакой'],\n",
       "  'день': [],\n",
       "  'вечер': ['погулять с собакой']},\n",
       " 'пятница': {'утро': ['заехать в шиномонтаж', 'помыть машину'],\n",
       "  'день': [],\n",
       "  'вечер': ['поход в театр', 'ужин в кафе']},\n",
       " ('суббота', 'воскресенье'): ['посадить цветы на даче']}"
      ]
     },
     "execution_count": 21,
     "metadata": {},
     "output_type": "execute_result"
    }
   ],
   "source": [
    "diary['понедельник']['утро'].append('поход к зубному')\n",
    "diary\n"
   ]
  },
  {
   "cell_type": "markdown",
   "metadata": {
    "colab_type": "text",
    "id": "BPQ5R-PkLIQ2"
   },
   "source": [
    "### 26.\n",
    "Замените `поход в театр` на `поход в кино` в списке дел в пятницу вечером."
   ]
  },
  {
   "cell_type": "code",
   "execution_count": 22,
   "metadata": {
    "colab": {},
    "colab_type": "code",
    "id": "nhqzOrZILIQ5"
   },
   "outputs": [
    {
     "data": {
      "text/plain": [
       "{'понедельник': {'утро': ['погулять с собакой', 'поход к зубному'],\n",
       "  'день': [],\n",
       "  'вечер': ['погулять с собакой']},\n",
       " 'вторник': {'утро': ['погулять с собакой'],\n",
       "  'день': [],\n",
       "  'вечер': ['погулять с собакой']},\n",
       " 'среда': {'утро': ['погулять с собакой'],\n",
       "  'день': [],\n",
       "  'вечер': ['погулять с собакой']},\n",
       " 'четверг': {'утро': ['погулять с собакой'],\n",
       "  'день': [],\n",
       "  'вечер': ['погулять с собакой']},\n",
       " 'пятница': {'утро': ['заехать в шиномонтаж', 'помыть машину'],\n",
       "  'день': [],\n",
       "  'вечер': ['поход в кино', 'ужин в кафе']},\n",
       " ('суббота', 'воскресенье'): ['посадить цветы на даче']}"
      ]
     },
     "execution_count": 22,
     "metadata": {},
     "output_type": "execute_result"
    }
   ],
   "source": [
    "diary['пятница']['вечер'][0] = 'поход в кино' \n",
    "diary\n"
   ]
  },
  {
   "cell_type": "markdown",
   "metadata": {
    "colab_type": "text",
    "id": "HCE0aq_BLIQ7"
   },
   "source": [
    "### 27.\n",
    "Ваш друг вернется из отпуска на один день раньше, поэтому он заберет свою собаку в среду, а не в четверг. Удалите дело `погулять с собакой` из соответствующих списков."
   ]
  },
  {
   "cell_type": "code",
   "execution_count": 30,
   "metadata": {
    "colab": {},
    "colab_type": "code",
    "id": "WPnIXdTVLIQ7"
   },
   "outputs": [
    {
     "data": {
      "text/plain": [
       "{'понедельник': {'утро': ['погулять с собакой', 'поход к зубному'],\n",
       "  'день': [],\n",
       "  'вечер': ['погулять с собакой']},\n",
       " 'вторник': {'утро': ['погулять с собакой'],\n",
       "  'день': [],\n",
       "  'вечер': ['погулять с собакой']},\n",
       " 'среда': {'утро': ['погулять с собакой'],\n",
       "  'день': [],\n",
       "  'вечер': ['погулять с собакой']},\n",
       " 'четверг': {'утро': [], 'день': [], 'вечер': []},\n",
       " 'пятница': {'утро': ['заехать в шиномонтаж', 'помыть машину'],\n",
       "  'день': [],\n",
       "  'вечер': ['поход в кино', 'ужин в кафе']},\n",
       " ('суббота', 'воскресенье'): ['посадить цветы на даче']}"
      ]
     },
     "execution_count": 30,
     "metadata": {},
     "output_type": "execute_result"
    }
   ],
   "source": [
    "del diary['четверг']['утро'][0]\n",
    "del diary['четверг']['вечер'][0]\n",
    "diary"
   ]
  },
  {
   "cell_type": "markdown",
   "metadata": {
    "colab_type": "text",
    "id": "A80KVUrZLIQ9"
   },
   "source": [
    "### 28.\n",
    "Выведите второе дело из списка дел, которые вам нужно сделать в пятницу утром."
   ]
  },
  {
   "cell_type": "code",
   "execution_count": 31,
   "metadata": {
    "colab": {},
    "colab_type": "code",
    "id": "ofqEBNuZLIQ-"
   },
   "outputs": [
    {
     "data": {
      "text/plain": [
       "'помыть машину'"
      ]
     },
     "execution_count": 31,
     "metadata": {},
     "output_type": "execute_result"
    }
   ],
   "source": [
    "diary['пятница']['утро'][1]\n",
    "\n"
   ]
  }
 ],
 "metadata": {
  "colab": {
   "name": "jun_anl_data_structures.ipynb",
   "provenance": [],
   "version": "0.3.2"
  },
  "kernelspec": {
   "display_name": "Python 3",
   "language": "python",
   "name": "python3"
  },
  "language_info": {
   "codemirror_mode": {
    "name": "ipython",
    "version": 3
   },
   "file_extension": ".py",
   "mimetype": "text/x-python",
   "name": "python",
   "nbconvert_exporter": "python",
   "pygments_lexer": "ipython3",
   "version": "3.7.3"
  }
 },
 "nbformat": 4,
 "nbformat_minor": 1
}
