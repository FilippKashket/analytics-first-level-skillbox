{
 "cells": [
  {
   "cell_type": "markdown",
   "metadata": {
    "colab_type": "text",
    "id": "APhOecC6pli2"
   },
   "source": [
    "# Циклы и условия\n",
    "\n",
    "## Домашняя работа"
   ]
  },
  {
   "cell_type": "markdown",
   "metadata": {
    "colab_type": "text",
    "id": "6UFjTyXJpli3"
   },
   "source": [
    "## 1\n",
    "\n",
    "Напишите программу, которая будет запрашивать на вход числа (через запятую на одной строке) и выводить наибольшее значение из списка."
   ]
  },
  {
   "cell_type": "code",
   "execution_count": 13,
   "metadata": {
    "colab": {},
    "colab_type": "code",
    "id": "C6cxT_rYpli4"
   },
   "outputs": [
    {
     "name": "stdout",
     "output_type": "stream",
     "text": [
      "Введите числа через запятую: 78,90,443,0,9,123\n",
      "[78, 90, 443, 0, 9, 123]\n"
     ]
    },
    {
     "data": {
      "text/plain": [
       "443"
      ]
     },
     "execution_count": 13,
     "metadata": {},
     "output_type": "execute_result"
    }
   ],
   "source": [
    "numbers = input('Введите числа через запятую: ')\n",
    "numbers = list( map(int, numbers.split(',')) )\n",
    "print(numbers)\n",
    "max(numbers)"
   ]
  },
  {
   "cell_type": "markdown",
   "metadata": {
    "colab_type": "text",
    "id": "knvk0Pripli-"
   },
   "source": [
    "### 2\n",
    "\n",
    "Напишите программу, которая будет запрашивать на вход числа (каждое с новой строки) до тех пор, пока не будет введен ноль (0). На выход должно выводиться второе по величине значение."
   ]
  },
  {
   "cell_type": "code",
   "execution_count": 7,
   "metadata": {
    "colab": {},
    "colab_type": "code",
    "id": "kNlBPlIjpli_"
   },
   "outputs": [
    {
     "name": "stdout",
     "output_type": "stream",
     "text": [
      "Ввводите числа кождое с новой строки, для завершения введите 0\n",
      "56\n",
      "400\n",
      "7\n",
      "56\n",
      "32\n",
      "8\n",
      "7\n",
      "7\n",
      "0\n",
      "8\n"
     ]
    }
   ],
   "source": [
    "numbers =[]\n",
    "\n",
    "print('Ввводите числа кождое с новой строки, для завершения введите 0')\n",
    "while(True):\n",
    "    num = int(input())\n",
    "    if(num == 0):\n",
    "        break\n",
    "    numbers.append(num)\n",
    "\n",
    "min_n = numbers[0]\n",
    "not_min = numbers[0]\n",
    "for num in numbers:\n",
    "    if num < min_n:\n",
    "        min_n = num\n",
    "    if min_n < num < not_min:\n",
    "        not_min = num\n",
    "\n",
    "print(not_min)"
   ]
  },
  {
   "cell_type": "markdown",
   "metadata": {
    "colab_type": "text",
    "id": "VdciZusGpljB"
   },
   "source": [
    "### 3\n",
    "\n",
    "Напишите программу, которая принимает на вход год, а на выход выдает количество дней в этом году."
   ]
  },
  {
   "cell_type": "code",
   "execution_count": 8,
   "metadata": {
    "colab": {},
    "colab_type": "code",
    "id": "VasdFmMNpljC"
   },
   "outputs": [
    {
     "name": "stdout",
     "output_type": "stream",
     "text": [
      "Введите год1999\n",
      "В 1999 году 365 дней\n"
     ]
    }
   ],
   "source": [
    "year = int(input('Введите год'))\n",
    "\n",
    "if (year%4)!=0:\n",
    "           print(f'В {year} году 365 дней')    \n",
    "elif (year%100) !=0:\n",
    "           print(f'В {year} году 365 дней')\n",
    "elif (year%400) != 0:\n",
    "           print(f'В {year} году 365 дней')\n",
    "else:\n",
    "           print(f'В {year} году 366 дней')"
   ]
  },
  {
   "cell_type": "markdown",
   "metadata": {
    "colab_type": "text",
    "id": "jAuf9TA-pljE"
   },
   "source": [
    "### 4\n",
    "\n",
    "Напишите программу, которая на вход получает координаты двух клеток шахматной доски и выводит соощение о том, являются ли эти клетки одного цвета."
   ]
  },
  {
   "cell_type": "code",
   "execution_count": 19,
   "metadata": {
    "colab": {},
    "colab_type": "code",
    "id": "5QWjZEl2pljE"
   },
   "outputs": [
    {
     "name": "stdout",
     "output_type": "stream",
     "text": [
      "Введите первую координату: D3\n",
      "Введите вторую координату: H1\n",
      "Кленки одного цвета\n"
     ]
    }
   ],
   "source": [
    "str_coord_1 = input('Введите первую координату: ')\n",
    "str_coord_2 = input('Введите вторую координату: ')\n",
    "\n",
    "def get_color(cell):\n",
    "    if(\n",
    "        (\n",
    "            (cell[0] == 'A') | \n",
    "            (cell[0] == 'C') | \n",
    "            (cell[0] == 'E') | \n",
    "            (cell[0] == 'G') )\n",
    "            \n",
    "            & int(cell[1])%2 != 0\n",
    "    ):\n",
    "        return 1\n",
    "    else:\n",
    "        return 0\n",
    "    \n",
    "color1 = get_color(str_coord_1)\n",
    "color2 = get_color(str_coord_2)\n",
    "\n",
    "if(color1 == color2):\n",
    "    print('Кленки одного цвета')\n",
    "else:\n",
    "    print('Клетки разного цвета')\n",
    "    "
   ]
  },
  {
   "cell_type": "markdown",
   "metadata": {
    "colab_type": "text",
    "id": "h-ikKxW8pljG"
   },
   "source": [
    "### 5\n",
    "\n",
    "Напишите программу, которая на вход получает число, а на выходе сообщает, простое это число или составное."
   ]
  },
  {
   "cell_type": "code",
   "execution_count": 28,
   "metadata": {
    "colab": {},
    "colab_type": "code",
    "id": "ihOz-5j9pljH"
   },
   "outputs": [
    {
     "name": "stdout",
     "output_type": "stream",
     "text": [
      "Введите целое число: 64\n",
      "Это составное число\n"
     ]
    }
   ],
   "source": [
    "number = int(input('Введите целое число: '))\n",
    "for num in range(2, number):\n",
    "    if(number%num == 0):\n",
    "        print('Это составное число')\n",
    "        break\n",
    "else:\n",
    "    print('Это простое число')"
   ]
  },
  {
   "cell_type": "markdown",
   "metadata": {
    "colab_type": "text",
    "id": "3G6WAQPbpljJ"
   },
   "source": [
    "### 6\n",
    "\n",
    "Напишите программу, которая на вход получает целое число больше 2 и выводит по нему его наименьший натуральный делитель, отличный от 1."
   ]
  },
  {
   "cell_type": "code",
   "execution_count": 34,
   "metadata": {
    "colab": {},
    "colab_type": "code",
    "id": "PMfx4MhhpljK"
   },
   "outputs": [
    {
     "name": "stdout",
     "output_type": "stream",
     "text": [
      "Введите целое число больше 2: 33\n",
      "Наименьший натуральный делитель, отличный от 1: 3\n"
     ]
    }
   ],
   "source": [
    "number = int(input('Введите целое число больше 2: '))\n",
    "for num in range(2, number+1):\n",
    "    if(number%num == 0):\n",
    "        print(f'Наименьший натуральный делитель, отличный от 1: {num}')\n",
    "        break"
   ]
  },
  {
   "cell_type": "markdown",
   "metadata": {
    "colab_type": "text",
    "id": "wGUqJFdlpljM"
   },
   "source": [
    "### 7\n",
    "\n",
    "Напишите программу, которая поможет составить план тренировок для подготовки к марафону. Она получает на вход число километров на планируемом марафоне, сколько пользователь планирует пробежать в первый день тренировок и на сколько процентов планирует увеличивать каждый день это расстояние. На выходе программа должна выдавать, сколько дней пользователю потребуется для того, чтобы подготовиться пробежать целевое количество километров."
   ]
  },
  {
   "cell_type": "code",
   "execution_count": 8,
   "metadata": {
    "colab": {},
    "colab_type": "code",
    "id": "GxD-3EurpljO"
   },
   "outputs": [
    {
     "name": "stdout",
     "output_type": "stream",
     "text": [
      "Введите длину трассы забега: 30\n",
      "Сколько планируете пробежать на первой тренировке: 1\n",
      "На сколькоп роцентов планируете увеличивать длину: 20\n",
      "ЧТобы подготовиться к марафону потребуется 19 дней\n"
     ]
    }
   ],
   "source": [
    "maraphon_lenght = float(input('Введите длину трассы забега: '))\n",
    "current_lenght = float(input('Сколько планируете пробежать на первой тренировке: '))\n",
    "percent_rise = float(input('На сколькоп роцентов планируете увеличивать длину: '))\n",
    "percent_rise = percent_rise/100\n",
    "days_q = 0\n",
    "while(current_lenght < maraphon_lenght):\n",
    "    current_lenght += current_lenght*percent_rise\n",
    "    days_q += 1\n",
    "print(f'ЧТобы подготовиться к марафону потребуется {days_q} дней')"
   ]
  },
  {
   "cell_type": "markdown",
   "metadata": {
    "colab_type": "text",
    "id": "kfYWrvFMpljT"
   },
   "source": [
    "### 8\n",
    "\n",
    "Напишите программу, которая на вход получает число n и считает по нему сумму 1²+2²+3²+...+n²."
   ]
  },
  {
   "cell_type": "code",
   "execution_count": 4,
   "metadata": {
    "colab": {},
    "colab_type": "code",
    "id": "FqdcneavpljU"
   },
   "outputs": [
    {
     "name": "stdout",
     "output_type": "stream",
     "text": [
      "Введите число n:9\n"
     ]
    },
    {
     "data": {
      "text/plain": [
       "285"
      ]
     },
     "execution_count": 4,
     "metadata": {},
     "output_type": "execute_result"
    }
   ],
   "source": [
    "n = int(input('Введите число n:'))\n",
    "sum = 0\n",
    "for i in range(1, n+1):\n",
    "    sum += i ** 2\n",
    "sum"
   ]
  },
  {
   "cell_type": "markdown",
   "metadata": {
    "colab_type": "text",
    "id": "9X47JpF0pljY"
   },
   "source": [
    "## 9\n",
    "\n",
    "Напишите программу, которая на вход получает число n и считает по нему сумму сумму 1! + 2! + 3! + ... + n!"
   ]
  },
  {
   "cell_type": "code",
   "execution_count": 9,
   "metadata": {
    "colab": {},
    "colab_type": "code",
    "id": "FMbt__Msplja"
   },
   "outputs": [
    {
     "name": "stdout",
     "output_type": "stream",
     "text": [
      "Введите число n:15\n"
     ]
    },
    {
     "data": {
      "text/plain": [
       "1401602636313"
      ]
     },
     "execution_count": 9,
     "metadata": {},
     "output_type": "execute_result"
    }
   ],
   "source": [
    "n = int(input('Введите число n:'))\n",
    "sum = 0\n",
    "for i in range(1, n+1):\n",
    "    fact = 1\n",
    "    for j in range(1, i+1):\n",
    "        fact *= j\n",
    "    sum += fact\n",
    "sum"
   ]
  },
  {
   "cell_type": "markdown",
   "metadata": {
    "colab_type": "text",
    "id": "pvJcW_IGpljf"
   },
   "source": [
    "### 10\n",
    "\n",
    "Напишите программу, которая получает на вход последовательность чисел (каждое число с новой строки до того момента, пока пользователь не введет 0) и считает количество четных элементов в последовательности."
   ]
  },
  {
   "cell_type": "code",
   "execution_count": 13,
   "metadata": {
    "colab": {},
    "colab_type": "code",
    "id": "1SI4xAejpljg"
   },
   "outputs": [
    {
     "name": "stdout",
     "output_type": "stream",
     "text": [
      "Ввводите числа кождое с новой строки, для завершения введите 0\n",
      "6\n",
      "7\n",
      "2\n",
      "0\n"
     ]
    },
    {
     "data": {
      "text/plain": [
       "2"
      ]
     },
     "execution_count": 13,
     "metadata": {},
     "output_type": "execute_result"
    }
   ],
   "source": [
    "count = 0 \n",
    "print('Ввводите числа кождое с новой строки, для завершения введите 0')\n",
    "while(True):\n",
    "    num = int(input())\n",
    "    if(num == 0):\n",
    "        break\n",
    "    if(num%2 == 0):\n",
    "        count+=1\n",
    "count"
   ]
  },
  {
   "cell_type": "markdown",
   "metadata": {
    "colab_type": "text",
    "id": "kjZ5mZJPplji"
   },
   "source": [
    "### 11\n",
    "\n",
    "Напишите программу, которая формирует список игроков женской команды по футболу. Программа должна записывать возраст и пол претендента. Возраст должен запрашиваться после пола и только в том случае, если пол претендента женский. Если пол претендента мужской, программа должна сообщать о том, что он не подходит. Возраст претенденток должен быть от 18 до 35 лет. Если кандидат удовлетворяет требованиям, должно появляться соответствующее сообщение."
   ]
  },
  {
   "cell_type": "code",
   "execution_count": 14,
   "metadata": {
    "colab": {},
    "colab_type": "code",
    "id": "5Z7B5Ww4pljl"
   },
   "outputs": [
    {
     "name": "stdout",
     "output_type": "stream",
     "text": [
      "Ввводите претендентов в футбольную команду\n",
      "Введите пол м/ж, для завершения введите 0ж\n",
      "Введите возраст23\n",
      "Претендент записан в команду\n",
      "Введите пол м/ж, для завершения введите 0ж\n",
      "Введите возраст18\n",
      "Претендент записан в команду\n",
      "Введите пол м/ж, для завершения введите 0ж\n",
      "Введите возраст36\n",
      "Возраст не подходит\n",
      "Введите пол м/ж, для завершения введите 0м\n",
      "Претенденты мужского пола не подходят. Это женская команда!\n",
      "Введите пол м/ж, для завершения введите 00\n",
      "Команда [['ж', 23], ['ж', 18]]\n"
     ]
    }
   ],
   "source": [
    "team = []\n",
    "print('Ввводите претендентов в футбольную команду')\n",
    "while(True):\n",
    "    sex = input('Введите пол м/ж, для завершения введите 0')\n",
    "    if(sex == '0'):\n",
    "        break\n",
    "    elif(sex == 'м'):\n",
    "        print('Претенденты мужского пола не подходят. Это женская команда!')\n",
    "    else:\n",
    "        age = int(input('Введите возраст'))\n",
    "        if(18 <= age <= 25):\n",
    "            team.append([sex, age])\n",
    "            print('Претендент записан в команду')\n",
    "        else:\n",
    "            print('Возраст не подходит')\n",
    "print(f'Команда {team}')\n",
    "        "
   ]
  },
  {
   "cell_type": "markdown",
   "metadata": {
    "colab_type": "text",
    "id": "p2a5qXs9pljn"
   },
   "source": [
    "### 12\n",
    "\n",
    "\n",
    "Напишите программу, которая на вход получает максимальную ширину ромба и рисует его.\n",
    " \n",
    "Пример вывода для числа 5:\n",
    "```  \n",
    "  *\n",
    " ***\n",
    "*****\n",
    " ***\n",
    "  *```"
   ]
  },
  {
   "cell_type": "code",
   "execution_count": 31,
   "metadata": {
    "colab": {},
    "colab_type": "code",
    "id": "ic8b0VlVpljo"
   },
   "outputs": [
    {
     "name": "stdout",
     "output_type": "stream",
     "text": [
      "Введите ширину ромба: 11\n",
      "     *     \n",
      "    ***    \n",
      "   *****   \n",
      "  *******  \n",
      " ********* \n",
      "***********\n",
      " ********* \n",
      "  *******  \n",
      "   *****   \n",
      "    ***    \n",
      "     *     \n"
     ]
    }
   ],
   "source": [
    "n = int(input('Введите ширину ромба: '))\n",
    "s = '*'\n",
    "for i in range(1, n+1, 2):\n",
    "    print(f'{s*i: ^{n}}')\n",
    "for i in range(n-2, 0, -2):\n",
    "    print(f'{s*i: ^{n}}')"
   ]
  },
  {
   "cell_type": "markdown",
   "metadata": {
    "colab_type": "text",
    "id": "_8da7_bVpljq"
   },
   "source": [
    "### 13\n",
    "\n",
    "Напишите программу, которая запрашивает у пользователя сторону квадрата и символ, а затем рисует этот символ по диагоналям квадрата.\n",
    " \n",
    "Пример вывода для числа 5:\n",
    "```\n",
    " \n",
    "#   #\n",
    " # #\n",
    "  #  \n",
    " # #\n",
    "#   #\n",
    "```"
   ]
  },
  {
   "cell_type": "code",
   "execution_count": 12,
   "metadata": {
    "colab": {},
    "colab_type": "code",
    "id": "ihscl-aRpljq"
   },
   "outputs": [
    {
     "name": "stdout",
     "output_type": "stream",
     "text": [
      "Введите сторну квадрата: 7\n",
      "Введите символ#\n",
      "#     #\n",
      " #   # \n",
      "  # #  \n",
      "   #   \n",
      "  # #  \n",
      " #   # \n",
      "#     #\n"
     ]
    }
   ],
   "source": [
    "n = int(input('Введите сторну квадрата: '))\n",
    "s = input('Введите символ')\n",
    "for i in range(0, n):\n",
    "    for j in range(0, n):\n",
    "        if(i == j) | (n-i == j+1):\n",
    "            print(s, end='')\n",
    "        else:\n",
    "            print(' ', end = '')\n",
    "    print()"
   ]
  },
  {
   "cell_type": "markdown",
   "metadata": {
    "colab_type": "text",
    "id": "CQSZ-7LVpljs"
   },
   "source": [
    "### 14\n",
    "\n",
    "В корзине лежат шары. Если раскладывать их группами по 2, 3, 4, 5, 6, в корзине остается один шар. Если разложить по 7 шаров, то в корзине не останется ничего.  <br>\n",
    "Какое минимальное количество шаров находится в корзине?"
   ]
  },
  {
   "cell_type": "code",
   "execution_count": 15,
   "metadata": {
    "colab": {},
    "colab_type": "code",
    "id": "gonUr7CYpljt"
   },
   "outputs": [
    {
     "name": "stdout",
     "output_type": "stream",
     "text": [
      "6\n"
     ]
    }
   ],
   "source": [
    "ost = 0\n",
    "num = 7\n",
    "\n",
    "lst = [2, 3, 4, 5, 6]\n",
    "res=0\n",
    "for num_1 in lst:\n",
    "    for num_2 in lst:\n",
    "        if(num_1+num_2 == 6):\n",
    "            res = num_1+num_2\n",
    "            break\n",
    "    if res != 0: \n",
    "        break\n",
    "print(res)"
   ]
  },
  {
   "cell_type": "markdown",
   "metadata": {
    "colab_type": "text",
    "id": "hRdcAf23pljw"
   },
   "source": [
    "### 15\n",
    "\n",
    "Рабочие клеили обои на стены. Первую стену поклеили за M минут, а каждую следующую на 5 минут больше, чем предыдущую.\n",
    "Напишите программу, которая запрашивает сколько стен было в квартире под поклейку, а также время работы с первой стеной. Программа должна выводить, сколько **часов** рабочие потратили на поклейку обоев во всей квартире."
   ]
  },
  {
   "cell_type": "code",
   "execution_count": 7,
   "metadata": {
    "colab": {},
    "colab_type": "code",
    "id": "IpJDLsdWpljx"
   },
   "outputs": [
    {
     "name": "stdout",
     "output_type": "stream",
     "text": [
      "За сколько минут покрасим первую стенку:10\n",
      "Сколько стен в квартире:5\n",
      "100\n"
     ]
    }
   ],
   "source": [
    "M = int(input(\"За сколько минут покрасим первую стенку:\"))\n",
    "W = int(input(\"Сколько стен в квартире:\"))\n",
    "time = M\n",
    "for i in range(2, W+1):\n",
    "    time+=M+5*(i-1)\n",
    "print(time)"
   ]
  },
  {
   "cell_type": "markdown",
   "metadata": {
    "colab_type": "text",
    "id": "xumjalNLpljz"
   },
   "source": [
    "### 16\n",
    "\n",
    "Напишите программу, которая убирает из списка повторяющиеся элементы. Программа должна запрашивать на вход слова, каждое с новой строки, пока пользователь не введет пустую строку. Затем должна выводить список без повторяющихся элементов. "
   ]
  },
  {
   "cell_type": "code",
   "execution_count": 1,
   "metadata": {
    "colab": {},
    "colab_type": "code",
    "id": "tO5aW8lFpljz"
   },
   "outputs": [
    {
     "name": "stdout",
     "output_type": "stream",
     "text": [
      "Введите слово, для преклащения введите пустую строку: слон\n",
      "Введите слово, для преклащения введите пустую строку: кот\n",
      "Введите слово, для преклащения введите пустую строку: черепаха\n",
      "Введите слово, для преклащения введите пустую строку: кот\n",
      "Введите слово, для преклащения введите пустую строку: скунс\n",
      "Введите слово, для преклащения введите пустую строку: собака\n",
      "Введите слово, для преклащения введите пустую строку: черепаха\n",
      "Введите слово, для преклащения введите пустую строку: кит\n",
      "Введите слово, для преклащения введите пустую строку: кот\n",
      "Введите слово, для преклащения введите пустую строку: \n",
      "кот\n",
      "кот\n",
      "черепаха\n",
      "['слон', 'кот', 'черепаха', 'скунс', 'собака', 'кит']\n"
     ]
    }
   ],
   "source": [
    "words = []\n",
    "while(True):\n",
    "    str = input(\"Введите слово, для преклащения введите пустую строку: \")\n",
    "    if(str):\n",
    "        words.append(str)\n",
    "    else:\n",
    "        break\n",
    "\n",
    "for i,search_str in enumerate(words):\n",
    "    for j in range(len(words)-1, i+1, -1):\n",
    "        if(search_str == words[j]):\n",
    "            print(search_str)\n",
    "            del words[j]\n",
    "print(words)"
   ]
  },
  {
   "cell_type": "markdown",
   "metadata": {
    "colab_type": "text",
    "id": "fgVKtqi9plj2"
   },
   "source": [
    "### 17\n",
    "\n",
    "Напишите программу, которая выводит число пар одинаковых элементов в списке. Программа должна запрашивать на вход слова, каждое с новой строки, пока пользователь не введет пустую строку. "
   ]
  },
  {
   "cell_type": "code",
   "execution_count": 3,
   "metadata": {
    "colab": {},
    "colab_type": "code",
    "id": "oEhAs2MYplj3"
   },
   "outputs": [
    {
     "name": "stdout",
     "output_type": "stream",
     "text": [
      "Введите слово, для преклащения введите пустую строку: скунс\n",
      "Введите слово, для преклащения введите пустую строку: кот\n",
      "Введите слово, для преклащения введите пустую строку: кит\n",
      "Введите слово, для преклащения введите пустую строку: черепаха\n",
      "Введите слово, для преклащения введите пустую строку: скунс\n",
      "Введите слово, для преклащения введите пустую строку: кот\n",
      "Введите слово, для преклащения введите пустую строку: собака\n",
      "Введите слово, для преклащения введите пустую строку: кот\n",
      "Введите слово, для преклащения введите пустую строку: \n",
      "скунс скунс\n",
      "кот кот\n",
      "кот кот\n",
      "3\n"
     ]
    }
   ],
   "source": [
    "words = []\n",
    "while(True):\n",
    "    str = input(\"Введите слово, для преклащения введите пустую строку: \")\n",
    "    if(str):\n",
    "        words.append(str)\n",
    "    else:\n",
    "        break\n",
    "count_pairs = 0\n",
    "for i,search_str in enumerate(words):\n",
    "    for j in range(len(words)-1, i+1, -1):\n",
    "        if(search_str == words[j]):\n",
    "            print(search_str, words[j])\n",
    "            del words[j]\n",
    "            count_pairs+=1\n",
    "print(count_pairs)"
   ]
  },
  {
   "cell_type": "markdown",
   "metadata": {
    "colab_type": "text",
    "id": "XjjMpEvHplj7"
   },
   "source": [
    "### 18\n",
    "\n",
    "Будем считать, что кубик может иметь неограниченное количество граней (натуральное число). Напишите программу, которая запрашивает, сколько граней имеется у двух разных кубиков. Затем выводит все возможные комбинации результатов бросков двух таких кубиков. "
   ]
  },
  {
   "cell_type": "markdown",
   "metadata": {
    "colab_type": "text",
    "id": "PLsRu7Byplj7"
   },
   "source": []
  },
  {
   "cell_type": "code",
   "execution_count": 6,
   "metadata": {},
   "outputs": [
    {
     "name": "stdout",
     "output_type": "stream",
     "text": [
      "Введите число граней первого кубика: 4\n",
      "Введите число граней вторго кубика: 4\n",
      "1-1\n",
      "1-2\n",
      "1-3\n",
      "1-4\n",
      "2-1\n",
      "2-2\n",
      "2-3\n",
      "2-4\n",
      "3-1\n",
      "3-2\n",
      "3-3\n",
      "3-4\n",
      "4-1\n",
      "4-2\n",
      "4-3\n",
      "4-4\n"
     ]
    }
   ],
   "source": [
    "brink_1 = int(input(\"Введите число граней первого кубика: \"))\n",
    "brink_2 = int(input(\"Введите число граней вторго кубика: \"))\n",
    "for i in range(brink_1):\n",
    "    for j in range(brink_2):\n",
    "        print(f'{i+1}-{j+1}')"
   ]
  }
 ],
 "metadata": {
  "colab": {
   "name": "jun_anl_loops_and_ifs.ipynb",
   "provenance": [],
   "version": "0.3.2"
  },
  "kernelspec": {
   "display_name": "Python 3",
   "language": "python",
   "name": "python3"
  },
  "language_info": {
   "codemirror_mode": {
    "name": "ipython",
    "version": 3
   },
   "file_extension": ".py",
   "mimetype": "text/x-python",
   "name": "python",
   "nbconvert_exporter": "python",
   "pygments_lexer": "ipython3",
   "version": "3.7.3"
  }
 },
 "nbformat": 4,
 "nbformat_minor": 1
}
